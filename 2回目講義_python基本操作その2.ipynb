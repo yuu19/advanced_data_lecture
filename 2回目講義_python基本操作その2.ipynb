{
  "nbformat": 4,
  "nbformat_minor": 0,
  "metadata": {
    "colab": {
      "provenance": [],
      "include_colab_link": true
    },
    "kernelspec": {
      "name": "python3",
      "display_name": "Python 3"
    },
    "language_info": {
      "name": "python"
    }
  },
  "cells": [
    {
      "cell_type": "markdown",
      "metadata": {
        "id": "view-in-github",
        "colab_type": "text"
      },
      "source": [
        "<a href=\"https://colab.research.google.com/github/yuu19/advanced_data_lecture/blob/main/ADS_Weekly_Task2_kushida.ipynb\" target=\"_parent\"><img src=\"https://colab.research.google.com/assets/colab-badge.svg\" alt=\"Open In Colab\"/></a>"
      ]
    },
    {
      "cell_type": "markdown",
      "source": [
        "## Do not forget to make a copy before you start!\n",
        "\n",
        "## **<font color='crimson'> Deadline: 2023/05/10 23:59:59 </font>**\n",
        "\n"
      ],
      "metadata": {
        "id": "RctKQEpjTYYa"
      }
    },
    {
      "cell_type": "markdown",
      "source": [
        "## How to assign your weekly task to Google classroom\n",
        "\n",
        "- 1. Download the colab file using **'File - download - .ipynb'** in the menu bar.\n",
        "\n",
        "- 2. You will get a ipynb file in your local laptop, then upload the file to the Google Classroom.\n",
        "\n"
      ],
      "metadata": {
        "id": "4oR_ySp1TsZX"
      }
    },
    {
      "cell_type": "markdown",
      "source": [
        "###<font color='crimson'>[Task 1] Remove specific characters. </font>\n",
        "\n",
        "Create a function that takes in a string and returns a new string with all the vowels removed.\n",
        "\n",
        "- vowels <- 'aeiou'\n",
        "\n",
        "- e.g., input:`'I am a human'` -> output: `' m  hmn'`"
      ],
      "metadata": {
        "id": "_CgEHS17zxzh"
      }
    },
    {
      "cell_type": "code",
      "source": [
        "#Task 1\n",
        "\n",
        "def vowels_remove(s):\n",
        "  t = \" \"\n",
        "  for i in range(len(s)):\n",
        "    if s[i] == \"a\" or s[i] == \"i\" or s[i] == \"u\" or s[i] == \"e\" or s[i] == \"o\":\n",
        "      t += \" \"\n",
        "    else:\n",
        "      t += s[i]\n",
        "\n",
        "  return t\n",
        "\n",
        "s = input()\n",
        "t = vowels_remove(\"reeios\")\n",
        "print(t)"
      ],
      "metadata": {
        "id": "FYdijcf5zyKh",
        "outputId": "2df55a47-5c15-4b63-e7e3-49a437a5e9e6",
        "colab": {
          "base_uri": "https://localhost:8080/"
        }
      },
      "execution_count": null,
      "outputs": [
        {
          "output_type": "stream",
          "name": "stdout",
          "text": [
            " r    s\n"
          ]
        }
      ]
    },
    {
      "cell_type": "markdown",
      "source": [
        "###<font color='crimson'>[Task 2] Median</font>\n",
        "\n",
        "1. Input several numerical data as shown below.\n",
        "\n",
        "1. make a function that calculate the median of the numbers in the list.\n",
        "\n",
        "<font color='crimson' size=5>**note:**</font>\n",
        "\n",
        "- **Median**: The median is the middle number in a sorted, ascending or descending list of numbers and can be more descriptive of that data set than the average.\n",
        "\n",
        "- If there is an **odd** amount of numbers, the median value is the number that is in the middle, with the same amount of numbers below and above.\n",
        "\n",
        "- If there is an **even** amount of numbers in the list, the middle pair must be determined, added together, and divided by two to find the median value.\n",
        "\n",
        "<font color='crimson' size=5>**Do not use any modules for this task** (numpy, math, scipy, statistics, etc.)</font>"
      ],
      "metadata": {
        "id": "MtU4sTayooRy"
      }
    },
    {
      "cell_type": "code",
      "source": [
        "# HINT\n",
        "\n",
        "print('input several numbers seperated by space.')\n",
        "\n",
        "# e.g., 2 3 11.5\n",
        "a = input('')\n",
        "\n",
        "# you can split the numbers to a list use .split for a string.\n",
        "\n",
        "alist = a.split(' ')\n",
        "print(alist)"
      ],
      "metadata": {
        "colab": {
          "base_uri": "https://localhost:8080/"
        },
        "id": "rYlDbd96ozNp",
        "outputId": "d4b790e9-15be-490a-e37c-8106837a8677"
      },
      "execution_count": null,
      "outputs": [
        {
          "output_type": "stream",
          "name": "stdout",
          "text": [
            "input several numbers seperated by space.\n",
            "2 3 11.5\n",
            "['2', '3', '11.5']\n"
          ]
        }
      ]
    },
    {
      "cell_type": "code",
      "source": [
        "# Task 2\n",
        "\n",
        "alist = list(map(int, input().split())) #標準入力を受け取る\n",
        "\n",
        "def median_list(alist):\n",
        "  num = len(alist)\n",
        "  alist.sort()\n",
        "  if num % 2 == 0:\n",
        "    return (alist[num//2 -1] + alist[num//2]) / 2\n",
        "  else:\n",
        "    return alist[num//2 -1]\n"
      ],
      "metadata": {
        "id": "Kz3G_RD9pVZ1"
      },
      "execution_count": null,
      "outputs": []
    },
    {
      "cell_type": "markdown",
      "source": [
        "###<font color='crimson'>[Task 3] Extension of the ChatBot </font>\n",
        "\n",
        "Let's update our chatbot and make it a bit smarter.\n"
      ],
      "metadata": {
        "id": "ErmFcNrNXAmC"
      }
    },
    {
      "cell_type": "code",
      "source": [
        "def my_chatbot(x):\n",
        "  if 'What is your name?' in x:\n",
        "    return 'My name is Tohoku Taro.'\n",
        "  else:\n",
        "    return 'I do not understand.'\n"
      ],
      "metadata": {
        "id": "SMt0GYG6mB-S"
      },
      "execution_count": null,
      "outputs": []
    },
    {
      "cell_type": "markdown",
      "source": [
        "\n",
        "- To do:\n",
        "\n",
        "1. Let chatbot answer \"My name is Tohoku Taro.\" when your input text include string \"name\".\n",
        "\n",
        "1. Similar to the first task, if your input text contains string \"age\" or \"old\", let chatbot answer \"I am 1000 years old\".\n",
        "\n",
        "★ Challenge ★\n",
        "\n",
        "1. if your input text contains string \"age\" or \"old\", let chatbot ask in reply \"How old do I look?\".\n",
        "\n",
        "1. Then you then need to input a integer value (use `input()`).\n",
        "\n",
        "1. Chatbot will reply \"No, I'm younger than that.\" if your answer is bigger than 1000.\n",
        "\n",
        "1. Reply \"No, I'm older than that.\" if your answer is bigger than 1000.\n",
        "\n",
        "1. Otherwise reply \"Yes, I'm 1000 years old!\".\n",
        "\n",
        "1. Any other extensions based on your own interests!\n",
        "\n",
        "\n",
        "\n",
        "\n",
        "\n"
      ],
      "metadata": {
        "id": "AFzGs4iNmBJa"
      }
    },
    {
      "cell_type": "code",
      "source": [
        "# Task 3\n",
        "def my_chatbot_v2(x):\n",
        "  if \"name\" in x:\n",
        "    return \"My name is Tohoku Taro.\"\n",
        "  if  \"age\" or \"old\" in x:\n",
        "    return \"I am 1000 years old.\""
      ],
      "metadata": {
        "id": "ovrRh1VgSx6S"
      },
      "execution_count": null,
      "outputs": []
    },
    {
      "cell_type": "markdown",
      "source": [
        "###<font color='crimson'>[Task 4]Normal distribution</font>\n",
        "\n",
        "Here is the probability density function for normal distribution.\n",
        "\n",
        "$$\n",
        "y = f(x) = \\frac{1}{\\sqrt{2\\pi\\sigma^2}}exp\\left(-\\frac{(x-\\mu)^2}{2\\sigma^2}\\right),　　-\\infty < x < \\infty\n",
        "$$\n",
        "\n",
        "\n",
        "Make a function that has following inputs and output.\n",
        "\n",
        "input: $x$, $\\mu$, $\\sigma$\n",
        "\n",
        "output: y\n",
        "\n",
        "======================\n",
        "\n",
        "★ Challenge ★\n",
        "\n",
        "1. Making a numpy array or list variable $x$ of the equi-differential sequence divided into 100 equal parts from -5 to 10 use `np.linspace` showed in the lecture.\n",
        "\n",
        "1. Plot the probability densities in the two probability density distributions, $N(0,1)$ and $N(5,2)$, as shown in the figure below.\n",
        "\n",
        "<div align=\"center\">\n",
        "\n",
        "<img src=\"https://drive.google.com/uc?export=view&id=1C4KDTl8T_x5_ftiwHU5b-195DeeWJboy\" width=\"80%\">\n",
        "\n",
        "**Result**\n",
        "</div>"
      ],
      "metadata": {
        "id": "PhC_n53AZ-0X"
      }
    },
    {
      "cell_type": "code",
      "source": [
        "# Task 4\n",
        "import numpy as np\n",
        "import matplotlib.pyplot as plt\n",
        "\n",
        "\n",
        "def normal_pdf(x, mean=0, std_dev=1):\n",
        "    variance = std_dev ** 2\n",
        "    exp_part = np.exp(-(x - mean) ** 2 / (2 * variance))\n",
        "    coef = 1 / math.sqrt(2 * math.pi * variance)\n",
        "    return coef * exp_part\n",
        "\n",
        "# 描画範囲\n",
        "x = np.linspace(-5, 10, 2000)\n",
        "\n",
        "# 平均0、標準偏差1の正規分布のグラフを描画\n",
        "plt.plot(x, normal_pdf(x), label=\"N(0, 1^2)\")\n",
        "\n",
        "\n",
        "# 平均5、標準偏差2の正規分布のグラフを描画\n",
        "plt.plot(x, normal_pdf(x, mean=5, std_dev=2), label=\"N(5, 2^2)\")\n",
        "\n",
        "# グラフの設定\n",
        "plt.title(\"Normal Distribution\")\n",
        "plt.xlabel(\"x\")\n",
        "plt.ylabel(\"pdf(x)\")\n",
        "plt.legend()\n",
        "\n",
        "# グラフを表示\n",
        "plt.show()"
      ],
      "metadata": {
        "id": "JqjdXyP8E5w6",
        "colab": {
          "base_uri": "https://localhost:8080/",
          "height": 472
        },
        "outputId": "2db3d6d0-6ed4-4ce2-de99-8695374beb7d"
      },
      "execution_count": null,
      "outputs": [
        {
          "output_type": "display_data",
          "data": {
            "text/plain": [
              "<Figure size 640x480 with 1 Axes>"
            ],
            "image/png": "[encoded data removed]"
          },
          "metadata": {}
        }
      ]
    }
  ]
}
