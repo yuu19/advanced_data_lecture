{
  "nbformat": 4,
  "nbformat_minor": 0,
  "metadata": {
    "colab": {
      "provenance": [],
      "toc_visible": true,
      "include_colab_link": true
    },
    "kernelspec": {
      "name": "python3",
      "display_name": "Python 3"
    },
    "language_info": {
      "name": "python"
    }
  },
  "cells": [
    {
      "cell_type": "markdown",
      "metadata": {
        "id": "view-in-github",
        "colab_type": "text"
      },
      "source": [
        "<a href=\"https://colab.research.google.com/github/yuu19/advanced_data_lecture/blob/main/Chap_1_Applied_DataScience.ipynb\" target=\"_parent\"><img src=\"https://colab.research.google.com/assets/colab-badge.svg\" alt=\"Open In Colab\"/></a>"
      ]
    },
    {
      "cell_type": "markdown",
      "source": [
        "# Ver 1.0\n",
        "\n",
        "About version：The version is 1.0 when released in the google classroom and it will be updated if there are any changes."
      ],
      "metadata": {
        "id": "sorFGO_ISkrX"
      }
    },
    {
      "cell_type": "markdown",
      "source": [
        "#<font color=\"Crimson\">Introduction</font>\n"
      ],
      "metadata": {
        "id": "UfmCvt_Wz4hQ"
      }
    },
    {
      "cell_type": "markdown",
      "source": [
        "Once you copy the material to your own driver, you are able to edit and execute your codes.\n",
        "\n",
        "<div align=\"center\">\n",
        "<img src=\"https://drive.google.com/uc?export=view&id=18yiBMv4q9zX-kF3Uu5TV75nsrp8cDllv\" width=\"60%\">\n",
        "</div>"
      ],
      "metadata": {
        "id": "6rsJ0cJ-jT35"
      }
    },
    {
      "cell_type": "markdown",
      "source": [
        "# <font color='crimson'>Comments and questions</font>\n",
        "\n",
        "- We can directly comment in this page（<font color='crimson'>Not the file you duplicate in your own driver.</font>）\n",
        "\n",
        "- yinxing.li.a8 at tohoku.ac.jp"
      ],
      "metadata": {
        "id": "SSXZrJFMbDME"
      }
    },
    {
      "cell_type": "markdown",
      "source": [
        "#1. <font color='crimson'>python basics</font>\n",
        "\n",
        "**Highlight of this class**：\n",
        "\n",
        "- execute python\n",
        "\n",
        "- basic calculations\n",
        "\n",
        "- type\n",
        "\n",
        "- variable\n",
        "\n",
        "- loop and if"
      ],
      "metadata": {
        "id": "I7eyvF2v1ICU"
      }
    },
    {
      "cell_type": "markdown",
      "source": [
        "##1.1 <font color='crimson'>python basics</font>"
      ],
      "metadata": {
        "id": "3jewIGaR2QgD"
      }
    },
    {
      "cell_type": "markdown",
      "source": [
        "###<font color='crimson'>print()</font>"
      ],
      "metadata": {
        "id": "yMsEyccE6LIl"
      }
    },
    {
      "cell_type": "markdown",
      "source": [
        "You can print anything you want use `print()` in python."
      ],
      "metadata": {
        "id": "UspdOsPO3ftK"
      }
    },
    {
      "cell_type": "code",
      "source": [
        "print(3)"
      ],
      "metadata": {
        "colab": {
          "base_uri": "https://localhost:8080/"
        },
        "id": "2UXnwvF-34W9",
        "outputId": "8597c9b7-4883-43e1-db4c-2dac561757a0"
      },
      "execution_count": null,
      "outputs": [
        {
          "output_type": "stream",
          "name": "stdout",
          "text": [
            "3\n"
          ]
        }
      ]
    },
    {
      "cell_type": "markdown",
      "source": [
        "Note that the last line will be automatically printed on Google Colab even without print."
      ],
      "metadata": {
        "id": "ezu7Q7Pj36gt"
      }
    },
    {
      "cell_type": "code",
      "source": [
        "3"
      ],
      "metadata": {
        "colab": {
          "base_uri": "https://localhost:8080/"
        },
        "id": "XjM1DKjX358Z",
        "outputId": "e05415ea-621e-4190-b0fa-14384a427535"
      },
      "execution_count": null,
      "outputs": [
        {
          "output_type": "execute_result",
          "data": {
            "text/plain": [
              "3"
            ]
          },
          "metadata": {},
          "execution_count": 3
        }
      ]
    },
    {
      "cell_type": "markdown",
      "source": [
        "But only last line will be printed as shown below. So it is better to constantly use print when you need to see any outputs."
      ],
      "metadata": {
        "id": "y1Xf2RDY4e9-"
      }
    },
    {
      "cell_type": "code",
      "source": [
        "5\n",
        "3"
      ],
      "metadata": {
        "colab": {
          "base_uri": "https://localhost:8080/"
        },
        "id": "F3XfAyPu50nu",
        "outputId": "167910f2-7cb9-4455-c9bb-85cbd7a3bc26"
      },
      "execution_count": null,
      "outputs": [
        {
          "output_type": "execute_result",
          "data": {
            "text/plain": [
              "3"
            ]
          },
          "metadata": {},
          "execution_count": 4
        }
      ]
    },
    {
      "cell_type": "code",
      "source": [
        "print(5)\n",
        "print(3)"
      ],
      "metadata": {
        "colab": {
          "base_uri": "https://localhost:8080/"
        },
        "id": "lB6Dr1bS57-Z",
        "outputId": "420ddaf3-3bc9-4197-ea0f-2e158b584271"
      },
      "execution_count": null,
      "outputs": [
        {
          "output_type": "stream",
          "name": "stdout",
          "text": [
            "5\n",
            "3\n"
          ]
        }
      ]
    },
    {
      "cell_type": "markdown",
      "source": [
        "###<font color='crimson'>Simple calculation</font>"
      ],
      "metadata": {
        "id": "rxjnDEbx6HaG"
      }
    },
    {
      "cell_type": "markdown",
      "source": [
        "You can do simple calculation using  + - * /."
      ],
      "metadata": {
        "id": "3StO6Rk29urx"
      }
    },
    {
      "cell_type": "code",
      "source": [
        "print(5 + 3 * 2)\n",
        "print(3 - 5)\n",
        "print(2 * 2)\n",
        "print(4 / 2)"
      ],
      "metadata": {
        "colab": {
          "base_uri": "https://localhost:8080/"
        },
        "id": "eJA-Nc7I9ve7",
        "outputId": "838059d0-5963-404d-defe-d6c809edad22"
      },
      "execution_count": null,
      "outputs": [
        {
          "output_type": "stream",
          "name": "stdout",
          "text": [
            "11\n",
            "-2\n",
            "4\n",
            "2.0\n"
          ]
        }
      ]
    },
    {
      "cell_type": "markdown",
      "source": [
        "###<font color='crimson'>exponent, remainder, parentheses</font>"
      ],
      "metadata": {
        "id": "FkVcwLZp-Fu5"
      }
    },
    {
      "cell_type": "markdown",
      "source": [
        "The exponent calculation can be applied by using **.\n",
        "\n",
        "Example： $4^2$"
      ],
      "metadata": {
        "id": "qprRnwfL-yKA"
      }
    },
    {
      "cell_type": "code",
      "source": [
        "print(4 ** 2)"
      ],
      "metadata": {
        "colab": {
          "base_uri": "https://localhost:8080/"
        },
        "id": "UGicHZgf-E7I",
        "outputId": "ef07d50e-0fcb-4b58-964a-39331d657571"
      },
      "execution_count": null,
      "outputs": [
        {
          "output_type": "stream",
          "name": "stdout",
          "text": [
            "16\n"
          ]
        }
      ]
    },
    {
      "cell_type": "markdown",
      "source": [
        "Remainder can be calculated using %.\n",
        "\n",
        "Example: The remainder of 5 divided by 2."
      ],
      "metadata": {
        "id": "xG5wHz5M_-G-"
      }
    },
    {
      "cell_type": "code",
      "source": [
        "print(5 % 2)"
      ],
      "metadata": {
        "colab": {
          "base_uri": "https://localhost:8080/"
        },
        "id": "_Dfe0eRMAB9H",
        "outputId": "1ebd8aee-9a7a-4dd8-a9ce-ded411a6fb97"
      },
      "execution_count": null,
      "outputs": [
        {
          "output_type": "stream",
          "name": "stdout",
          "text": [
            "1\n"
          ]
        }
      ]
    },
    {
      "cell_type": "markdown",
      "source": [
        "Also, as with formulas, the order of calculations can be controlled with parentheses."
      ],
      "metadata": {
        "id": "VO9s9JJmAP0o"
      }
    },
    {
      "cell_type": "code",
      "source": [
        "print(5 + 3 * 2)\n",
        "print((5 + 3) * 2)"
      ],
      "metadata": {
        "colab": {
          "base_uri": "https://localhost:8080/"
        },
        "id": "AzEiBUAHAqLC",
        "outputId": "bac48935-ad8e-4ab9-88a3-3fdaf9e64787"
      },
      "execution_count": null,
      "outputs": [
        {
          "output_type": "stream",
          "name": "stdout",
          "text": [
            "11\n",
            "16\n"
          ]
        }
      ]
    },
    {
      "cell_type": "code",
      "source": [],
      "metadata": {
        "id": "1GblH2qrf37K"
      },
      "execution_count": null,
      "outputs": []
    },
    {
      "cell_type": "markdown",
      "source": [
        "###<font color='crimson'>[Practice 1]First code (5 mins)</font>\n",
        "\n",
        "1. calculate $(5-2)^2 + \\frac{3+2}{3}$.\n",
        "\n",
        "2. Print the remainder of 53 divided to 21 to the power of 4."
      ],
      "metadata": {
        "id": "zgSXLYNUR55Y"
      }
    },
    {
      "cell_type": "code",
      "source": [
        "( 5 - 2) ** 2 + (3+2)/3"
      ],
      "metadata": {
        "id": "rSMpO0c5Qs1l",
        "colab": {
          "base_uri": "https://localhost:8080/"
        },
        "outputId": "e6d2c7bb-1d31-4aca-fa89-9cec7aeb99dd"
      },
      "execution_count": null,
      "outputs": [
        {
          "output_type": "execute_result",
          "data": {
            "text/plain": [
              "10.666666666666666"
            ]
          },
          "metadata": {},
          "execution_count": 10
        }
      ]
    },
    {
      "cell_type": "code",
      "source": [
        "(53 % 21) ** 4"
      ],
      "metadata": {
        "colab": {
          "base_uri": "https://localhost:8080/"
        },
        "id": "nWTP8WQZf3Os",
        "outputId": "0bb49aaa-1e44-4a18-9f8b-388ee1318aba"
      },
      "execution_count": null,
      "outputs": [
        {
          "output_type": "execute_result",
          "data": {
            "text/plain": [
              "14641"
            ]
          },
          "metadata": {},
          "execution_count": 14
        }
      ]
    },
    {
      "cell_type": "markdown",
      "source": [
        "##1.2 <font color='crimson'>Data type</font>\n",
        "\n",
        "We only use numerical data before, but there are more data types in python.\n",
        "\n",
        "\n",
        "We learn\n",
        "\n",
        "- numerical data\n",
        "\n",
        "- string data\n",
        "\n",
        "- list\n",
        "\n",
        "in this lectur. There are more data types in python such as `set`, `dict`, we will learn them if necessary in the future.\n"
      ],
      "metadata": {
        "id": "15hzfeAmBZ5v"
      }
    },
    {
      "cell_type": "markdown",
      "source": [
        "###<font color='crimson'>Boolean</font>\n",
        "000101010101010101010\n",
        "\n",
        "\n",
        "Boolean is the simplest data type in python. It only has two possible values - `True` and `False`."
      ],
      "metadata": {
        "id": "LyqcZALML84F"
      }
    },
    {
      "cell_type": "code",
      "source": [
        "print(True)\n",
        "print(False)"
      ],
      "metadata": {
        "colab": {
          "base_uri": "https://localhost:8080/"
        },
        "id": "IH5jYDhqNtVe",
        "outputId": "6cf004fd-4b6a-465f-9e12-ce5698da7871"
      },
      "execution_count": null,
      "outputs": [
        {
          "output_type": "stream",
          "name": "stdout",
          "text": [
            "True\n",
            "False\n"
          ]
        }
      ]
    },
    {
      "cell_type": "code",
      "source": [
        "5 < 3"
      ],
      "metadata": {
        "id": "bpIAZIltRGYM",
        "colab": {
          "base_uri": "https://localhost:8080/"
        },
        "outputId": "7aab0fc4-8505-4db3-e407-11fcdc4944d7"
      },
      "execution_count": null,
      "outputs": [
        {
          "output_type": "execute_result",
          "data": {
            "text/plain": [
              "False"
            ]
          },
          "metadata": {},
          "execution_count": 16
        }
      ]
    },
    {
      "cell_type": "markdown",
      "source": [
        "###<font color='crimson'>Numeric type</font>\n",
        "\n",
        "We mainly use numeric type in this lecture. There are **integer** types and **float** types."
      ],
      "metadata": {
        "id": "d5u9JwcZC_tB"
      }
    },
    {
      "cell_type": "code",
      "source": [
        "print(1)\n",
        "print(1.5)\n",
        "print(-3)\n",
        "print(1e-6)"
      ],
      "metadata": {
        "colab": {
          "base_uri": "https://localhost:8080/"
        },
        "id": "ZpsBavS1DQgo",
        "outputId": "5cf7fa95-e349-4ed3-c1e4-1b9e5681342e"
      },
      "execution_count": null,
      "outputs": [
        {
          "output_type": "stream",
          "name": "stdout",
          "text": [
            "1\n",
            "1.5\n",
            "-3\n",
            "1e-06\n"
          ]
        }
      ]
    },
    {
      "cell_type": "markdown",
      "source": [
        "###<font color='crimson'>String</font>\n",
        "\n",
        "String types are also available, you need to use '', or \"\" to enclose the characters."
      ],
      "metadata": {
        "id": "ETaDoL0SD3cY"
      }
    },
    {
      "cell_type": "code",
      "source": [
        "print('dog')\n",
        "print(\"hoge\")"
      ],
      "metadata": {
        "colab": {
          "base_uri": "https://localhost:8080/"
        },
        "id": "-IFntYivEC-M",
        "outputId": "4f075db2-880e-4d32-d517-1fffe48eabad"
      },
      "execution_count": null,
      "outputs": [
        {
          "output_type": "stream",
          "name": "stdout",
          "text": [
            "dog\n",
            "hoge\n"
          ]
        }
      ]
    },
    {
      "cell_type": "markdown",
      "source": [
        "There are no any differences between ' and \"."
      ],
      "metadata": {
        "id": "_HUfvbSHEkWG"
      }
    },
    {
      "cell_type": "code",
      "source": [
        "print(\"'dog'\")\n",
        "print('\"hoge\"')"
      ],
      "metadata": {
        "colab": {
          "base_uri": "https://localhost:8080/"
        },
        "id": "bbVw4BiDEGqv",
        "outputId": "ca367870-571f-4d48-9895-83e4c9c4527a"
      },
      "execution_count": null,
      "outputs": [
        {
          "output_type": "stream",
          "name": "stdout",
          "text": [
            "'dog'\n",
            "\"hoge\"\n"
          ]
        }
      ]
    },
    {
      "cell_type": "markdown",
      "source": [
        "You can concatenate the strings use `+`."
      ],
      "metadata": {
        "id": "p20uOdHYGBOY"
      }
    },
    {
      "cell_type": "code",
      "source": [
        "\"I'm \" + 'learning ' + 'programming'"
      ],
      "metadata": {
        "colab": {
          "base_uri": "https://localhost:8080/",
          "height": 36
        },
        "id": "yyAX9LFJGFZA",
        "outputId": "8d538140-9055-434d-def1-ad2f40000775"
      },
      "execution_count": null,
      "outputs": [
        {
          "output_type": "execute_result",
          "data": {
            "text/plain": [
              "\"I'm learning programming\""
            ],
            "application/vnd.google.colaboratory.intrinsic+json": {
              "type": "string"
            }
          },
          "metadata": {},
          "execution_count": 3
        }
      ]
    },
    {
      "cell_type": "markdown",
      "source": [
        "Basically, Operations between different types cannot be performed."
      ],
      "metadata": {
        "id": "_oRVxQO6GRBq"
      }
    },
    {
      "cell_type": "code",
      "source": [
        "'1' + 2"
      ],
      "metadata": {
        "colab": {
          "base_uri": "https://localhost:8080/",
          "height": 173
        },
        "id": "6jcGJCibGYt9",
        "outputId": "b0d58f42-62fa-4d17-c355-8c50b4329f63"
      },
      "execution_count": null,
      "outputs": [
        {
          "output_type": "error",
          "ename": "TypeError",
          "evalue": "ignored",
          "traceback": [
            "\u001b[0;31m---------------------------------------------------------------------------\u001b[0m",
            "\u001b[0;31mTypeError\u001b[0m                                 Traceback (most recent call last)",
            "\u001b[0;32m<ipython-input-24-20b2518fe802>\u001b[0m in \u001b[0;36m<cell line: 1>\u001b[0;34m()\u001b[0m\n\u001b[0;32m----> 1\u001b[0;31m \u001b[0;34m'1'\u001b[0m \u001b[0;34m+\u001b[0m \u001b[0;36m2\u001b[0m\u001b[0;34m\u001b[0m\u001b[0;34m\u001b[0m\u001b[0m\n\u001b[0m",
            "\u001b[0;31mTypeError\u001b[0m: can only concatenate str (not \"int\") to str"
          ]
        }
      ]
    },
    {
      "cell_type": "markdown",
      "source": [
        "Though it is possible to print them together by separating them with commas when printing."
      ],
      "metadata": {
        "id": "BSS-zNSvG0um"
      }
    },
    {
      "cell_type": "code",
      "source": [
        "print('There are', 30, 'people.')"
      ],
      "metadata": {
        "colab": {
          "base_uri": "https://localhost:8080/"
        },
        "id": "nEihVOQ6HBII",
        "outputId": "93b28cbb-1dda-4ff0-b4ac-9b68b88e68e0"
      },
      "execution_count": null,
      "outputs": [
        {
          "output_type": "stream",
          "name": "stdout",
          "text": [
            "There are 30 people.\n"
          ]
        }
      ]
    },
    {
      "cell_type": "markdown",
      "source": [
        "###<font color='crimson'>Annotation(comment)</font>\n",
        "\n",
        "By adding \\# in front of the code, the code will not be executed."
      ],
      "metadata": {
        "id": "VX0xCrkuFNhy"
      }
    },
    {
      "cell_type": "code",
      "source": [
        "print('a') # This is just a comment."
      ],
      "metadata": {
        "id": "lfvJaFuaE1kH",
        "colab": {
          "base_uri": "https://localhost:8080/"
        },
        "outputId": "bb74cb08-13da-4b8d-e0a4-2cf2c69ae6ca"
      },
      "execution_count": null,
      "outputs": [
        {
          "output_type": "stream",
          "name": "stdout",
          "text": [
            "a\n"
          ]
        }
      ]
    },
    {
      "cell_type": "markdown",
      "source": [
        "Codes enclosed in ''' ''' are also annotations."
      ],
      "metadata": {
        "id": "dx_7csatFjYn"
      }
    },
    {
      "cell_type": "code",
      "source": [
        "'''\n",
        "====== These are all comments =====\n",
        "print('444')\n",
        "'''\n",
        "\n",
        "print('333')"
      ],
      "metadata": {
        "colab": {
          "base_uri": "https://localhost:8080/"
        },
        "id": "Tu24vE95FoiN",
        "outputId": "d81e0d93-e30d-47b9-ba0f-6b7c1f9de99c"
      },
      "execution_count": null,
      "outputs": [
        {
          "output_type": "stream",
          "name": "stdout",
          "text": [
            "333\n"
          ]
        }
      ]
    },
    {
      "cell_type": "markdown",
      "source": [
        "###<font color='crimson'>list</font>\n",
        "\n",
        "Lastly, 。`list()` is a very flexible data type"
      ],
      "metadata": {
        "id": "IW_QG17sHuZx"
      }
    },
    {
      "cell_type": "code",
      "source": [
        "[1, 2, 3, 4]"
      ],
      "metadata": {
        "colab": {
          "base_uri": "https://localhost:8080/"
        },
        "id": "UFlmnn5WHl3N",
        "outputId": "3f3672e5-ca0a-4dc7-c459-7bac2b2a2612"
      },
      "execution_count": null,
      "outputs": [
        {
          "output_type": "execute_result",
          "data": {
            "text/plain": [
              "[1, 2, 3, 4]"
            ]
          },
          "metadata": {},
          "execution_count": 28
        }
      ]
    },
    {
      "cell_type": "markdown",
      "source": [
        "Differnt types of elemtn are available in the same list."
      ],
      "metadata": {
        "id": "BLZnEoPPINCP"
      }
    },
    {
      "cell_type": "code",
      "source": [
        "[1, 'abc', 'fff', [2,3]]"
      ],
      "metadata": {
        "colab": {
          "base_uri": "https://localhost:8080/"
        },
        "id": "N51IMohLISdj",
        "outputId": "e3b0a488-651b-48a0-ab1d-1e36ffbf2c50"
      },
      "execution_count": null,
      "outputs": [
        {
          "output_type": "execute_result",
          "data": {
            "text/plain": [
              "[1, 'abc', 'fff', [2, 3]]"
            ]
          },
          "metadata": {},
          "execution_count": 29
        }
      ]
    },
    {
      "cell_type": "markdown",
      "source": [
        "The other features will be introduced after the section **variable**."
      ],
      "metadata": {
        "id": "_tR8SuilIYZU"
      }
    },
    {
      "cell_type": "markdown",
      "source": [
        "<a name='type_change'></a>\n",
        "###<font color='crimson'>convert data type</font>\n",
        "\n",
        "You can easily convert between `numeric` and `string` data."
      ],
      "metadata": {
        "id": "xbAyxLXgbY-l"
      }
    },
    {
      "cell_type": "code",
      "source": [
        "# use str() to convert the numeric data to string data.\n",
        "str(32)"
      ],
      "metadata": {
        "colab": {
          "base_uri": "https://localhost:8080/",
          "height": 35
        },
        "id": "Tlj54yL9bjnq",
        "outputId": "3603e838-823a-405e-9b78-b8ba3461014f"
      },
      "execution_count": null,
      "outputs": [
        {
          "output_type": "execute_result",
          "data": {
            "text/plain": [
              "'32'"
            ],
            "application/vnd.google.colaboratory.intrinsic+json": {
              "type": "string"
            }
          },
          "metadata": {},
          "execution_count": 53
        }
      ]
    },
    {
      "cell_type": "code",
      "source": [
        "# string to numeric\n",
        "\n",
        "# to integer using int()\n",
        "int('32')"
      ],
      "metadata": {
        "colab": {
          "base_uri": "https://localhost:8080/"
        },
        "id": "Y5wir101b0Hy",
        "outputId": "2f54ad9e-eb14-4bcf-c0b0-347fd8988d80"
      },
      "execution_count": null,
      "outputs": [
        {
          "output_type": "execute_result",
          "data": {
            "text/plain": [
              "32"
            ]
          },
          "metadata": {},
          "execution_count": 54
        }
      ]
    },
    {
      "cell_type": "code",
      "source": [
        "# float() real numeric\n",
        "float('32')"
      ],
      "metadata": {
        "colab": {
          "base_uri": "https://localhost:8080/"
        },
        "id": "akSgSJoscAB5",
        "outputId": "49433a01-145c-4106-b5bc-6dac6ccb6819"
      },
      "execution_count": null,
      "outputs": [
        {
          "output_type": "execute_result",
          "data": {
            "text/plain": [
              "32.0"
            ]
          },
          "metadata": {},
          "execution_count": 55
        }
      ]
    },
    {
      "cell_type": "markdown",
      "source": [
        "##1.3 <font color='crimson'>Variable</font>\n",
        "\n",
        "We learn one of the important elements **Variable** in this section. By defining the **variable**, it becomes much more flexible when programming.\n"
      ],
      "metadata": {
        "id": "E5UcQlqeIm-O"
      }
    },
    {
      "cell_type": "markdown",
      "source": [
        "###<font color='crimson'>How to use variables</font>\n",
        "\n",
        "We define the variable <font color='crimson'>`a`</font> below."
      ],
      "metadata": {
        "id": "zOcRFXO7JjYc"
      }
    },
    {
      "cell_type": "code",
      "source": [
        "a = 2\n",
        "print(a)\n",
        "a == 1"
      ],
      "metadata": {
        "id": "wGhek1cmIzj2",
        "colab": {
          "base_uri": "https://localhost:8080/"
        },
        "outputId": "16ffb91f-e06f-4b8b-e2b4-d8dbd9c82325"
      },
      "execution_count": null,
      "outputs": [
        {
          "output_type": "stream",
          "name": "stdout",
          "text": [
            "2\n"
          ]
        },
        {
          "output_type": "execute_result",
          "data": {
            "text/plain": [
              "False"
            ]
          },
          "metadata": {},
          "execution_count": 22
        }
      ]
    },
    {
      "cell_type": "markdown",
      "source": [
        "Note that it doesn't mean <font color='crimson'>a is equal to 1</font>.\n",
        "\n",
        "It means <font color='crimson'>assigning 1 to a</font>.\n",
        "\n"
      ],
      "metadata": {
        "id": "z3MMUxw5LwWG"
      }
    },
    {
      "cell_type": "code",
      "source": [
        "a = 2\n",
        "print(a)\n",
        "a = 3\n",
        "print(a)"
      ],
      "metadata": {
        "colab": {
          "base_uri": "https://localhost:8080/"
        },
        "id": "aHCYFgy-LvGE",
        "outputId": "faebe12a-bfaa-4a24-827a-dd04e8126f9b"
      },
      "execution_count": null,
      "outputs": [
        {
          "output_type": "stream",
          "name": "stdout",
          "text": [
            "2\n",
            "3\n"
          ]
        }
      ]
    },
    {
      "cell_type": "markdown",
      "source": [
        "Operations among **multiple variables** are also available."
      ],
      "metadata": {
        "id": "XaTaPZcxJyOg"
      }
    },
    {
      "cell_type": "markdown",
      "source": [
        "- Calculations among numeric data."
      ],
      "metadata": {
        "id": "LkgZlNKKTyQ5"
      }
    },
    {
      "cell_type": "code",
      "source": [
        "a = 3\n",
        "b = 4\n",
        "c = a + a * b\n",
        "print(c)"
      ],
      "metadata": {
        "colab": {
          "base_uri": "https://localhost:8080/"
        },
        "id": "jt1QWdoCJvl2",
        "outputId": "4959c69a-3006-44cc-9e8d-a856685ce1ec"
      },
      "execution_count": null,
      "outputs": [
        {
          "output_type": "stream",
          "name": "stdout",
          "text": [
            "15\n"
          ]
        }
      ]
    },
    {
      "cell_type": "markdown",
      "source": [
        "- Operations among the string."
      ],
      "metadata": {
        "id": "Rmlkk4NyT0Cn"
      }
    },
    {
      "cell_type": "code",
      "source": [
        "a = 'Hello'\n",
        "b = 'World'\n",
        "print(a + ' ' + b)"
      ],
      "metadata": {
        "colab": {
          "base_uri": "https://localhost:8080/"
        },
        "id": "rcNPii8YTkqT",
        "outputId": "9ece9c78-8e67-425f-bb4c-818c54266267"
      },
      "execution_count": null,
      "outputs": [
        {
          "output_type": "stream",
          "name": "stdout",
          "text": [
            "Hello World\n"
          ]
        }
      ]
    },
    {
      "cell_type": "markdown",
      "source": [
        "- list\n",
        "\n",
        "In python, elements are counted from 0.\n",
        "For example, if a = [0, 1, 2], the first element can be taken out by a[0]."
      ],
      "metadata": {
        "id": "fU_cX0E7elqU"
      }
    },
    {
      "cell_type": "code",
      "source": [
        "a = [1,2, 3, 4, 5]\n",
        "\n",
        "print(a[0]) # First element\n",
        "print(a[1:3]) # [1, 3)\n",
        "print(a[:2])  # [First, 2)\n",
        "print(a[2:])  # [2, end)\n"
      ],
      "metadata": {
        "colab": {
          "base_uri": "https://localhost:8080/"
        },
        "id": "aMH0p61memu-",
        "outputId": "d20c4b24-97dc-4dae-90b5-34746eb20841"
      },
      "execution_count": null,
      "outputs": [
        {
          "output_type": "stream",
          "name": "stdout",
          "text": [
            "1\n",
            "[2, 3]\n",
            "[1, 2]\n",
            "[3, 4, 5]\n"
          ]
        }
      ]
    },
    {
      "cell_type": "markdown",
      "source": [
        "- append\n",
        "\n",
        "You can use`append` or + to append elements or list to target list."
      ],
      "metadata": {
        "id": "Dj9GWbM5Xpqc"
      }
    },
    {
      "cell_type": "code",
      "source": [
        "a = [] # create an empty list.\n",
        "\n",
        "a.append(2) # append element 2 to the list\n",
        "print(a)\n",
        "\n",
        "a = a + [3] # tips: a += [3,4]\n",
        "print(a)"
      ],
      "metadata": {
        "colab": {
          "base_uri": "https://localhost:8080/"
        },
        "id": "Nr35VYiQYAaS",
        "outputId": "37226984-1172-4576-8d39-c44806d82a3a"
      },
      "execution_count": null,
      "outputs": [
        {
          "output_type": "stream",
          "name": "stdout",
          "text": [
            "[2]\n",
            "[2, 3]\n"
          ]
        }
      ]
    },
    {
      "cell_type": "markdown",
      "source": [
        "###<font color='crimson'>Rules for Variable Definitions</font>\n",
        "\n",
        "In defining variables, there are several rules.\n",
        "\n",
        "- Composed of a ～ z , A ～ Z , 0 ～ 9 , underbar(_)\n",
        "\n",
        "- Can not start from number 0~9.\n",
        "\n",
        "- distinguish between upper and lower case letters\n",
        "\n",
        "- Not to use the reserved variable names are (list, set, etc.）"
      ],
      "metadata": {
        "id": "P9_MDBVKWRIE"
      }
    },
    {
      "cell_type": "code",
      "source": [
        "# Correct cases\n",
        "\n",
        "a = 4\n",
        "a2 = 5\n",
        "a_1 = 3\n",
        "_a = 3 # Start from underbar is OK, but it is often used in the special cases."
      ],
      "metadata": {
        "id": "ZBAWA8hoWeye"
      },
      "execution_count": null,
      "outputs": []
    },
    {
      "cell_type": "code",
      "source": [
        "# Wrong cases\n",
        "1a = 3 # Start from number\n",
        "f+ = 2 # use +\n",
        "list = 3 # reserved variable name"
      ],
      "metadata": {
        "colab": {
          "base_uri": "https://localhost:8080/",
          "height": 137
        },
        "id": "GlICrZfmXeOF",
        "outputId": "c4f5cc79-a119-4806-83e2-9a56fa904567"
      },
      "execution_count": null,
      "outputs": [
        {
          "output_type": "error",
          "ename": "SyntaxError",
          "evalue": "ignored",
          "traceback": [
            "\u001b[0;36m  File \u001b[0;32m\"<ipython-input-44-a46e2dced164>\"\u001b[0;36m, line \u001b[0;32m2\u001b[0m\n\u001b[0;31m    1a = 3\u001b[0m\n\u001b[0m     ^\u001b[0m\n\u001b[0;31mSyntaxError\u001b[0m\u001b[0;31m:\u001b[0m invalid syntax\n"
          ]
        }
      ]
    },
    {
      "cell_type": "code",
      "source": [],
      "metadata": {
        "colab": {
          "base_uri": "https://localhost:8080/",
          "height": 35
        },
        "id": "kv6mKE4RjaW8",
        "outputId": "5e14f5fc-915b-41ed-df5b-40a3f69576ac"
      },
      "execution_count": null,
      "outputs": [
        {
          "output_type": "execute_result",
          "data": {
            "text/plain": [
              "'3'"
            ],
            "application/vnd.google.colaboratory.intrinsic+json": {
              "type": "string"
            }
          },
          "metadata": {},
          "execution_count": 25
        }
      ]
    },
    {
      "cell_type": "markdown",
      "source": [
        "###<font color='crimson'>input()</font>\n",
        "\n",
        "Up to this point, operations have been performed with numbers prepared in advance, but now let's use `input()` to give data to a variable."
      ],
      "metadata": {
        "id": "s_AmXjLzajQs"
      }
    },
    {
      "cell_type": "code",
      "source": [
        "print('Please input a')\n",
        "a = input()\n",
        "print('a is',a)"
      ],
      "metadata": {
        "colab": {
          "base_uri": "https://localhost:8080/"
        },
        "id": "VPWkFkHLa-vN",
        "outputId": "e5a3ecd9-2bc5-4611-a3be-c6c2d6d77fbf"
      },
      "execution_count": null,
      "outputs": [
        {
          "output_type": "stream",
          "name": "stdout",
          "text": [
            "Please input a\n",
            "Hello world\n",
            "a is Hello world\n"
          ]
        }
      ]
    },
    {
      "cell_type": "markdown",
      "source": [
        "Note that the data entered with input() is always of string type, so if you want numerical data, [type conversion](#type_change) is required."
      ],
      "metadata": {
        "id": "Azu63pfocUFB"
      }
    },
    {
      "cell_type": "code",
      "source": [
        "print('Please input a')\n",
        "a = float(input())\n",
        "print('Please input b')\n",
        "b = float(input())\n",
        "\n",
        "print('a+b is', a+b)"
      ],
      "metadata": {
        "colab": {
          "base_uri": "https://localhost:8080/"
        },
        "id": "ZRRy-BlSai7o",
        "outputId": "5800f0ca-e941-4a84-c454-dc5d6fea9035"
      },
      "execution_count": null,
      "outputs": [
        {
          "output_type": "stream",
          "name": "stdout",
          "text": [
            "Please input a\n",
            "2.5\n",
            "Please input b\n",
            "3\n",
            "a+b is 5.5\n"
          ]
        }
      ]
    },
    {
      "cell_type": "markdown",
      "source": [
        "###<font color='crimson'>[Practice 2]Programming practice(10 mins)</font>\n",
        "\n",
        "We have learned calculation, data type and variable so far.\n",
        "\n",
        "Try to make some codes whatever you like\n",
        "\n",
        "You can also ask questions in this time."
      ],
      "metadata": {
        "id": "F2DxS1UpZkod"
      }
    },
    {
      "cell_type": "code",
      "source": [
        "# Try your code here\n",
        "\n",
        "# Example: Input three numerical variables a, b, c, and compute (a+b)^c\n",
        "\n"
      ],
      "metadata": {
        "id": "pZpA1nh0Xxsa"
      },
      "execution_count": null,
      "outputs": []
    },
    {
      "cell_type": "markdown",
      "source": [
        "##1.4 <font color='crimson'>Loop</font>\n",
        "\n",
        "This section introduces one of the strengths of programming: iterative processing - loop.\n",
        "\n",
        "You will often need to repeatedly perform calculations, and it will be several steps easier if you use an iterative structure using `for` loop."
      ],
      "metadata": {
        "id": "xG0JkQ1lfvG1"
      }
    },
    {
      "cell_type": "markdown",
      "source": [
        "###<font color='crimson'>range</font>"
      ],
      "metadata": {
        "id": "Lx0eaZmJNnIq"
      }
    },
    {
      "cell_type": "markdown",
      "source": [
        "Before introduce the `for` loop, you'd better understand `range()`, which is often used with `for` together.\n"
      ],
      "metadata": {
        "id": "n39wADb3gU7W"
      }
    },
    {
      "cell_type": "code",
      "source": [
        "range(5)"
      ],
      "metadata": {
        "colab": {
          "base_uri": "https://localhost:8080/"
        },
        "id": "C0-YvnmUgR9f",
        "outputId": "1049cc8e-84fc-4902-faad-81d49e3e0c6c"
      },
      "execution_count": null,
      "outputs": [
        {
          "output_type": "execute_result",
          "data": {
            "text/plain": [
              "range(0, 5)"
            ]
          },
          "metadata": {},
          "execution_count": 61
        }
      ]
    },
    {
      "cell_type": "markdown",
      "source": [
        "if we convert to list,"
      ],
      "metadata": {
        "id": "_xY4_TcSgeEA"
      }
    },
    {
      "cell_type": "code",
      "source": [
        "list(range(5))"
      ],
      "metadata": {
        "colab": {
          "base_uri": "https://localhost:8080/"
        },
        "id": "1ACj67FPgcx8",
        "outputId": "b41fa8b4-8529-4b25-9529-a9078f3fb615"
      },
      "execution_count": null,
      "outputs": [
        {
          "output_type": "execute_result",
          "data": {
            "text/plain": [
              "[0, 1, 2, 3, 4]"
            ]
          },
          "metadata": {},
          "execution_count": 63
        }
      ]
    },
    {
      "cell_type": "markdown",
      "source": [
        "It means range(3) create a list from [0,3) with integer elements."
      ],
      "metadata": {
        "id": "LNT8T6A6gi2t"
      }
    },
    {
      "cell_type": "markdown",
      "source": [
        "Here, assuming you need to print integers from 0 to 5."
      ],
      "metadata": {
        "id": "XdzBdA8Ygv-y"
      }
    },
    {
      "cell_type": "code",
      "source": [
        "print(0)\n",
        "print(1)\n",
        "print(2)\n",
        "print(3)\n",
        "print(4)\n",
        "print(5)\n"
      ],
      "metadata": {
        "colab": {
          "base_uri": "https://localhost:8080/"
        },
        "id": "wJVlR-8wgiFY",
        "outputId": "34b1b25f-e357-44d7-c536-7cd435535f10"
      },
      "execution_count": null,
      "outputs": [
        {
          "output_type": "stream",
          "name": "stdout",
          "text": [
            "0\n",
            "1\n",
            "2\n",
            "3\n",
            "4\n",
            "5\n"
          ]
        }
      ]
    },
    {
      "cell_type": "markdown",
      "source": [
        "It is not really convinient to write the code this way. You can print from 0 to 5, but it will cost lots of time if the task is print from 0 to 100. So we use `for` loop instead as shown below."
      ],
      "metadata": {
        "id": "XoTqiYo2hAZz"
      }
    },
    {
      "cell_type": "code",
      "source": [
        "for i in range(6):\n",
        "  print(i)"
      ],
      "metadata": {
        "colab": {
          "base_uri": "https://localhost:8080/"
        },
        "id": "wChOdgasg_Cs",
        "outputId": "6c5f28ac-dafc-4c17-ce8e-51bdc2901817"
      },
      "execution_count": null,
      "outputs": [
        {
          "output_type": "stream",
          "name": "stdout",
          "text": [
            "0\n",
            "1\n",
            "2\n",
            "3\n",
            "4\n",
            "5\n"
          ]
        }
      ]
    },
    {
      "cell_type": "markdown",
      "source": [
        "We will analyze this. The first line, for, is a declaration of a repeating statement. Then the last range(6) is the repeating entity. Also, i appears, which is the variable to be assigned the number to be repeated each time.\n",
        "\n",
        "For example, range(6) consists of [0, 1, 2, 3, 4, 5], and assigns the first element, 0, to i for the first iteration. So i=0, and print(i) prints 0. The same principle is used in the next loop, where i=1, and the mechanism is to print from 0 in turn."
      ],
      "metadata": {
        "id": "b5in7X48hS3N"
      }
    },
    {
      "cell_type": "markdown",
      "source": [
        "It will be very easy to print from 0 to 100 if we use `for`."
      ],
      "metadata": {
        "id": "sv4wkF9ziXoE"
      }
    },
    {
      "cell_type": "code",
      "source": [
        "for x in range(101):\n",
        "  print(x)"
      ],
      "metadata": {
        "colab": {
          "base_uri": "https://localhost:8080/"
        },
        "id": "ndCUyeMAiRUD",
        "outputId": "e4ccb308-c9b9-4047-d193-a43b85d1591e"
      },
      "execution_count": null,
      "outputs": [
        {
          "output_type": "stream",
          "name": "stdout",
          "text": [
            "0\n",
            "1\n",
            "2\n",
            "3\n",
            "4\n",
            "5\n",
            "6\n",
            "7\n",
            "8\n",
            "9\n",
            "10\n",
            "11\n",
            "12\n",
            "13\n",
            "14\n",
            "15\n",
            "16\n",
            "17\n",
            "18\n",
            "19\n",
            "20\n",
            "21\n",
            "22\n",
            "23\n",
            "24\n",
            "25\n",
            "26\n",
            "27\n",
            "28\n",
            "29\n",
            "30\n",
            "31\n",
            "32\n",
            "33\n",
            "34\n",
            "35\n",
            "36\n",
            "37\n",
            "38\n",
            "39\n",
            "40\n",
            "41\n",
            "42\n",
            "43\n",
            "44\n",
            "45\n",
            "46\n",
            "47\n",
            "48\n",
            "49\n",
            "50\n",
            "51\n",
            "52\n",
            "53\n",
            "54\n",
            "55\n",
            "56\n",
            "57\n",
            "58\n",
            "59\n",
            "60\n",
            "61\n",
            "62\n",
            "63\n",
            "64\n",
            "65\n",
            "66\n",
            "67\n",
            "68\n",
            "69\n",
            "70\n",
            "71\n",
            "72\n",
            "73\n",
            "74\n",
            "75\n",
            "76\n",
            "77\n",
            "78\n",
            "79\n",
            "80\n",
            "81\n",
            "82\n",
            "83\n",
            "84\n",
            "85\n",
            "86\n",
            "87\n",
            "88\n",
            "89\n",
            "90\n",
            "91\n",
            "92\n",
            "93\n",
            "94\n",
            "95\n",
            "96\n",
            "97\n",
            "98\n",
            "99\n",
            "100\n"
          ]
        }
      ]
    },
    {
      "cell_type": "markdown",
      "source": [
        "The for statement is formed by aligning the columns and ends when the columns are returned."
      ],
      "metadata": {
        "id": "ZZ7WPdZHilWd"
      }
    },
    {
      "cell_type": "code",
      "source": [
        "for i in range(5):\n",
        "  b = i * 2  # Start the for statement\n",
        "  ###\n",
        "  ###\n",
        "  print(b)   #　end of the for statement\n",
        "\n",
        "print('for statement is over')"
      ],
      "metadata": {
        "colab": {
          "base_uri": "https://localhost:8080/"
        },
        "id": "cNJAdRiDikrM",
        "outputId": "e2e4143e-00b0-4b44-ee18-a9523c2be1ef"
      },
      "execution_count": null,
      "outputs": [
        {
          "output_type": "stream",
          "name": "stdout",
          "text": [
            "0\n",
            "2\n",
            "4\n",
            "6\n",
            "8\n",
            "for statement is over\n"
          ]
        }
      ]
    },
    {
      "cell_type": "markdown",
      "source": [
        "You can apply multiple for loops together."
      ],
      "metadata": {
        "id": "n0oOxmrGjeC_"
      }
    },
    {
      "cell_type": "code",
      "source": [
        "for i in range(3):\n",
        "  for j in range(3):\n",
        "    print(i, '*', j, '=', i*j)"
      ],
      "metadata": {
        "colab": {
          "base_uri": "https://localhost:8080/"
        },
        "id": "6n_7QPfiji47",
        "outputId": "41a30727-6dd3-4b8d-eddf-91bbeda15952"
      },
      "execution_count": null,
      "outputs": [
        {
          "output_type": "stream",
          "name": "stdout",
          "text": [
            "0 * 0 = 0\n",
            "0 * 1 = 0\n",
            "0 * 2 = 0\n",
            "1 * 0 = 0\n",
            "1 * 1 = 1\n",
            "1 * 2 = 2\n",
            "2 * 0 = 0\n",
            "2 * 1 = 2\n",
            "2 * 2 = 4\n"
          ]
        }
      ]
    },
    {
      "cell_type": "markdown",
      "source": [
        "Also, you can use list instead of range."
      ],
      "metadata": {
        "id": "0nFRFeA_kkFe"
      }
    },
    {
      "cell_type": "code",
      "source": [
        "a = [1, 'hello', 2]\n",
        "for i in a:\n",
        "  print(i)"
      ],
      "metadata": {
        "colab": {
          "base_uri": "https://localhost:8080/"
        },
        "id": "ZkIH2ArfkpCP",
        "outputId": "0898d574-b4d5-492d-97b1-2e30345a55e9"
      },
      "execution_count": null,
      "outputs": [
        {
          "output_type": "stream",
          "name": "stdout",
          "text": [
            "1\n",
            "hello\n",
            "2\n"
          ]
        }
      ]
    },
    {
      "cell_type": "markdown",
      "source": [
        "##1.5 <font color='crimson'>if(conditional branching)</font>\n",
        "\n",
        "Another important aspect of programming is conditional branching.\n",
        "Conditional branching works by executing code only if certain conditions are met. The `if` statement is used for its use."
      ],
      "metadata": {
        "id": "cRcH94qIlmaq"
      }
    },
    {
      "cell_type": "code",
      "source": [
        "a = 5\n",
        "if a > 3:\n",
        "  print('This number is bigger than 3.')\n",
        "\n",
        "if a > 10:\n",
        "  print('This number is bigger than 5.')"
      ],
      "metadata": {
        "colab": {
          "base_uri": "https://localhost:8080/"
        },
        "id": "-P7xhJo3meUE",
        "outputId": "4d6f9f95-5666-414c-af65-8ab3986c0dca"
      },
      "execution_count": null,
      "outputs": [
        {
          "output_type": "stream",
          "name": "stdout",
          "text": [
            "This number is bigger than 3.\n"
          ]
        }
      ]
    },
    {
      "cell_type": "markdown",
      "source": [
        "Besides,<font color='crimson'> >, >=, <, <=, == </font> can be used for comparison."
      ],
      "metadata": {
        "id": "7TO9U1p2mqj3"
      }
    },
    {
      "cell_type": "code",
      "source": [
        "print('Please input a number.')\n",
        "a = int(input())\n",
        "if a == 3:\n",
        "  print('This number is 3.')"
      ],
      "metadata": {
        "colab": {
          "base_uri": "https://localhost:8080/"
        },
        "id": "I5wyKyRxmkMB",
        "outputId": "99a2834a-9558-43fc-c24f-713bd650706a"
      },
      "execution_count": null,
      "outputs": [
        {
          "output_type": "stream",
          "name": "stdout",
          "text": [
            "Please input a number.\n",
            "3\n",
            "This number is 3.\n"
          ]
        }
      ]
    },
    {
      "cell_type": "markdown",
      "source": [
        "###<font color='crimson'>else, elif</font>"
      ],
      "metadata": {
        "id": "gh6IY6piNAYR"
      }
    },
    {
      "cell_type": "markdown",
      "source": [
        "By inserting \"else\", the code can be shown in case the condition is not satisfied."
      ],
      "metadata": {
        "id": "TVLZYcXynE15"
      }
    },
    {
      "cell_type": "code",
      "source": [
        "print('Please input a number.')\n",
        "a = float(input())\n",
        "if a == 3:\n",
        "  print('This number is 3.')\n",
        "else:\n",
        "  print('This number is not 3.')"
      ],
      "metadata": {
        "colab": {
          "base_uri": "https://localhost:8080/"
        },
        "id": "I8fUXGhCnEkc",
        "outputId": "6930372a-832f-496f-f503-d48e75953ad1"
      },
      "execution_count": null,
      "outputs": [
        {
          "output_type": "stream",
          "name": "stdout",
          "text": [
            "Please input a number.\n",
            "4\n",
            "This number is not 3.\n"
          ]
        }
      ]
    },
    {
      "cell_type": "markdown",
      "source": [
        "Further more, you can use `elif` for multiple  conditions."
      ],
      "metadata": {
        "id": "7irnD7fjnX1M"
      }
    },
    {
      "cell_type": "code",
      "source": [
        "print('Please input a number.')\n",
        "a = float(input())\n",
        "\n",
        "if a < 3:\n",
        "  print('This number is smaller than 3.')\n",
        "elif a < 5:\n",
        "  print('This number is bigger than 3 but smaller than 5.')\n",
        "else:\n",
        "  print('This number is equal or bigger than 5.')"
      ],
      "metadata": {
        "colab": {
          "base_uri": "https://localhost:8080/"
        },
        "id": "0twr9iW9nc3C",
        "outputId": "936b4eac-36e6-48e4-f204-02186b62daf9"
      },
      "execution_count": null,
      "outputs": [
        {
          "output_type": "stream",
          "name": "stdout",
          "text": [
            "Please input a number.\n",
            "4\n",
            "This number is bigger than 3 but smaller than 5.\n"
          ]
        }
      ]
    },
    {
      "cell_type": "markdown",
      "source": [
        "###<font color='crimson'>and, or, not</font>"
      ],
      "metadata": {
        "id": "hARK8ywnLazC"
      }
    },
    {
      "cell_type": "markdown",
      "source": [
        "- not: It means a reversal of the condition."
      ],
      "metadata": {
        "id": "l90iSwUlMPc5"
      }
    },
    {
      "cell_type": "code",
      "source": [
        "print('Please input a number.')\n",
        "a = float(input())\n",
        "\n",
        "if not a >= 5: # the same as if a < 5\n",
        "  print('This number is smaller than 5.')"
      ],
      "metadata": {
        "colab": {
          "base_uri": "https://localhost:8080/"
        },
        "id": "KhxmnnMKLn5C",
        "outputId": "d4ad225e-a6b3-40fc-f883-43de0737235a"
      },
      "execution_count": null,
      "outputs": [
        {
          "output_type": "stream",
          "name": "stdout",
          "text": [
            "Please input a number.\n",
            "4\n",
            "This number is smaller than 5.\n"
          ]
        }
      ]
    },
    {
      "cell_type": "markdown",
      "source": [
        "- and: Multiple conditions must be met in their entirety."
      ],
      "metadata": {
        "id": "k4r-YgOaNFhp"
      }
    },
    {
      "cell_type": "code",
      "source": [
        "print('Please input a number.')\n",
        "a = float(input())\n",
        "\n",
        "if a > 5 and a < 10:\n",
        "  print('This number is bigger than 5 and smaller than 10.')"
      ],
      "metadata": {
        "colab": {
          "base_uri": "https://localhost:8080/"
        },
        "id": "OaSsxcVpMm3p",
        "outputId": "2c1eafe8-b665-4b7f-e210-8f0892dcb1c7"
      },
      "execution_count": null,
      "outputs": [
        {
          "output_type": "stream",
          "name": "stdout",
          "text": [
            "Please input a number.\n",
            "7.3\n",
            "This number is bigger than 5 and smaller than 10.\n"
          ]
        }
      ]
    },
    {
      "cell_type": "markdown",
      "source": [
        "- or:One of the conditions must be satisfied."
      ],
      "metadata": {
        "id": "MhcDaBk7O3_s"
      }
    },
    {
      "cell_type": "code",
      "source": [
        "print('Please input a number.')\n",
        "a = float(input())\n",
        "\n",
        "if a > 5 or a < 3:\n",
        "  print('This number is bigger than 5, or smaller than 3.')\n"
      ],
      "metadata": {
        "id": "NZvkeXjUMjJc",
        "colab": {
          "base_uri": "https://localhost:8080/"
        },
        "outputId": "fdb65ee7-81ee-4572-aee0-e1c7cef82dda"
      },
      "execution_count": null,
      "outputs": [
        {
          "output_type": "stream",
          "name": "stdout",
          "text": [
            "Please input a number.\n",
            "-2.3\n",
            "This number is bigger than 5, or smaller than 3.\n"
          ]
        }
      ]
    }
  ]
}