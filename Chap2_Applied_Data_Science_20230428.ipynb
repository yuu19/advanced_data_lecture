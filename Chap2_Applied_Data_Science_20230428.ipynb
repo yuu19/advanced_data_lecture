{
  "nbformat": 4,
  "nbformat_minor": 0,
  "metadata": {
    "colab": {
      "provenance": [],
      "toc_visible": true,
      "include_colab_link": true
    },
    "kernelspec": {
      "name": "python3",
      "display_name": "Python 3"
    },
    "language_info": {
      "name": "python"
    }
  },
  "cells": [
    {
      "cell_type": "markdown",
      "metadata": {
        "id": "view-in-github",
        "colab_type": "text"
      },
      "source": [
        "<a href=\"https://colab.research.google.com/github/yuu19/advanced_data_lecture/blob/main/Chap2_Applied_Data_Science_20230428.ipynb\" target=\"_parent\"><img src=\"https://colab.research.google.com/assets/colab-badge.svg\" alt=\"Open In Colab\"/></a>"
      ]
    },
    {
      "cell_type": "markdown",
      "source": [
        "# Ver 1.0\n",
        "\n",
        "About version：The version is 1.0 when released in the google classroom and it will be updated if there are any changes."
      ],
      "metadata": {
        "id": "OUW8-9uQsURM"
      }
    },
    {
      "cell_type": "markdown",
      "source": [
        "#2. <font color='crimson'>python Basics（２）</font>\n",
        "\n",
        "**Today's Highlight**：\n",
        "\n",
        "- **function** in python\n",
        "\n",
        "- **module** in python\n",
        "\n"
      ],
      "metadata": {
        "id": "I7eyvF2v1ICU"
      }
    },
    {
      "cell_type": "markdown",
      "source": [
        "##2.1 <font color='crimson'>function in python</font>\n",
        "\n",
        "Many programs are used more than once. The **FUNCTION** is a useful tool that not only increases the readability of your programming, but also saves you from having to code multiple times for the same process."
      ],
      "metadata": {
        "id": "WSmcSIdED0mL"
      }
    },
    {
      "cell_type": "markdown",
      "source": [
        "First, please look at solving the following assignment, which also serves as a programming review of what you learned in the previous session.\n"
      ],
      "metadata": {
        "id": "EGuo_n1kZPy0"
      }
    },
    {
      "cell_type": "markdown",
      "source": [
        "###<font color='crimson'>[Practice 1] Review (5 mins)</font>\n",
        "\n",
        "Given three lists $a$,$b$,$c$（e.g., `a = [1, 2, 3, 4]`, `b = [3, 5, 6, 8, 10]`, `c = [3, 2, -3]`)\n",
        "\n",
        "\n",
        "For each list, create a code that prints the elements in the list, with odd numbers doubled and minus two times for even numbers.\n"
      ],
      "metadata": {
        "id": "zgSXLYNUR55Y"
      }
    },
    {
      "cell_type": "code",
      "source": [
        "a = [1, 2, 3, 4]\n",
        "b = [3, 5, 6, 8, 10]\n",
        "c = [3, 2, -3]\n",
        "\n",
        "# Write your code from here\n",
        "\n",
        "for i in a:\n",
        "  if i % 2 == 0:\n",
        "    print (i * 2)\n",
        "  else:\n",
        "    print(i * (-2) )\n",
        "\n",
        "for i in b:\n",
        "  if i % 2 == 0:\n",
        "    print (i * 2)\n",
        "  else:\n",
        "    print(i * (-2) )\n",
        "\n",
        "for i in c:\n",
        "  if i % 2 == 0:\n",
        "    print (i * 2)\n",
        "  else:\n",
        "    print(i * (-2) )"
      ],
      "metadata": {
        "id": "rSMpO0c5Qs1l",
        "colab": {
          "base_uri": "https://localhost:8080/"
        },
        "outputId": "3f798d2a-fde1-4676-842c-a58c590b8414"
      },
      "execution_count": null,
      "outputs": [
        {
          "output_type": "stream",
          "name": "stdout",
          "text": [
            "-2\n",
            "4\n",
            "-6\n",
            "8\n",
            "-6\n",
            "-10\n",
            "12\n",
            "16\n",
            "20\n",
            "-6\n",
            "4\n",
            "6\n"
          ]
        }
      ]
    },
    {
      "cell_type": "markdown",
      "source": [
        "###<font color='crimson'>function</font>\n"
      ],
      "metadata": {
        "id": "2eewnEiOkfO8"
      }
    },
    {
      "cell_type": "markdown",
      "source": [
        "If there were more lists, the code would be less readable and the same code would have to be written many times. So we use **function** in these cases.\n",
        "\n",
        "The following code shows a very basic function in python."
      ],
      "metadata": {
        "id": "_fBvcLHQcIRn"
      }
    },
    {
      "cell_type": "code",
      "source": [
        "# First function\n",
        "# A function that doubles the input numeric data.\n",
        "\n",
        "def my_function(x):\n",
        "  y = x ** 2\n",
        "  return y"
      ],
      "metadata": {
        "id": "nMLqalLKZO56"
      },
      "execution_count": null,
      "outputs": []
    },
    {
      "cell_type": "code",
      "source": [
        "def test(x):\n",
        "  z = x ** 2\n",
        "  return z"
      ],
      "metadata": {
        "id": "BQ6TW-z4izez"
      },
      "execution_count": null,
      "outputs": []
    },
    {
      "cell_type": "code",
      "source": [
        "print(test(5))\n",
        "print(test(10))"
      ],
      "metadata": {
        "colab": {
          "base_uri": "https://localhost:8080/"
        },
        "id": "GHOZU6UUjHd8",
        "outputId": "185fd6f8-9dc4-4e16-a608-3dc09bf09bea"
      },
      "execution_count": null,
      "outputs": [
        {
          "output_type": "stream",
          "name": "stdout",
          "text": [
            "10\n",
            "20\n"
          ]
        }
      ]
    },
    {
      "cell_type": "markdown",
      "source": [
        "where\n",
        "\n",
        "- <font color='crimson'>`def`</font>: **declaim** the function\n",
        "\n",
        "- <font color='crimson'>`my_function`</font>: **name** of the function.\n",
        "\n",
        "- <font color='crimson'>`x`</font>: input variable(s)\n",
        "\n",
        "- <font color='crimson'>`return y`</font>: output variable(s)\n",
        "\n",
        "Functions are basically used when you want to input something and find the output for it.\n",
        "\n",
        "This function can be interpreted as $f(x) = y = x^2$.\n",
        "\n",
        "After executing the function above, this function can be used any number of times."
      ],
      "metadata": {
        "id": "clBgBYNicpQF"
      }
    },
    {
      "cell_type": "code",
      "source": [
        "y1 = my_function(x=50)\n",
        "y2 = my_function(x=-2)\n",
        "print(y1, y2)"
      ],
      "metadata": {
        "colab": {
          "base_uri": "https://localhost:8080/"
        },
        "id": "FggoOZcJfebm",
        "outputId": "1a83bc42-92ba-41f4-86b5-cbd06762bb80"
      },
      "execution_count": null,
      "outputs": [
        {
          "output_type": "stream",
          "name": "stdout",
          "text": [
            "2500 4\n"
          ]
        }
      ]
    },
    {
      "cell_type": "markdown",
      "source": [
        "Multiple input values can also be specified.\n",
        "\n",
        "For example, $f(x, z) = y = x^z$ can be written as follows"
      ],
      "metadata": {
        "id": "zsdegt_kfcsr"
      }
    },
    {
      "cell_type": "code",
      "source": [
        "def my_function2(x, z):\n",
        "  y = x ** z\n",
        "  return y\n",
        "\n",
        "print(my_function2(5,2))"
      ],
      "metadata": {
        "id": "4iRZq-j2cozP",
        "colab": {
          "base_uri": "https://localhost:8080/"
        },
        "outputId": "bebd5e00-891b-4f97-afce-38539d530e3c"
      },
      "execution_count": null,
      "outputs": [
        {
          "output_type": "stream",
          "name": "stdout",
          "text": [
            "25\n"
          ]
        }
      ]
    },
    {
      "cell_type": "markdown",
      "source": [
        "Also, it is also possible to return **multiple outputs**."
      ],
      "metadata": {
        "id": "flCozYzW4JIJ"
      }
    },
    {
      "cell_type": "code",
      "source": [
        "def my_function3(x, z):\n",
        "  y1 = x ** z # x^z\n",
        "  y2 = z ** x # z^x\n",
        "  return y1, y2\n",
        "\n",
        "y1, y2 = my_function3(x=3, z=5)\n",
        "print(y1, y2)"
      ],
      "metadata": {
        "colab": {
          "base_uri": "https://localhost:8080/"
        },
        "id": "TGT1C38u4MVJ",
        "outputId": "a9e79129-726a-4829-c1d0-01d35da1891a"
      },
      "execution_count": null,
      "outputs": [
        {
          "output_type": "stream",
          "name": "stdout",
          "text": [
            "243 125\n"
          ]
        }
      ]
    },
    {
      "cell_type": "code",
      "source": [
        "y = my_function3(3,5)\n",
        "print(y[0], y[1])"
      ],
      "metadata": {
        "colab": {
          "base_uri": "https://localhost:8080/"
        },
        "id": "6MGIxM0zHbHP",
        "outputId": "f1bd85d6-1009-4346-af5c-bcba993e5c73"
      },
      "execution_count": null,
      "outputs": [
        {
          "output_type": "stream",
          "name": "stdout",
          "text": [
            "243 125\n"
          ]
        }
      ]
    },
    {
      "cell_type": "markdown",
      "source": [
        "<font color='crimson'>Notes：</font>\n",
        "\n",
        "- The `return` is not mandatory.\n",
        "\n",
        "You can ignore `return` if you don't want any outputs.\n"
      ],
      "metadata": {
        "id": "1kaRcquwipZa"
      }
    },
    {
      "cell_type": "code",
      "source": [
        "# function 1\n",
        "def print_func(x):\n",
        "  if x > 10:\n",
        "    print('x is bigger than 10.')\n",
        "  else:\n",
        "    print('x is not bigger than 10.')\n",
        "\n",
        "\n",
        "print_func(11)\n"
      ],
      "metadata": {
        "colab": {
          "base_uri": "https://localhost:8080/"
        },
        "id": "TcLh0D9NjA4J",
        "outputId": "6e30e6a4-0a76-4f10-b7d6-fb82c821ee03"
      },
      "execution_count": null,
      "outputs": [
        {
          "output_type": "stream",
          "name": "stdout",
          "text": [
            "x is bigger than 10.\n"
          ]
        }
      ]
    },
    {
      "cell_type": "markdown",
      "source": [
        "- If you don't need input values, you can leave the ()'s blank."
      ],
      "metadata": {
        "id": "FEBgaX1q0iqg"
      }
    },
    {
      "cell_type": "code",
      "source": [
        "# function 2\n",
        "def print_func():\n",
        "  print('Please input a numeric data.')\n",
        "  x = float(input())\n",
        "  if x > 10:\n",
        "    print('x is bigger than 10.')\n",
        "  else:\n",
        "    print('x is not bigger than 10.')\n",
        "\n",
        "print_func()"
      ],
      "metadata": {
        "colab": {
          "base_uri": "https://localhost:8080/"
        },
        "id": "IPcxYT9j0qne",
        "outputId": "55ce8166-0ee5-4038-8853-3838b1bfba77"
      },
      "execution_count": null,
      "outputs": [
        {
          "output_type": "stream",
          "name": "stdout",
          "text": [
            "Please input a numeric data.\n",
            "12\n",
            "x is bigger than 10.\n"
          ]
        }
      ]
    },
    {
      "cell_type": "markdown",
      "source": [
        "- The `return` declaration terminates the function.\n",
        "\n"
      ],
      "metadata": {
        "id": "sbpYOs4hkad_"
      }
    },
    {
      "cell_type": "code",
      "source": [
        "def my_function2(x, z):\n",
        "  y = x ** z\n",
        "  return y\n",
        "  print(\"This line won't be executed.\")\n",
        "\n",
        "print(my_function2(3, 4))"
      ],
      "metadata": {
        "colab": {
          "base_uri": "https://localhost:8080/"
        },
        "id": "b_cTryv9mo5U",
        "outputId": "e88d3079-7ae5-4cda-d56b-4f9aeb582e2e"
      },
      "execution_count": null,
      "outputs": [
        {
          "output_type": "stream",
          "name": "stdout",
          "text": [
            "81\n"
          ]
        }
      ]
    },
    {
      "cell_type": "markdown",
      "source": [
        "###<font color='crimson'>Initial value of function</font>\n",
        "\n",
        "Functions can be set to an initial value. If no input is provided, the initial value is used.\n"
      ],
      "metadata": {
        "id": "PRuGlqwFY9ZW"
      }
    },
    {
      "cell_type": "code",
      "source": [
        "def my_function(x=3, z=2):\n",
        "  y = x ** z\n",
        "  return y\n",
        "\n",
        "print(my_function())    # No any inputs\n",
        "print(my_function(x=6)) # One input\n",
        "print(my_function(z=3)) # One input\n",
        "print(my_function(2,1)) # Omit variable names. In that case, they are assigned in order."
      ],
      "metadata": {
        "colab": {
          "base_uri": "https://localhost:8080/"
        },
        "id": "GHC98OfKaRlu",
        "outputId": "c7292591-7995-4673-e71b-d80ae2bd030a"
      },
      "execution_count": null,
      "outputs": [
        {
          "output_type": "stream",
          "name": "stdout",
          "text": [
            "9\n",
            "36\n",
            "27\n",
            "2\n"
          ]
        }
      ]
    },
    {
      "cell_type": "markdown",
      "source": [
        "Notes:\n",
        "\n",
        "- Initial value specifications must be right-justified."
      ],
      "metadata": {
        "id": "konLOdQYfKA-"
      }
    },
    {
      "cell_type": "code",
      "source": [
        "# OK\n",
        "def my_function(x, z=2):\n",
        "  y = x ** z\n",
        "  return y\n",
        "\n",
        "# NG\n",
        "#def my_function(x=3, z):\n",
        "#  y = x ** z\n",
        "#  return y"
      ],
      "metadata": {
        "id": "heF_O7b6b7Qm"
      },
      "execution_count": null,
      "outputs": []
    },
    {
      "cell_type": "markdown",
      "source": [
        "- Simple Chatbot"
      ],
      "metadata": {
        "id": "Llq1lXpjR9D5"
      }
    },
    {
      "cell_type": "markdown",
      "source": [
        "\n",
        "\n",
        "\\begin{equation}\n",
        " f(x)= \\left \\{\n",
        " \\begin{array}{l}\\text{My name is Tohoku Taro.} (x=\\text{What is your name?}） \\\\\n",
        "\\text{I do not understand.}　　（x=\\text{Others}）\n",
        " \\end{array}\n",
        " \\right.\n",
        " \\end{equation}"
      ],
      "metadata": {
        "id": "3BxvtAd2RNMZ"
      }
    },
    {
      "cell_type": "code",
      "source": [
        "def my_chatbot(x):\n",
        "  if 'What is your name?' in x:\n",
        "    return 'My name is Tohoku Taro.'\n",
        "  else:\n",
        "    return 'I do not understand.'\n"
      ],
      "metadata": {
        "id": "Td4FzSrBRNgJ"
      },
      "execution_count": null,
      "outputs": []
    },
    {
      "cell_type": "code",
      "source": [
        "my_chatbot('What is your name?')"
      ],
      "metadata": {
        "colab": {
          "base_uri": "https://localhost:8080/",
          "height": 36
        },
        "id": "sI6aQSOmJhi6",
        "outputId": "8190017e-4310-490f-9c35-3684e176b966"
      },
      "execution_count": null,
      "outputs": [
        {
          "output_type": "execute_result",
          "data": {
            "text/plain": [
              "'My name is Tohoku Taro.'"
            ],
            "application/vnd.google.colaboratory.intrinsic+json": {
              "type": "string"
            }
          },
          "metadata": {},
          "execution_count": 6
        }
      ]
    },
    {
      "cell_type": "code",
      "source": [
        "answer1 = my_chatbot('What is your name')\n",
        "answer2 = my_chatbot('How old are you?')\n",
        "print(answer1)\n",
        "print(answer2)"
      ],
      "metadata": {
        "colab": {
          "base_uri": "https://localhost:8080/"
        },
        "id": "jERWkNLDJHCa",
        "outputId": "c078c5da-cd20-4463-a143-dcc4f52838d3"
      },
      "execution_count": null,
      "outputs": [
        {
          "output_type": "stream",
          "name": "stdout",
          "text": [
            "I do not understand.\n",
            "I do not understand.\n"
          ]
        }
      ]
    },
    {
      "cell_type": "markdown",
      "source": [
        "###<font color='crimson'>[Practice 1] Multiplying with larger number. (5 mins)</font>\n",
        "\n",
        "Try to create a function `my_func` that satisfies the following conditions.\n",
        "\n",
        "Input: x, y, z\n",
        "\n",
        "Output: the number obtained by multiplying the larger of y and z by x.\n",
        "\n",
        "(e.g., x =3, y=5, z=10, output=30)\n",
        "\n",
        "\n",
        "\n"
      ],
      "metadata": {
        "id": "sdjxCPKcfNIH"
      }
    },
    {
      "cell_type": "code",
      "source": [
        "# Practice\n",
        "\n",
        "def test(x, y, z):\n",
        "\n",
        "  if y > z:\n",
        "    return y * x\n",
        "  else:\n",
        "    return z * x\n",
        "\n",
        "print(test(3, 5, 10))"
      ],
      "metadata": {
        "id": "GrwiSEsBgAif",
        "colab": {
          "base_uri": "https://localhost:8080/"
        },
        "outputId": "aa7aebc6-645b-450d-bb8a-543e5d1a8fad"
      },
      "execution_count": null,
      "outputs": [
        {
          "output_type": "stream",
          "name": "stdout",
          "text": [
            "30\n"
          ]
        }
      ]
    },
    {
      "cell_type": "markdown",
      "source": [
        "###<font color='crimson'>[Practice 2]Standard deviation(10 mins)</font>\n",
        "\n",
        "Objective: create `def my_func`, given a list of number types for one of the `inputs`, x,\n",
        "\n",
        "- Objective 1: Create a function to find the mean and (sample) standard deviation of the numbers in this list. (Return these two numbers in return.)\n",
        "\n",
        "★Challenge ★\n",
        "\n",
        "- Objective 2: As another `input`, create the variable `unbiased` and devise a function to calculate the unbiased standard deviation if `unbiased=True` and the sample standard deviation if `unbiased=False`.\n",
        "\n",
        "<font color='crimson'>Note：Do not use any module like numpy, math, etc..</font>\n",
        "\n",
        "Hint 1：\n",
        "\n",
        "sample standard deviation：\n",
        "$$\n",
        "s = \\sqrt{\\frac{\\sum^N_{i=1}(x_i-\\bar{x})^2 }{N}}\n",
        "$$\n",
        "\n",
        "unbiased standard deviation：\n",
        "$$\n",
        "s = \\sqrt{\\frac{\\sum^N_{i=1}(x_i-\\bar{x})^2 }{N-1}}\n",
        "$$\n",
        "\n",
        "Hint 2 ：\n",
        "\n",
        "If you want to know the length of a list, use `len()`.\n",
        "\n",
        "Hint 3 :\n",
        "\n",
        "root can be calculated use ** 0.5."
      ],
      "metadata": {
        "id": "eHdJ1nZDs931"
      }
    },
    {
      "cell_type": "code",
      "source": [],
      "metadata": {
        "colab": {
          "base_uri": "https://localhost:8080/"
        },
        "id": "nF9uHZLqm8nD",
        "outputId": "38096853-c011-447c-a0c4-8d29f8df0a41"
      },
      "execution_count": null,
      "outputs": [
        {
          "output_type": "stream",
          "name": "stdout",
          "text": [
            "4\n"
          ]
        }
      ]
    },
    {
      "cell_type": "markdown",
      "source": [
        "Hint 4：\n"
      ],
      "metadata": {
        "id": "05ZTKcOdwTld"
      }
    },
    {
      "cell_type": "code",
      "source": [
        "# Hint\n",
        "# Calculate the sum from 0 to 5.\n",
        "s = 0\n",
        "for i in range(6):\n",
        "  s = s + i\n",
        "  print('loop', i,',', s)\n",
        "\n",
        "print('Final s:', s)\n"
      ],
      "metadata": {
        "colab": {
          "base_uri": "https://localhost:8080/"
        },
        "id": "yGMvc5w1wVD-",
        "outputId": "dfe582c0-b65c-4e59-cbd3-b033f2b594bf"
      },
      "execution_count": null,
      "outputs": [
        {
          "output_type": "stream",
          "name": "stdout",
          "text": [
            "loop 0 , 0\n",
            "loop 1 , 1\n",
            "loop 2 , 3\n",
            "loop 3 , 6\n",
            "loop 4 , 10\n",
            "loop 5 , 15\n",
            "Final s: 15\n"
          ]
        }
      ]
    },
    {
      "cell_type": "code",
      "source": [
        "# Write your code here\n",
        "def my_func(x, unbiased = False):\n",
        "\n",
        "  # Hint1\n",
        "  N = len(x)\n",
        "\n",
        "  # calculate mean\n",
        "  s = 0\n",
        "  for i in x:\n",
        "    s += i # s = s + i\n",
        "  m = s / N\n",
        "\n",
        "  s2 = 0\n",
        "  for i in x:\n",
        "    s2 = s2 + (i - m) ** 2\n",
        "\n",
        "\n",
        "  if unbiased == True:\n",
        "    N = N - 1\n",
        "\n",
        "  s = (s2 / N) ** 0.5\n",
        "  return m, s\n",
        "\n",
        "a = [1,2,3]\n",
        "\n",
        "my_func(a, unbiased=True)"
      ],
      "metadata": {
        "id": "p6Vi-yEfaikK",
        "colab": {
          "base_uri": "https://localhost:8080/"
        },
        "outputId": "00559c66-65dd-4a28-ed75-a816f4a72503"
      },
      "execution_count": null,
      "outputs": [
        {
          "output_type": "execute_result",
          "data": {
            "text/plain": [
              "(2.0, 1.0)"
            ]
          },
          "metadata": {},
          "execution_count": 34
        }
      ]
    },
    {
      "cell_type": "markdown",
      "source": [
        "##2.2 <font color='crimson'>Module in python</font>\n",
        "\n",
        "In python, many functions such as visualization, matrix operations, regression analysis, etc. do not require you to write everything yourself from scratch, but use python `modules'. Simply put, **a module is a file of programs written by others**, a tool that anyone can easily use."
      ],
      "metadata": {
        "id": "R0cyBb35I3xS"
      }
    },
    {
      "cell_type": "markdown",
      "source": [
        "### <font color='crimson'>matplotlib - Visualization</font>\n",
        "\n",
        "When loading a module, use one of the following basic methods\n",
        "\n",
        "- <font color='crimson'>`import module_name`</font> - The default way\n",
        "\n",
        "- <font color='crimson'>`import moodule_name as m`</font> - When the name of module is long\n",
        "\n",
        "- <font color='crimson'>`from module import sub_module`</font> - When use part of the module.\n",
        "\n",
        "First, let's use `matplotlib.pyplot`, the most commonly used visualization module in python."
      ],
      "metadata": {
        "id": "LEn7mW72NUtL"
      }
    },
    {
      "cell_type": "markdown",
      "source": [
        "- <font color='crimson'>line chart ー plot</font>\n",
        "\n"
      ],
      "metadata": {
        "id": "_l8OeLKwPdry"
      }
    },
    {
      "cell_type": "code",
      "source": [
        "import matplotlib.pyplot as plt # Abbreviated to plt because of long module name\n",
        "\n",
        "plt.plot([1,2,3, 2, 1])\n",
        "plt.show()"
      ],
      "metadata": {
        "colab": {
          "base_uri": "https://localhost:8080/",
          "height": 430
        },
        "id": "eGLIjrgKNSzX",
        "outputId": "7fc87726-95bf-45ec-8239-70dad35f3aee"
      },
      "execution_count": null,
      "outputs": [
        {
          "output_type": "display_data",
          "data": {
            "text/plain": [
              "<Figure size 640x480 with 1 Axes>"
            ],
            "image/png": "[encoded data removed]"
          },
          "metadata": {}
        }
      ]
    },
    {
      "cell_type": "markdown",
      "source": [
        "Multiple fold lines can be drawn."
      ],
      "metadata": {
        "id": "bDj8Bm5Ku8Tu"
      }
    },
    {
      "cell_type": "code",
      "source": [
        "plt.plot([1, 2, 3, 2, 1])\n",
        "plt.plot([5, 4, 3, 4, 5])\n",
        "plt.show()"
      ],
      "metadata": {
        "colab": {
          "base_uri": "https://localhost:8080/",
          "height": 430
        },
        "id": "i1Wq3mAAua4x",
        "outputId": "e52fa279-fdb7-45c3-b495-1e7451c06c8d"
      },
      "execution_count": null,
      "outputs": [
        {
          "output_type": "display_data",
          "data": {
            "text/plain": [
              "<Figure size 640x480 with 1 Axes>"
            ],
            "image/png": "[encoded data removed]"
          },
          "metadata": {}
        }
      ]
    },
    {
      "cell_type": "markdown",
      "source": [
        "- Image Customization"
      ],
      "metadata": {
        "id": "vQVt6WNiwoTy"
      }
    },
    {
      "cell_type": "code",
      "source": [
        "plt.plot([1, 2, 3, 2, 1])\n",
        "plt.plot([5, 4, 3, 4, 5])\n",
        "\n",
        "# Customizing Graphs\n",
        "plt.xticks(range(5), ['A', 'B', 'C', 'D', 'E']) # Change X ticks\n",
        "plt.yticks(range(6), range(6)) # Change Y ticks\n",
        "plt.xlabel('column') # label of X axis\n",
        "plt.ylabel('Num') # label of Y axis\n",
        "plt.ylim(-2, 6) # range of y aixs\n",
        "\n",
        "plt.legend(['Line A','Line B']) # legend\n",
        "\n",
        "plt.show()"
      ],
      "metadata": {
        "colab": {
          "base_uri": "https://localhost:8080/",
          "height": 449
        },
        "id": "1lYO1MkLvB2G",
        "outputId": "96da87de-b2e2-4dfb-c383-8ecd5b1e5960"
      },
      "execution_count": null,
      "outputs": [
        {
          "output_type": "display_data",
          "data": {
            "text/plain": [
              "<Figure size 640x480 with 1 Axes>"
            ],
            "image/png": "[encoded data removed]"
          },
          "metadata": {}
        }
      ]
    },
    {
      "cell_type": "markdown",
      "source": [
        "- <font color='crimson'>bar chartーbarplot</font>\n",
        "\n"
      ],
      "metadata": {
        "id": "9ud30opcxDQ7"
      }
    },
    {
      "cell_type": "code",
      "source": [
        "plt.bar(['A', 'B', 'C'],[50, 30, 60.5], color='green') # plt.bar(X,Y)\n",
        "plt.xlabel('City')\n",
        "plt.ylabel('GDP')\n",
        "plt.show()"
      ],
      "metadata": {
        "colab": {
          "base_uri": "https://localhost:8080/",
          "height": 449
        },
        "id": "kfgIg24lxQ04",
        "outputId": "077cbd21-9489-40bd-a83f-67c6e0907039"
      },
      "execution_count": null,
      "outputs": [
        {
          "output_type": "display_data",
          "data": {
            "text/plain": [
              "<Figure size 640x480 with 1 Axes>"
            ],
            "image/png": "[encoded data removed]"
          },
          "metadata": {}
        }
      ]
    },
    {
      "cell_type": "markdown",
      "source": [
        "- <font color='crimson'>scatter diagram ー scatter</font>"
      ],
      "metadata": {
        "id": "kwcQ9NY3TjHR"
      }
    },
    {
      "cell_type": "code",
      "source": [
        "plt.scatter(range(9), [1, 1.2, 1, 0.8, 1, 1.2, 1, 0.8, 1])\n",
        "plt.ylim(0, 2)\n",
        "plt.show()"
      ],
      "metadata": {
        "colab": {
          "base_uri": "https://localhost:8080/",
          "height": 435
        },
        "id": "bks8Be5zTjix",
        "outputId": "39f9db96-9438-4202-f040-8efa430a69cb"
      },
      "execution_count": null,
      "outputs": [
        {
          "output_type": "display_data",
          "data": {
            "text/plain": [
              "<Figure size 640x480 with 1 Axes>"
            ],
            "image/png": "[encoded data removed]"
          },
          "metadata": {}
        }
      ]
    },
    {
      "cell_type": "markdown",
      "source": [
        "- <font color='crimson'>histgram ー hist</font>\n",
        "\n"
      ],
      "metadata": {
        "id": "UtXMRLicyv2F"
      }
    },
    {
      "cell_type": "code",
      "source": [
        "a = [1,2,3,3.2,3, 3, 2, 2.1, 1, 0, 4, 4, 5,5, 6]\n",
        "plt.hist(a,7, alpha=0.7) # data, number of delimiters, alpha=transparency\n",
        "plt.show()"
      ],
      "metadata": {
        "colab": {
          "base_uri": "https://localhost:8080/",
          "height": 430
        },
        "id": "LG5SEjsbyzsX",
        "outputId": "b66564dd-9a12-4fdf-87d9-d10970c41f16"
      },
      "execution_count": null,
      "outputs": [
        {
          "output_type": "display_data",
          "data": {
            "text/plain": [
              "<Figure size 640x480 with 1 Axes>"
            ],
            "image/png": "[encoded data removed]"
          },
          "metadata": {}
        }
      ]
    },
    {
      "cell_type": "markdown",
      "source": [
        "### <font color='crimson'>numpyーHigh-Speed Computing Module</font>\n",
        "\n",
        "In data science, we use many vector and matrix operations, but it is time-consuming to use python lists and the like. Therefore, we rely on this **numpy** module for basic operations in python.\n"
      ],
      "metadata": {
        "id": "gYsdi4zoF0ss"
      }
    },
    {
      "cell_type": "code",
      "source": [
        "import numpy as np # import module\n",
        "\n",
        "a = np.array([-2, 0, 2]) # convert list to numpy array\n",
        "print(a)"
      ],
      "metadata": {
        "colab": {
          "base_uri": "https://localhost:8080/"
        },
        "id": "q10U_FQJUxjB",
        "outputId": "835d10df-df18-4a6a-9c47-1abab436fc1f"
      },
      "execution_count": null,
      "outputs": [
        {
          "output_type": "stream",
          "name": "stdout",
          "text": [
            "[-2  0  2]\n"
          ]
        }
      ]
    },
    {
      "cell_type": "code",
      "source": [
        "import numpy as np\n",
        "\n",
        "np.array([1 ,2, 3])"
      ],
      "metadata": {
        "colab": {
          "base_uri": "https://localhost:8080/"
        },
        "id": "uBzgFVoAu0NN",
        "outputId": "61d8f96f-c792-4519-b779-a7c67262db65"
      },
      "execution_count": null,
      "outputs": [
        {
          "output_type": "execute_result",
          "data": {
            "text/plain": [
              "array([1, 2, 3])"
            ]
          },
          "metadata": {},
          "execution_count": 37
        }
      ]
    },
    {
      "cell_type": "markdown",
      "source": [
        "At first glance, it looks no different from a list, but it enables operations that are not possible with a list."
      ],
      "metadata": {
        "id": "h_lFcOiZVVkI"
      }
    },
    {
      "cell_type": "code",
      "source": [
        "# When use the list\n",
        "b = [-2, 0, 2]\n",
        "\n",
        "# add 1 to all elements\n",
        "b = b + 1\n",
        "b"
      ],
      "metadata": {
        "id": "n0uT2F5lU3np",
        "colab": {
          "base_uri": "https://localhost:8080/",
          "height": 222
        },
        "outputId": "64133df4-b1fd-4a29-f4c5-bf2d945a7850"
      },
      "execution_count": null,
      "outputs": [
        {
          "output_type": "error",
          "ename": "TypeError",
          "evalue": "ignored",
          "traceback": [
            "\u001b[0;31m---------------------------------------------------------------------------\u001b[0m",
            "\u001b[0;31mTypeError\u001b[0m                                 Traceback (most recent call last)",
            "\u001b[0;32m<ipython-input-38-592dd0f04a06>\u001b[0m in \u001b[0;36m<cell line: 5>\u001b[0;34m()\u001b[0m\n\u001b[1;32m      3\u001b[0m \u001b[0;34m\u001b[0m\u001b[0m\n\u001b[1;32m      4\u001b[0m \u001b[0;31m# add 1 to all elements\u001b[0m\u001b[0;34m\u001b[0m\u001b[0;34m\u001b[0m\u001b[0m\n\u001b[0;32m----> 5\u001b[0;31m \u001b[0mb\u001b[0m \u001b[0;34m=\u001b[0m \u001b[0mb\u001b[0m \u001b[0;34m+\u001b[0m \u001b[0;36m1\u001b[0m\u001b[0;34m\u001b[0m\u001b[0;34m\u001b[0m\u001b[0m\n\u001b[0m\u001b[1;32m      6\u001b[0m \u001b[0mb\u001b[0m\u001b[0;34m\u001b[0m\u001b[0;34m\u001b[0m\u001b[0m\n",
            "\u001b[0;31mTypeError\u001b[0m: can only concatenate list (not \"int\") to list"
          ]
        }
      ]
    },
    {
      "cell_type": "code",
      "source": [
        "import numpy as np\n",
        "\n",
        "a = np.array(b)\n",
        "print(a)\n",
        "print(a + 1)"
      ],
      "metadata": {
        "colab": {
          "base_uri": "https://localhost:8080/"
        },
        "id": "lNgRzENhvIeD",
        "outputId": "1462f6aa-7921-436a-9b21-c31fba364fc5"
      },
      "execution_count": null,
      "outputs": [
        {
          "output_type": "stream",
          "name": "stdout",
          "text": [
            "[-2  0  2]\n",
            "[-1  1  3]\n"
          ]
        }
      ]
    },
    {
      "cell_type": "code",
      "source": [
        "import numpy as np\n",
        "# numpy array\n",
        "a = np.array([-2, 0, 2])\n",
        "\n",
        "# scalar + vector\n",
        "print('a', a)\n",
        "print('*'*5,'scalar + vector\\n') # \\n is a special character, meaning a line break.\n",
        "print('plus', a + 1)\n",
        "print('minus', a * 2)\n",
        "print('power', a ** 2)\n",
        "print('power in numpy', np.power(a, 3))\n",
        "\n",
        "# vector + vector\n",
        "b = np.array([1, 2, 3])\n",
        "print('\\n\\n','*'*5,'vector + vector\\n')\n",
        "print('a', a, '\\nb', b)\n",
        "print('plus', a + b)\n",
        "print('times', a * b)\n",
        "\n"
      ],
      "metadata": {
        "colab": {
          "base_uri": "https://localhost:8080/"
        },
        "id": "qsB61QZwVpvJ",
        "outputId": "3b2ed679-f438-4f8c-902d-02a767e43ac3"
      },
      "execution_count": null,
      "outputs": [
        {
          "output_type": "stream",
          "name": "stdout",
          "text": [
            "a [-2  0  2]\n",
            "***** scalar + vector\n",
            "\n",
            "plus [-1  1  3]\n",
            "minus [-4  0  4]\n",
            "power [4 0 4]\n",
            "power in numpy [-8  0  8]\n",
            "\n",
            "\n",
            " ***** vector + vector\n",
            "\n",
            "a [-2  0  2] \n",
            "b [1 2 3]\n",
            "plus [-1  2  5]\n",
            "times [-2  0  6]\n"
          ]
        }
      ]
    },
    {
      "cell_type": "markdown",
      "source": [
        "- Matrix\n",
        "\n",
        "You can easily use matrix in numpy."
      ],
      "metadata": {
        "id": "il7I1z0ZXiyp"
      }
    },
    {
      "cell_type": "code",
      "source": [
        "import numpy as np\n",
        "a = np.array([[2,3], [3, 2]])\n",
        "b = np.array([[-2,3], [0.5, 2]])\n",
        "\n",
        "print(a)\n",
        "print(b)\n",
        "\n",
        "print(a + b)"
      ],
      "metadata": {
        "colab": {
          "base_uri": "https://localhost:8080/"
        },
        "id": "t1wGPx6pXoph",
        "outputId": "6630cd30-4587-4348-d655-666ae10f9297"
      },
      "execution_count": null,
      "outputs": [
        {
          "output_type": "stream",
          "name": "stdout",
          "text": [
            "[[2 3]\n",
            " [3 2]]\n",
            "[[-2.   3. ]\n",
            " [ 0.5  2. ]]\n",
            "[[0.  6. ]\n",
            " [3.5 4. ]]\n"
          ]
        }
      ]
    },
    {
      "cell_type": "markdown",
      "source": [
        "Other matrices can be made in various shapes and sizes, depending on the purpose."
      ],
      "metadata": {
        "id": "aGHBdrPRYUCn"
      }
    },
    {
      "cell_type": "code",
      "source": [
        "import numpy as np\n",
        "# all 0 elements\n",
        "zeros = np.zeros((3, 5))  # 3 X 5\n",
        "# all 1 elements\n",
        "ones = np.ones((2, 3, 4)) # 3-dimentional data\n",
        "\n",
        "identity = np.identity(5) # 5 X 5 identity matrix\n",
        "\n",
        "print(zeros)\n",
        "print(ones)\n",
        "print(identity)"
      ],
      "metadata": {
        "colab": {
          "base_uri": "https://localhost:8080/"
        },
        "id": "K6MHTi2AYSkg",
        "outputId": "f42847b7-47a5-4c83-ae18-df8a1af902d1"
      },
      "execution_count": null,
      "outputs": [
        {
          "output_type": "stream",
          "name": "stdout",
          "text": [
            "[[0. 0. 0. 0. 0.]\n",
            " [0. 0. 0. 0. 0.]\n",
            " [0. 0. 0. 0. 0.]]\n",
            "[[[1. 1. 1. 1.]\n",
            "  [1. 1. 1. 1.]\n",
            "  [1. 1. 1. 1.]]\n",
            "\n",
            " [[1. 1. 1. 1.]\n",
            "  [1. 1. 1. 1.]\n",
            "  [1. 1. 1. 1.]]]\n",
            "[[1. 0. 0. 0. 0.]\n",
            " [0. 1. 0. 0. 0.]\n",
            " [0. 0. 1. 0. 0.]\n",
            " [0. 0. 0. 1. 0.]\n",
            " [0. 0. 0. 0. 1.]]\n"
          ]
        }
      ]
    },
    {
      "cell_type": "markdown",
      "source": [
        "Other matrix operations will be covered in the future's class."
      ],
      "metadata": {
        "id": "EyKIrd5yX3NJ"
      }
    },
    {
      "cell_type": "markdown",
      "source": [
        "Also, numpy provides various useful functions that are often used in calculations, and the mean and standard deviation, which we wrote with great difficulty earlier, can be easily performed."
      ],
      "metadata": {
        "id": "D8mZTUWNZYOP"
      }
    },
    {
      "cell_type": "code",
      "source": [
        "import numpy as np\n",
        "\n",
        "a = np.array([-1,2,-3,4,5])\n",
        "print(np.mean(a)) # mean\n",
        "print(np.std(a))  # standard deviation\n",
        "print(np.sqrt(a)) # square\n",
        "print(np.abs(a)) # absolute value\n",
        "print(np.pi) # pi\n",
        "print(np.exp(5)) # exponential"
      ],
      "metadata": {
        "colab": {
          "base_uri": "https://localhost:8080/"
        },
        "id": "EYwM0X8WZkUA",
        "outputId": "c6769bc4-18b2-440d-ddfa-1f7ebbe20839"
      },
      "execution_count": null,
      "outputs": [
        {
          "output_type": "stream",
          "name": "stdout",
          "text": [
            "1.4\n",
            "3.006659275674582\n",
            "[       nan 1.41421356        nan 2.         2.23606798]\n",
            "[1 2 3 4 5]\n",
            "3.141592653589793\n",
            "148.4131591025766\n"
          ]
        },
        {
          "output_type": "stream",
          "name": "stderr",
          "text": [
            "<ipython-input-14-a336801bb5cf>:6: RuntimeWarning: invalid value encountered in sqrt\n",
            "  print(np.sqrt(a)) # square\n"
          ]
        }
      ]
    },
    {
      "cell_type": "markdown",
      "source": [
        "- sine, cosine, tangent\n"
      ],
      "metadata": {
        "id": "h8PIPFjScdjR"
      }
    },
    {
      "cell_type": "code",
      "source": [
        "# we use linspace to crate many x.\n",
        "x = np.linspace(-5, 5, 100) # from -5 to 5, create 100 data\n",
        "print(x)"
      ],
      "metadata": {
        "colab": {
          "base_uri": "https://localhost:8080/"
        },
        "id": "au05j253cm0p",
        "outputId": "40401e81-e47d-4894-cb3b-a2ca9250903e"
      },
      "execution_count": null,
      "outputs": [
        {
          "output_type": "stream",
          "name": "stdout",
          "text": [
            "[-5.         -4.8989899  -4.7979798  -4.6969697  -4.5959596  -4.49494949\n",
            " -4.39393939 -4.29292929 -4.19191919 -4.09090909 -3.98989899 -3.88888889\n",
            " -3.78787879 -3.68686869 -3.58585859 -3.48484848 -3.38383838 -3.28282828\n",
            " -3.18181818 -3.08080808 -2.97979798 -2.87878788 -2.77777778 -2.67676768\n",
            " -2.57575758 -2.47474747 -2.37373737 -2.27272727 -2.17171717 -2.07070707\n",
            " -1.96969697 -1.86868687 -1.76767677 -1.66666667 -1.56565657 -1.46464646\n",
            " -1.36363636 -1.26262626 -1.16161616 -1.06060606 -0.95959596 -0.85858586\n",
            " -0.75757576 -0.65656566 -0.55555556 -0.45454545 -0.35353535 -0.25252525\n",
            " -0.15151515 -0.05050505  0.05050505  0.15151515  0.25252525  0.35353535\n",
            "  0.45454545  0.55555556  0.65656566  0.75757576  0.85858586  0.95959596\n",
            "  1.06060606  1.16161616  1.26262626  1.36363636  1.46464646  1.56565657\n",
            "  1.66666667  1.76767677  1.86868687  1.96969697  2.07070707  2.17171717\n",
            "  2.27272727  2.37373737  2.47474747  2.57575758  2.67676768  2.77777778\n",
            "  2.87878788  2.97979798  3.08080808  3.18181818  3.28282828  3.38383838\n",
            "  3.48484848  3.58585859  3.68686869  3.78787879  3.88888889  3.98989899\n",
            "  4.09090909  4.19191919  4.29292929  4.39393939  4.49494949  4.5959596\n",
            "  4.6969697   4.7979798   4.8989899   5.        ]\n"
          ]
        }
      ]
    },
    {
      "cell_type": "code",
      "source": [
        "sin = np.sin(x)\n",
        "cos = np.cos(x)\n",
        "tan = np.tan(x)\n",
        "\n",
        "plt.plot(sin)\n",
        "plt.plot(cos)\n",
        "#plt.plot(tan)\n",
        "plt.ylim(-5, 5)\n",
        "plt.legend(['sine','cosine'])\n",
        "plt.grid()\n",
        "plt.show()"
      ],
      "metadata": {
        "colab": {
          "base_uri": "https://localhost:8080/",
          "height": 430
        },
        "id": "w9HrAxl8c8EQ",
        "outputId": "65adcfe7-00f3-4ff7-a07d-4e12994a4b46"
      },
      "execution_count": null,
      "outputs": [
        {
          "output_type": "display_data",
          "data": {
            "text/plain": [
              "<Figure size 640x480 with 1 Axes>"
            ],
            "image/png": "[encoded data removed]"
          },
          "metadata": {}
        }
      ]
    }
  ]
}