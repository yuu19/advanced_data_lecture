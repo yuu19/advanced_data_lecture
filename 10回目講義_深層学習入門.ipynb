{
  "nbformat": 4,
  "nbformat_minor": 0,
  "metadata": {
    "colab": {
      "provenance": [],
      "gpuType": "T4",
      "include_colab_link": true
    },
    "kernelspec": {
      "name": "python3",
      "display_name": "Python 3"
    },
    "language_info": {
      "name": "python"
    },
    "accelerator": "GPU"
  },
  "cells": [
    {
      "cell_type": "markdown",
      "metadata": {
        "id": "view-in-github",
        "colab_type": "text"
      },
      "source": [
        "<a href=\"https://colab.research.google.com/github/yuu19/advanced_data_lecture/blob/main/10%E5%9B%9E%E7%9B%AE%E8%AC%9B%E7%BE%A9_%E6%B7%B1%E5%B1%A4%E5%AD%A6%E7%BF%92%E5%85%A5%E9%96%80.ipynb\" target=\"_parent\"><img src=\"https://colab.research.google.com/assets/colab-badge.svg\" alt=\"Open In Colab\"/></a>"
      ]
    },
    {
      "cell_type": "markdown",
      "source": [
        "## Do not forget to make a copy before you start!\n",
        "\n",
        "## **<font color='crimson'> Deadline: 2023/07/13 12:00:00 </font>**\n"
      ],
      "metadata": {
        "id": "RctKQEpjTYYa"
      }
    },
    {
      "cell_type": "markdown",
      "source": [
        "## How to assign your weekly task to Google classroom\n",
        "\n",
        "- **Recommended:**\n",
        "\n",
        "  -  Once you copy the task to your own driver, the task colab file is in the [Colab Notebook] folder in you google driver.\n",
        "  -  Just upload the task **ipynb** file to the Google Classroom.\n",
        "\n",
        "  - Do not forget to save your colab file before uploading.\n",
        "\n",
        "\n",
        "- Another way:\n",
        "\n",
        "\n",
        "- 1. Download the colab file using **'File - download - .ipynb'** in the menu bar.\n",
        "\n",
        "- 2. You will get a ipynb file in your local laptop, then upload the file to the Google Classroom.\n",
        "\n"
      ],
      "metadata": {
        "id": "4oR_ySp1TsZX"
      }
    },
    {
      "cell_type": "code",
      "source": [
        "import numpy as np\n",
        "import torch"
      ],
      "metadata": {
        "id": "Z3mk9MYRRAxH"
      },
      "execution_count": null,
      "outputs": []
    },
    {
      "cell_type": "markdown",
      "source": [
        "###<font color='crimson'>[Task 1] Extension of the `Race` class</font>\n",
        "\n",
        "We have made a class `Race` in the lecture.\n",
        "\n",
        "Please make a simple extension.\n",
        "\n",
        "1. The initial values for the `self.speed_turtle` and `self.speed_rabbit` are fixed for the previous code. Please modify the class that we can input the speed for the turtle and rabbit.\n",
        "\n",
        "1. Then Try another 30 loops and record the position of rabbit and turtle for each loop."
      ],
      "metadata": {
        "id": "qm5ZdaMHdbo8"
      }
    },
    {
      "cell_type": "code",
      "source": [
        "# Task 1\n",
        "#元のクラス\n",
        "class Race:\n",
        "  def __init__(self, init1=0, init2=5): # initialze\n",
        "    self.rabbit_current_position = init1\n",
        "    self.turtle_current_position = init2\n",
        "    self.speed_rabbit = 3\n",
        "    self.speed_turtle = 1\n",
        "\n",
        "    self.counter = 0\n",
        "    self.overtook = False\n",
        "\n",
        "  def one_step(self):\n",
        "    self.rabbit_current_position += self.speed_rabbit\n",
        "    self.turtle_current_position += self.speed_turtle\n",
        "\n",
        "    print('Current Position of Rabbit is {}.'.format(self.rabbit_current_position), end='//')\n",
        "    print('Current Position of Turtle is {}.'.format(self.turtle_current_position))\n",
        "\n",
        "    self.check()\n",
        "    self.counter += 1\n",
        "\n",
        "  def check(self):\n",
        "    if self.rabbit_current_position >= self.turtle_current_position and self.overtook is False:\n",
        "      print('The rabbit overtook the turtle! in the {}th step!'.format(self.counter))\n",
        "      self.overtook = True"
      ],
      "metadata": {
        "id": "DY-1JD3idbJh"
      },
      "execution_count": null,
      "outputs": []
    },
    {
      "cell_type": "code",
      "source": [
        "#Raceクラスを継承\n",
        "#継承についてはこのページを参照　https://atmarkit.itmedia.co.jp/ait/articles/2202/01/news034.html#override\n",
        "class Race_speed_var(Race):\n",
        "    #コンストラクタをオーバーロード\n",
        "    def __init__(self, init1=0, init2=5, speed_rabbit=100, speed_turtle=10):\n",
        "      super().__init__(init1=0, init2=0)\n",
        "      self.speed_rabbit = speed_rabbit\n",
        "      self.speed_turtle = speed_turtle\n",
        "\n",
        "new_race = Race_speed_var()\n",
        "\n",
        "for i in range(10):\n",
        "  print(\"現在は{}回目\".format(new_race.counter))\n",
        "  new_race.one_step()\n"
      ],
      "metadata": {
        "colab": {
          "base_uri": "https://localhost:8080/"
        },
        "id": "EJZ1ks1GC9GF",
        "outputId": "cb043c9a-c735-4040-f5a9-76cd4f404dbd"
      },
      "execution_count": null,
      "outputs": [
        {
          "output_type": "stream",
          "name": "stdout",
          "text": [
            "現在は0回目\n",
            "Current Position of Rabbit is 100.//Current Position of Turtle is 10.\n",
            "The rabbit overtook the turtle! in the 0th step!\n",
            "現在は1回目\n",
            "Current Position of Rabbit is 200.//Current Position of Turtle is 20.\n",
            "現在は2回目\n",
            "Current Position of Rabbit is 300.//Current Position of Turtle is 30.\n",
            "現在は3回目\n",
            "Current Position of Rabbit is 400.//Current Position of Turtle is 40.\n",
            "現在は4回目\n",
            "Current Position of Rabbit is 500.//Current Position of Turtle is 50.\n",
            "現在は5回目\n",
            "Current Position of Rabbit is 600.//Current Position of Turtle is 60.\n",
            "現在は6回目\n",
            "Current Position of Rabbit is 700.//Current Position of Turtle is 70.\n",
            "現在は7回目\n",
            "Current Position of Rabbit is 800.//Current Position of Turtle is 80.\n",
            "現在は8回目\n",
            "Current Position of Rabbit is 900.//Current Position of Turtle is 90.\n",
            "現在は9回目\n",
            "Current Position of Rabbit is 1000.//Current Position of Turtle is 100.\n"
          ]
        }
      ]
    },
    {
      "cell_type": "markdown",
      "source": [
        "###<font color='crimson'>[Task 2]Design the neural network.</font>\n",
        "\n",
        "Design a neural network which fulfill the following conditions:\n",
        "\n",
        "1. It has 3 hidden layers which has 512, 256, 128 dimensions, respectively.\n",
        "\n",
        "1. The activation function `relu` is used for the input layer -> 1st hidden layer, no activation function for the output layer. `tanh` is used for the remained layers.\n",
        "\n",
        "1. Use batch normalization between 1st hidden layer and 2nd hidden layer.\n",
        "\n",
        "You only need to define a `class` for this task."
      ],
      "metadata": {
        "id": "OrHskcJ3GrDR"
      }
    },
    {
      "cell_type": "code",
      "source": [
        "# Task 2\n",
        "import matplotlib.pyplot as plt\n",
        "from torch import nn\n",
        "import torch\n",
        "import torch.nn.functional as F\n",
        "\n",
        "#5層からなるモデル(入力層、隠れ層:3, 出力層)\n",
        "class NN5(nn.Module):\n",
        "  def __init__(self, n_input, n_output):\n",
        "    super().__init__()\n",
        "    self.input_layer = nn.Linear(n_input, 512)\n",
        "    self.hidden_layer_1 = nn.Linear(512, 256)\n",
        "    self.hidden_layer_2 = nn.Linear(256, 128)\n",
        "    self.output_layer = nn.Linear(128, n_output)\n",
        "    self.bn0 = nn.BatchNorm1d(512)\n",
        "    self.bn1 = nn.BatchNorm1d(256)\n",
        "\n",
        "  def forward(self, x):\n",
        "    x = F.relu(self.input_layer(x))\n",
        "    x = self.bn0(x)\n",
        "    x = F.tanh(self.hidden_layer_1(x))\n",
        "    x = self.bn1(x)\n",
        "    x = F.tanh(self.hidden_layer_2(x))\n",
        "    x = self.output_layer(x)\n",
        "\n",
        "    return x"
      ],
      "metadata": {
        "id": "R5856n3RHCil"
      },
      "execution_count": null,
      "outputs": []
    },
    {
      "cell_type": "markdown",
      "source": [
        "###<font color='crimson'>[Task 3] Classification Problem</font>\n",
        "\n",
        "Use the following dataset:\n",
        "\n",
        "https://raw.githubusercontent.com/dgod1028/Research/main/data/AD_simu.csv\n",
        "\n",
        "1. Train your neural network with the X_train and y_train.You may need some preprocessing for the data.\n",
        "\n",
        "1. print accuracy precision, recall and f1 score for test data after traininng.\n",
        "\n",
        "# **★Challenge Task★**\n",
        "\n",
        "Designing and Training your model until you Beat the Random Forest!\n",
        "\n"
      ],
      "metadata": {
        "id": "6ZTt_JlzHDpN"
      }
    },
    {
      "cell_type": "code",
      "source": [
        "# Task 3\n",
        "import pandas as pd\n",
        "\n",
        "df = pd.read_csv('https://raw.githubusercontent.com/dgod1028/Research/main/data/AD_simu.csv')\n",
        "\n",
        "from sklearn.model_selection import train_test_split\n",
        "\n",
        "target = 'Clicked_AD'\n",
        "pd.get_dummies(df)\n",
        "\n",
        "X = df.drop(target, axis=1)\n",
        "y = df[target]\n",
        "X = torch.from_numpy(X.values).float()\n",
        "y = torch.from_numpy(y.values).float()\n",
        "\n",
        "X_train, X_test, y_train, y_test = train_test_split(X, y, test_size=0.5, random_state=0)\n",
        "\n",
        "\n",
        "lr = 1e-2; Epochs = 1000\n",
        "model = NN5(X_train.shape[1], 1)\n",
        "\n",
        "optim = torch.optim.Adam(model.parameters(), lr=lr)\n",
        "\n",
        "criterion = nn.MSELoss()\n",
        "\n",
        "losses = torch.zeros(Epochs)\n",
        "torch.manual_seed(30)\n",
        "\n",
        "for epoch in range(Epochs):\n",
        "  fcst = model(X_train)\n",
        "  loss = criterion(fcst.view(-1), y_train)\n",
        "  loss.backward()\n",
        "  optim.step()\n",
        "  optim.zero_grad()\n",
        "  losses[epoch] = loss.item()"
      ],
      "metadata": {
        "id": "2MlfxNl9HDpO"
      },
      "execution_count": null,
      "outputs": []
    },
    {
      "cell_type": "code",
      "source": [
        "import matplotlib.pyplot as plt\n",
        "import numpy as np\n",
        "import torch\n",
        "plt.plot(losses)\n",
        "plt.title(\"Loss\", fontsize=20)\n",
        "plt.xlabel(\"epoch\", fontsize=15)\n",
        "plt.ylabel(\"loss\", fontsize=15)\n",
        "plt.show()"
      ],
      "metadata": {
        "id": "xN1NwNyDWFWX",
        "colab": {
          "base_uri": "https://localhost:8080/",
          "height": 486
        },
        "outputId": "8efeab91-1815-4447-ebcb-539e47630ce6"
      },
      "execution_count": null,
      "outputs": [
        {
          "output_type": "display_data",
          "data": {
            "text/plain": [
              "<Figure size 640x480 with 1 Axes>"
            ],
            "image/png": "[encoded data removed]"
          },
          "metadata": {}
        }
      ]
    },
    {
      "cell_type": "code",
      "source": [
        "#テストデータを使用\n",
        "test_inputs = torch.tensor(X_test, dtype=torch.float32)\n",
        "with torch.no_grad():\n",
        "    predicted_probabilities = model(test_inputs).numpy()\n",
        "\n",
        "# 予測確率を0.5を超えた場合広告をクリック、そうでない場合クリックしていないと判断\n",
        "predicted_labels = np.where(predicted_probabilities >= 0.5, 1, 0)\n",
        "\n",
        "# 各指標の計算\n",
        "accuracy = accuracy_score(y_test, predicted_labels)\n",
        "precision = precision_score(y_test, predicted_labels)\n",
        "recall = recall_score(y_test, predicted_labels)\n",
        "f1 = f1_score(y_test, predicted_labels)\n",
        "\n",
        "print(f\"Accuracy: {accuracy:.4f}\")\n",
        "print(f\"Precision: {precision:.4f}\")\n",
        "print(f\"Recall: {recall:.4f}\")\n",
        "print(f\"F1 Score: {f1:.4f}\")\n"
      ],
      "metadata": {
        "colab": {
          "base_uri": "https://localhost:8080/"
        },
        "id": "RGDxX5uVPE7T",
        "outputId": "37ec4b0f-ba77-4a31-e261-be1c3be59b3d"
      },
      "execution_count": null,
      "outputs": [
        {
          "output_type": "stream",
          "name": "stdout",
          "text": [
            "Accuracy: 0.9616\n",
            "Precision: 0.5976\n",
            "Recall: 0.2356\n",
            "F1 Score: 0.3379\n"
          ]
        },
        {
          "output_type": "stream",
          "name": "stderr",
          "text": [
            "<ipython-input-10-04c23d49e093>:2: UserWarning: To copy construct from a tensor, it is recommended to use sourceTensor.clone().detach() or sourceTensor.clone().detach().requires_grad_(True), rather than torch.tensor(sourceTensor).\n",
            "  test_inputs = torch.tensor(X_test, dtype=torch.float32)\n"
          ]
        }
      ]
    },
    {
      "cell_type": "code",
      "source": [
        "# Benchmark Model\n",
        "from sklearn.ensemble import RandomForestClassifier\n",
        "from sklearn.metrics import accuracy_score, precision_score, recall_score, f1_score\n",
        "\n",
        "rf = RandomForestClassifier()\n",
        "rf.fit(X_train, y_train)\n",
        "\n",
        "preds = rf.predict(X_test)\n",
        "\n",
        "def print_metrics(y_test, preds):\n",
        "  print('Accuracy:{:.3f}'.format(accuracy_score(y_test, preds)))\n",
        "  print('Precision:{:.3f}'.format(precision_score(y_test, preds)))\n",
        "  print('Recall:{:.3f}'.format(recall_score(y_test, preds)))\n",
        "  print('f1:{:.3f}'.format(f1_score(y_test, preds)))\n",
        "\n",
        "print_metrics(y_test, preds)\n"
      ],
      "metadata": {
        "colab": {
          "base_uri": "https://localhost:8080/"
        },
        "id": "Rl6EHyPco07R",
        "outputId": "e7310c82-e7c1-44db-96e6-d6a47026d80c"
      },
      "execution_count": null,
      "outputs": [
        {
          "output_type": "stream",
          "name": "stdout",
          "text": [
            "Accuracy:0.960\n",
            "Precision:0.556\n",
            "Recall:0.240\n",
            "f1:0.336\n"
          ]
        }
      ]
    },
    {
      "cell_type": "code",
      "source": [
        "# Start here\n"
      ],
      "metadata": {
        "id": "ejqaxjWwwAIz"
      },
      "execution_count": null,
      "outputs": []
    }
  ]
}