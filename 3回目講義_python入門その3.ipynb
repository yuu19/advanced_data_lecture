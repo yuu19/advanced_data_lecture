{
  "nbformat": 4,
  "nbformat_minor": 0,
  "metadata": {
    "colab": {
      "provenance": [],
      "include_colab_link": true
    },
    "kernelspec": {
      "name": "python3",
      "display_name": "Python 3"
    },
    "language_info": {
      "name": "python"
    }
  },
  "cells": [
    {
      "cell_type": "markdown",
      "metadata": {
        "id": "view-in-github",
        "colab_type": "text"
      },
      "source": [
        "<a href=\"https://colab.research.google.com/github/yuu19/advanced_data_lecture/blob/main/ADS_Weekly_Task_3_ipynb_%E3%81%AE%E3%82%B3%E3%83%94%E3%83%BC.ipynb\" target=\"_parent\"><img src=\"https://colab.research.google.com/assets/colab-badge.svg\" alt=\"Open In Colab\"/></a>"
      ]
    },
    {
      "cell_type": "markdown",
      "source": [
        "## Do not forget to make a copy before you start!\n",
        "\n",
        "## **<font color='crimson'> Deadline: 2023/05/17 23:59:00 </font>**\n",
        "\n"
      ],
      "metadata": {
        "id": "RctKQEpjTYYa"
      }
    },
    {
      "cell_type": "markdown",
      "source": [
        "## How to assign your weekly task to Google classroom\n",
        "\n",
        "- **Recommended:**\n",
        "\n",
        "  -  Once you copy the task to your own driver, the task colab file is in the [Colab Notebook] folder in you google driver.\n",
        "  -  Just upload the task **ipynb** file to the Google Classroom.\n",
        "\n",
        "  - Do not forget to save your colab file before uploading.\n",
        "\n",
        "\n",
        "- Another way:\n",
        "\n",
        "\n",
        "- 1. Download the colab file using **'File - download - .ipynb'** in the menu bar.\n",
        "\n",
        "- 2. You will get a ipynb file in your local laptop, then upload the file to the Google Classroom.\n",
        "\n"
      ],
      "metadata": {
        "id": "4oR_ySp1TsZX"
      }
    },
    {
      "cell_type": "markdown",
      "source": [
        "###<font color='crimson'>[Task 1]Dice Experiment </font>\n",
        "\n",
        "Create a function that throws the dice (randomly get 1~6) twice and outputs the addition of the numbers that come out.\n",
        "\n"
      ],
      "metadata": {
        "id": "r-hdxvvEYJe0"
      }
    },
    {
      "cell_type": "code",
      "source": [
        "import random\n",
        "# Task 1\n",
        "def throw_dice():\n",
        "  a = random.randint(1,6);  b = random.randint(1, 6)\n",
        "  return [a], [b], [a+b]\n",
        "\n",
        "throw_dice()"
      ],
      "metadata": {
        "id": "5CFAy1fRYI4T",
        "colab": {
          "base_uri": "https://localhost:8080/"
        },
        "outputId": "df177a26-26f8-4da2-b751-3fb770bfd13f"
      },
      "execution_count": null,
      "outputs": [
        {
          "output_type": "execute_result",
          "data": {
            "text/plain": [
              "([5], [2], [7])"
            ]
          },
          "metadata": {},
          "execution_count": 6
        }
      ]
    },
    {
      "cell_type": "markdown",
      "source": [
        "###<font color='crimson'>[Task 2] Law of Large Numbers</font>\n",
        "\n",
        "The law of large numbers states that **the sample mean of an integrable sequence of random variables following independent homoscedastic distributions converges to the mean**.\n",
        "\n",
        "Perform the following experiment and visualize the results.\n",
        "\n",
        "1. conduct an experiment in which a coin is tossed 1000 times with a probability of 0.5 to turn up.\n",
        "\n",
        "1. After each experiment, record the **probability** that the coin has ever turned up. (If this is the 5th time, record the probability of the coin turning face up by the 5th time.)\n",
        "\n",
        "1. visualize the 1000 probabilities with a fold line."
      ],
      "metadata": {
        "id": "iuUikbSeOIsL"
      }
    },
    {
      "cell_type": "code",
      "source": [
        "import matplotlib.pyplot as plt\n",
        "\n",
        "# Task 2\n",
        "num = []\n",
        "sum = 0\n",
        "for n in range(0, 1000):\n",
        "  a = random.randint(0, 1)\n",
        "  if(a == 1):\n",
        "    sum += 1; num.append(sum/(n+1))\n",
        "  else:\n",
        "    num.append(sum/(n+1))\n",
        "\n",
        "plt.plot(num)\n",
        "\n"
      ],
      "metadata": {
        "id": "gRtlmSXh2yAq",
        "colab": {
          "base_uri": "https://localhost:8080/",
          "height": 448
        },
        "outputId": "e9ff7b11-60dd-4249-fa86-a4d1b6ac5fe3"
      },
      "execution_count": null,
      "outputs": [
        {
          "output_type": "execute_result",
          "data": {
            "text/plain": [
              "[<matplotlib.lines.Line2D at 0x7fe564d12770>]"
            ]
          },
          "metadata": {},
          "execution_count": 15
        },
        {
          "output_type": "display_data",
          "data": {
            "text/plain": [
              "<Figure size 640x480 with 1 Axes>"
            ],
            "image/png": "[encoded data removed]"
          },
          "metadata": {}
        }
      ]
    },
    {
      "cell_type": "markdown",
      "source": [
        "###<font color='crimson'>[Task 3] Empirical Probability</font>\n",
        "\n",
        "You must arrive at school before 10:00 a.m. Assume that the time it takes you to get from home to school follows a Normal Distribution $N(20, 10^2)$.\n",
        "\n",
        "- Assume that 100,000 times you leave home at 9:30 a.m. Calculate the **number of times**, and **probability** that you are late.\n",
        "\n",
        "** Note that this is a simulation, so it is normal that the answer changes every time you execute the program (unless you use `np.random.seed()`)."
      ],
      "metadata": {
        "id": "s7Z3di_J5JQC"
      }
    },
    {
      "cell_type": "code",
      "source": [
        "# Task 3\n",
        "import numpy as np\n",
        "count = 0\n",
        "for _ in range(0, 100000):\n",
        "    n  = np.random.normal(20, 10)\n",
        "    if(n > 30):\n",
        "      count += 1\n",
        "\n",
        "print(f\"遅刻した回数は{count}回です\")"
      ],
      "metadata": {
        "id": "LASAZISy7he5",
        "colab": {
          "base_uri": "https://localhost:8080/"
        },
        "outputId": "46e6f998-e64f-4615-dc6b-3a73cd232996"
      },
      "execution_count": null,
      "outputs": [
        {
          "output_type": "stream",
          "name": "stdout",
          "text": [
            "遅刻した回数は15906回です\n"
          ]
        }
      ]
    },
    {
      "cell_type": "markdown",
      "source": [
        "###<font color='crimson'>[Task 4]Angle formed by vectors</font>\n",
        "\n",
        "Given a matirx $A$, make a function which has three input - `mat, row1, row2`, and return the angle formed by the two arrays selected by the `row1` and `row2` from `mat`. Note that `mat` is a two-dimensional matrix (Like $A$), `row1`, `row2` infers the row number of `mat`.\n",
        "\n",
        "$$\n",
        "cos \\theta = \\frac{\\vec{a} \\cdot \\vec{b}}{|\\vec{a}||\\vec{b}|}\n",
        "$$\n",
        "\n",
        "\n",
        "<div align=\"center\">\n",
        "\n",
        "<img src=\"https://drive.google.com/uc?export=view&id=1D3_GX0VMLuuaaK2YnwT9X2KLiUABwVZm\" width=\"80%\">\n",
        "</div>\n",
        "\n",
        "\n",
        "★Challenge★\n",
        "\n",
        "Given a matirx $A$, calculate all the angles between the two vectors in each row (e.g., if there are 3 rows, then calculate the angles using A[0] and A[1], A[0] and A[2], A[1] and A[2], respectively), and print in the form (vector a, vector b, angle at the angle) from highest to lowest.\n",
        "\n",
        "<font color='crimson'>e.g.,</font>\n",
        "\n",
        "([a1, a2, a3], [b1, b2, b3], angle1)\n",
        "\n",
        "([c1, c2, c3], [b1, b2, b3], angle2)\n",
        "\n",
        "..."
      ],
      "metadata": {
        "id": "LnwuoHEM-_oI"
      }
    },
    {
      "cell_type": "markdown",
      "source": [
        "**hint**:\n",
        "\n",
        "Use the function below to calculate the angle from $cos \\theta$ on the left side."
      ],
      "metadata": {
        "id": "cXvlnSIrA2Qd"
      }
    },
    {
      "cell_type": "code",
      "source": [
        "# Function to compute angles from cosines\n",
        "import numpy as np\n",
        "def cos2angle(cos):\n",
        "    rad = np.arccos(cos)\n",
        "    theta = rad * 180 / np.pi\n",
        "    return theta\n",
        "\n",
        "print(cos2angle(0.5))"
      ],
      "metadata": {
        "colab": {
          "base_uri": "https://localhost:8080/"
        },
        "id": "NpJLYtiBCVuG",
        "outputId": "049261fa-3561-47b4-c567-b59e3874a1b1"
      },
      "execution_count": null,
      "outputs": [
        {
          "output_type": "stream",
          "name": "stdout",
          "text": [
            "60.00000000000001\n"
          ]
        }
      ]
    },
    {
      "cell_type": "code",
      "source": [
        "# Task 4\n",
        "\n",
        "import numpy as np\n",
        "np.random.seed(0)\n",
        "A = np.random.normal(0, 1, 15).reshape(5,-1)\n",
        "print(A)\n",
        "\n",
        "# From here\n",
        "def calc_anglea(mat, row1, row2):\n",
        "  v_1 = mat[row1]\n",
        "  v_2 = mat[row2]\n",
        "  cos_theta = np.dot(v_1, v_2) / (np.linalg.norm(v_1) * np.linalg.norm(v_2))\n",
        "  return cos2angle(cos_theta)\n",
        "#calc_anglea(A, 0, 2)"
      ],
      "metadata": {
        "id": "qRPtQrMPC8m2",
        "colab": {
          "base_uri": "https://localhost:8080/"
        },
        "outputId": "da4e4dd9-a851-46e0-f95d-3828ec9604db"
      },
      "execution_count": null,
      "outputs": [
        {
          "output_type": "stream",
          "name": "stdout",
          "text": [
            "[[ 1.76405235  0.40015721  0.97873798]\n",
            " [ 2.2408932   1.86755799 -0.97727788]\n",
            " [ 0.95008842 -0.15135721 -0.10321885]\n",
            " [ 0.4105985   0.14404357  1.45427351]\n",
            " [ 0.76103773  0.12167502  0.44386323]]\n"
          ]
        },
        {
          "output_type": "execute_result",
          "data": {
            "text/plain": [
              "40.44728163975405"
            ]
          },
          "metadata": {},
          "execution_count": 28
        }
      ]
    }
  ]
}
