{
  "nbformat": 4,
  "nbformat_minor": 0,
  "metadata": {
    "colab": {
      "provenance": [],
      "include_colab_link": true
    },
    "kernelspec": {
      "name": "python3",
      "display_name": "Python 3"
    },
    "language_info": {
      "name": "python"
    }
  },
  "cells": [
    {
      "cell_type": "markdown",
      "metadata": {
        "id": "view-in-github",
        "colab_type": "text"
      },
      "source": [
        "<a href=\"https://colab.research.google.com/github/yuu19/advanced_data_lecture/blob/main/ADS_Weekly_Task_7_ipynb_%E3%81%AE%E3%82%B3%E3%83%94%E3%83%BC.ipynb\" target=\"_parent\"><img src=\"https://colab.research.google.com/assets/colab-badge.svg\" alt=\"Open In Colab\"/></a>"
      ]
    },
    {
      "cell_type": "markdown",
      "source": [
        "## Do not forget to make a copy before you start!\n",
        "\n",
        "## **<font color='crimson'> Deadline: 2023/06/22 12:00:00 </font>**\n"
      ],
      "metadata": {
        "id": "RctKQEpjTYYa"
      }
    },
    {
      "cell_type": "markdown",
      "source": [
        "## How to assign your weekly task to Google classroom\n",
        "\n",
        "- **Recommended:**\n",
        "\n",
        "  -  Once you copy the task to your own driver, the task colab file is in the [Colab Notebook] folder in you google driver.\n",
        "  -  Just upload the task **ipynb** file to the Google Classroom.\n",
        "\n",
        "  - Do not forget to save your colab file before uploading.\n",
        "\n",
        "\n",
        "- Another way:\n",
        "\n",
        "\n",
        "- 1. Download the colab file using **'File - download - .ipynb'** in the menu bar.\n",
        "\n",
        "- 2. You will get a ipynb file in your local laptop, then upload the file to the Google Classroom.\n",
        "\n"
      ],
      "metadata": {
        "id": "4oR_ySp1TsZX"
      }
    },
    {
      "cell_type": "markdown",
      "source": [
        "<font size=8>Download and load this text file for the tasks!</font>"
      ],
      "metadata": {
        "id": "FywxRfVmGEjQ"
      }
    },
    {
      "cell_type": "code",
      "source": [
        "# Download the file first!\n",
        "\n",
        "!wget https://raw.githubusercontent.com/dgod1028/Research/main/data/sendai_eco_mix.txt"
      ],
      "metadata": {
        "id": "V1o2SMCbFuup",
        "colab": {
          "base_uri": "https://localhost:8080/"
        },
        "outputId": "ba8eff3e-c617-4cd4-bb67-03cd3a794404"
      },
      "execution_count": null,
      "outputs": [
        {
          "output_type": "stream",
          "name": "stdout",
          "text": [
            "--2023-06-19 03:17:32--  https://raw.githubusercontent.com/dgod1028/Research/main/data/sendai_eco_mix.txt\n",
            "Resolving raw.githubusercontent.com (raw.githubusercontent.com)... 185.199.108.133, 185.199.109.133, 185.199.110.133, ...\n",
            "Connecting to raw.githubusercontent.com (raw.githubusercontent.com)|185.199.108.133|:443... connected.\n",
            "HTTP request sent, awaiting response... 200 OK\n",
            "Length: 1741 (1.7K) [text/plain]\n",
            "Saving to: ‘sendai_eco_mix.txt’\n",
            "\n",
            "\rsendai_eco_mix.txt    0%[                    ]       0  --.-KB/s               \rsendai_eco_mix.txt  100%[===================>]   1.70K  --.-KB/s    in 0s      \n",
            "\n",
            "2023-06-19 03:17:33 (16.6 MB/s) - ‘sendai_eco_mix.txt’ saved [1741/1741]\n",
            "\n"
          ]
        }
      ]
    },
    {
      "cell_type": "markdown",
      "source": [
        "# load your file.\n"
      ],
      "metadata": {
        "id": "2tEG8gbeI8ti"
      }
    },
    {
      "cell_type": "markdown",
      "source": [
        "###<font color='crimson'>[Task 1] Extract words</font>\n",
        "\n",
        "Extract all the words start from S or s.(Should not include words like constraint)."
      ],
      "metadata": {
        "id": "qm5ZdaMHdbo8"
      }
    },
    {
      "cell_type": "code",
      "source": [
        "with open('sendai_eco_mix.txt', 'r') as f:\n",
        "  text = f.read() # read all the data\n",
        "print(text)\n",
        "\n",
        "import nltk\n",
        "nltk.download('stopwords')\n",
        "from nltk.corpus import stopwords"
      ],
      "metadata": {
        "id": "DY-1JD3idbJh",
        "colab": {
          "base_uri": "https://localhost:8080/"
        },
        "outputId": "24985259-efc2-4c82-e5fb-15d06e53cc5f"
      },
      "execution_count": null,
      "outputs": [
        {
          "output_type": "stream",
          "name": "stderr",
          "text": [
            "[nltk_data] Downloading package stopwords to /root/nltk_data...\n",
            "[nltk_data]   Package stopwords is already up-to-date!\n"
          ]
        }
      ]
    },
    {
      "cell_type": "code",
      "source": [
        "import re\n",
        "\n",
        "#Task1: S, sから始まる単語を抽出\n",
        "re.findall('(?<!\\w)[Ss]\\w*', text)"
      ],
      "metadata": {
        "colab": {
          "base_uri": "https://localhost:8080/"
        },
        "id": "BVXZ3eEUJS9a",
        "outputId": "be9b7e78-712c-49ff-ba0b-dd65c8ce4022"
      },
      "execution_count": null,
      "outputs": [
        {
          "output_type": "execute_result",
          "data": {
            "text/plain": [
              "['Sendai',\n",
              " 's',\n",
              " 's',\n",
              " 'Sendai',\n",
              " 'Sendai',\n",
              " 'Sendai',\n",
              " 's',\n",
              " 'services',\n",
              " 'Sendai',\n",
              " 'science',\n",
              " 'startups',\n",
              " 'scrollTo',\n",
              " 'supplier',\n",
              " 'Sendai',\n",
              " 'Shin',\n",
              " 'Sendai',\n",
              " 'Station',\n",
              " 'scrollTo',\n",
              " 'Sendai',\n",
              " 's',\n",
              " 'stabilized',\n",
              " 'since',\n",
              " 'spiked',\n",
              " 'since',\n",
              " 'Sendai']"
            ]
          },
          "metadata": {},
          "execution_count": 7
        }
      ]
    },
    {
      "cell_type": "markdown",
      "source": [
        "###<font color='crimson'>[Task 2] Find thed websites!</font>\n",
        "\n",
        "I mixed three website starts from http or https. extract all the websites from the text correctly. **The more flexible your pattern, the higher score you will get!**"
      ],
      "metadata": {
        "id": "OrHskcJ3GrDR"
      }
    },
    {
      "cell_type": "code",
      "source": [
        "# Your code here\n",
        "re.findall('(?<!\\w)https?://\\S+', text)\n",
        "#re.findall('(?<!\\w)(?:http|https)\\S+', text)"
      ],
      "metadata": {
        "id": "R5856n3RHCil",
        "colab": {
          "base_uri": "https://localhost:8080/"
        },
        "outputId": "f166802c-6db0-43c0-df63-7ec6e126ba6a"
      },
      "execution_count": null,
      "outputs": [
        {
          "output_type": "execute_result",
          "data": {
            "text/plain": [
              "['https://colab.research.google.com/drive/1DYEgnp6-zUDhJMCWzFSUCuBwIdPeUg1s#scrollTo=qm5ZdaMHdbo8',\n",
              " 'http://colab.research.google.com/drive/1TNwiZiT__bHaAHE1W9rjmhe1zagrNyda#scrollTo=qchJU1WZmavL',\n",
              " 'https://www.google.co.jp/']"
            ]
          },
          "metadata": {},
          "execution_count": 4
        }
      ]
    },
    {
      "cell_type": "markdown",
      "source": [
        "###<font color='crimson'>[Task 3] Calculate dollars</font>\n",
        "\n",
        "1. Extract all the numbers start from US\\$ (e.g., US\\$61.7)\n",
        "\n",
        "1. Then calculate the mean values of extracted numbers.\n",
        "\n"
      ],
      "metadata": {
        "id": "6ZTt_JlzHDpN"
      }
    },
    {
      "cell_type": "code",
      "source": [
        "# Your code here\n",
        "import numpy as np\n",
        "a = np.array(re.findall('(?<!US$)\\d+', text), dtype=int)\n",
        "print(\"平均値は{:.3f}\".format(np.sum(a)/len(a)))"
      ],
      "metadata": {
        "id": "2MlfxNl9HDpO",
        "colab": {
          "base_uri": "https://localhost:8080/"
        },
        "outputId": "0f5747c4-d588-47af-b456-e45a40061714"
      },
      "execution_count": null,
      "outputs": [
        {
          "output_type": "stream",
          "name": "stdout",
          "text": [
            "平均値は417.029\n"
          ]
        }
      ]
    },
    {
      "cell_type": "markdown",
      "source": [
        "###<font color='crimson'>[Task 4] Numbers with condition</font>\n",
        "\n",
        "Extract all the numbers which are surrounded by [].\n",
        "\n"
      ],
      "metadata": {
        "id": "lK9wKRTlIg6g"
      }
    },
    {
      "cell_type": "code",
      "source": [
        "# Your code here\n",
        "re.findall('(?<!US$)\\[\\d+\\]', text)"
      ],
      "metadata": {
        "id": "so6pbLpXIqno",
        "colab": {
          "base_uri": "https://localhost:8080/"
        },
        "outputId": "3dc6fc99-056b-4ea0-c63c-7a10fd1b8ae6"
      },
      "execution_count": null,
      "outputs": [
        {
          "output_type": "execute_result",
          "data": {
            "text/plain": [
              "['[16]', '[17]', '[18]', '[19]', '[20]']"
            ]
          },
          "metadata": {},
          "execution_count": 61
        }
      ]
    },
    {
      "cell_type": "markdown",
      "source": [
        "###<font color='crimson'>[Task 5] Advanced - Extract number with condition</font>\n",
        "\n",
        "Extract all the numbers from the text. and take the sum for the numbers. **But**\n",
        "\n",
        "- The scale of numbers should be considered. For example, if the text is 61.7 million, then you need to conver this number to 61700000. The same to the billion.\n",
        "\n",
        "- If the number is percentage, just convert it to the real number (e.g., 4% -> 0.04)."
      ],
      "metadata": {
        "id": "LVg_qx5qHm0T"
      }
    },
    {
      "cell_type": "code",
      "source": [
        "from IPython.utils.text import num_ini_spaces\n",
        "# Your code here\n",
        "#num = np.array(re.findall('(?<!\\w)\\d+\\S*', text))\n",
        "nums = re.findall('\\d+(?:%|\\s*million|\\s*billion)*', text)\n",
        "\n",
        "sum = 0\n",
        "\n",
        "for num in nums:\n",
        "  if(\"million\" in num):\n",
        "    tmp = re.findall('\\d+', num)\n",
        "    sum += int(tmp[0]) * 1000000\n",
        "  if(\"billion\" in num):\n",
        "    tmp = re.findall(\"\\d+\", num)\n",
        "    sum += int(tmp[0]) * 1000000000\n",
        "  if(\"%\" in num):\n",
        "    tmp = re.findall(\"\\d+\", num)\n",
        "    sum += int(tmp[0]) / 100\n",
        "  else:\n",
        "    sum += int(num[0])\n",
        "\n",
        "print(sum)\n",
        "\n"
      ],
      "metadata": {
        "id": "C_SkJLxZIMAS",
        "colab": {
          "base_uri": "https://localhost:8080/"
        },
        "outputId": "1e956382-a72e-40f9-e1e6-d27d3f913b72"
      },
      "execution_count": null,
      "outputs": [
        {
          "output_type": "stream",
          "name": "stdout",
          "text": [
            "57235000087.15\n"
          ]
        }
      ]
    }
  ]
}
