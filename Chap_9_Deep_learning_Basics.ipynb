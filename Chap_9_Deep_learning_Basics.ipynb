{
  "nbformat": 4,
  "nbformat_minor": 0,
  "metadata": {
    "colab": {
      "provenance": [],
      "gpuType": "T4",
      "include_colab_link": true
    },
    "kernelspec": {
      "name": "python3",
      "display_name": "Python 3"
    },
    "language_info": {
      "name": "python"
    },
    "accelerator": "GPU"
  },
  "cells": [
    {
      "cell_type": "markdown",
      "metadata": {
        "id": "view-in-github",
        "colab_type": "text"
      },
      "source": [
        "<a href=\"https://colab.research.google.com/github/yuu19/advanced_data_lecture/blob/main/Chap_9_Deep_learning_Basics.ipynb\" target=\"_parent\"><img src=\"https://colab.research.google.com/assets/colab-badge.svg\" alt=\"Open In Colab\"/></a>"
      ]
    },
    {
      "cell_type": "markdown",
      "source": [
        "<a name='section_9'></a>\n",
        "# 9.<font color=\"Crimson\">Pytorch and Deep learning basics</font>\n",
        "\n",
        "　Deep learning is a machine learning technique that mimics the mechanism of human neurons and is characterized by the use of multi-layered networks.\n",
        "\n",
        "　In the previous lectures, we mainly learned about machine learning using **scikit-learn**, but from this lecture, we will challenge image recognition and various real-world problems using the deep learning (Deep Learning) library **Pytorch**.\n",
        "\n",
        "\n",
        "**Goals of this lecture**:\n",
        "- 1. learn the basics of Pytorch\n",
        "- 2. learn differential and gradient descent.\n"
      ],
      "metadata": {
        "id": "XKnLHkYSsjkZ"
      }
    },
    {
      "cell_type": "markdown",
      "source": [
        "## <font color=\"Crimson\">**Preparation**</font>\n",
        "\n",
        "　From this lecture, we will use GPUs to improve computational efficiency. First, we need to prepare an environment where GPUs can be used. To use a GPU with **Colab**, change the settings and reconnect as shown in the following figure.(Change the type of runtime).\n",
        "\n",
        "<div align=\"center\">\n",
        "\n",
        "<img src=\"https://drive.google.com/uc?export=view&id=1ReWA-KRP4nihDwBLn4hgnuWRCpy3_2DH&\" width=\"100%\">\n",
        "\n",
        "**Figure 1. Use GPU**\n",
        "</div>"
      ],
      "metadata": {
        "id": "83YfSdgc70Jq"
      }
    },
    {
      "cell_type": "markdown",
      "source": [
        "## 9.1 <font color=\"Crimson\">Basics of Tensors</font>\n",
        "\n",
        "　First we will introduce **Tensors**, a new data type handled by **Pytorch**. A **Tensor** can be an array of any dimension, a single number is called a **0th-order** tensor, a vector is called a **1st-order** tensor, a matrix is called a **2nd-order** tensor, and a three-dimensional is called a **3rd-order** tensor. In **Pytorch**, you can use ``torch.tensor`` to handle tensors, and the basic usage is similar to **numpy**.\n",
        "\n"
      ],
      "metadata": {
        "id": "c3NDrw6XO7SB"
      }
    },
    {
      "cell_type": "code",
      "source": [
        "import torch\n",
        "# zeroth rank Tensor\n",
        "display(torch.tensor(2) )\n",
        "\n",
        "# 1st rank Tensor\n",
        "display(torch.tensor([1,2,3]))\n",
        "\n",
        "# 2nd rank Tensor\n",
        "display(torch.tensor([[1,2], [3, 4]]))"
      ],
      "metadata": {
        "colab": {
          "base_uri": "https://localhost:8080/",
          "height": 91
        },
        "id": "quIYi0kISnDx",
        "outputId": "c11b59ca-4132-4de9-bb26-4df0bce63424"
      },
      "execution_count": null,
      "outputs": [
        {
          "output_type": "display_data",
          "data": {
            "text/plain": [
              "tensor(2)"
            ]
          },
          "metadata": {}
        },
        {
          "output_type": "display_data",
          "data": {
            "text/plain": [
              "tensor([1, 2, 3])"
            ]
          },
          "metadata": {}
        },
        {
          "output_type": "display_data",
          "data": {
            "text/plain": [
              "tensor([[1, 2],\n",
              "        [3, 4]])"
            ]
          },
          "metadata": {}
        }
      ]
    },
    {
      "cell_type": "markdown",
      "source": [
        "One of the features of **Tensor** handled by **Pytorch** is that it is very compatible with the **numpy** library, and many functions handled by **numpy** can be used as well."
      ],
      "metadata": {
        "id": "Yhljq5cWTJCj"
      }
    },
    {
      "cell_type": "code",
      "source": [
        "import numpy as np\n",
        "\n",
        "# Numpy and Tensor\n",
        "\n",
        "a = np.array([1,2,3]) # numpy\n",
        "b = torch.from_numpy(a) #convert from numpy\n",
        "c = b.numpy() # convert from tensor\n",
        "print(a,'\\n', b,'\\n', c)"
      ],
      "metadata": {
        "colab": {
          "base_uri": "https://localhost:8080/"
        },
        "id": "idYext99TmBj",
        "outputId": "b52a2580-0749-4289-dbce-030c4e262ae7"
      },
      "execution_count": null,
      "outputs": [
        {
          "output_type": "stream",
          "name": "stdout",
          "text": [
            "[1 2 3] \n",
            " tensor([1, 2, 3]) \n",
            " [1 2 3]\n"
          ]
        }
      ]
    },
    {
      "cell_type": "markdown",
      "source": [
        "- Basic usage\n",
        "\n",
        "Tensor has many similar functions to the numpy."
      ],
      "metadata": {
        "id": "OLdhawYLyMeN"
      }
    },
    {
      "cell_type": "code",
      "source": [
        "# 1st rank Tensor\n",
        "a = torch.tensor([1.,2.,3.,4.,5.,6.])\n",
        "display(torch.sum(a))\n",
        "display(a.sum())\n",
        "display(torch.mean(a))\n",
        "display(a.mean())\n",
        "\n",
        "# 2nd rank Tensor\n",
        "b = torch.tensor([[1.,2.,3.],[4.,5.,6.]])\n",
        "display(b)\n",
        "display(torch.sum(b))\n",
        "display(torch.sum(b, axis=0))\n",
        "display(b.sum())\n",
        "display(b.sum(axis=0))\n",
        "\n",
        "display(torch.mean(b))\n",
        "display(torch.mean(b, axis=0))\n",
        "display(b.mean())\n",
        "display(b.mean(axis=0))"
      ],
      "metadata": {
        "colab": {
          "base_uri": "https://localhost:8080/",
          "height": 276
        },
        "id": "PGYu2n2CqUq5",
        "outputId": "ca4f1cb6-38b2-4674-9523-ff4f99d10bc4"
      },
      "execution_count": null,
      "outputs": [
        {
          "output_type": "display_data",
          "data": {
            "text/plain": [
              "tensor(21.)"
            ]
          },
          "metadata": {}
        },
        {
          "output_type": "display_data",
          "data": {
            "text/plain": [
              "tensor(21.)"
            ]
          },
          "metadata": {}
        },
        {
          "output_type": "display_data",
          "data": {
            "text/plain": [
              "tensor(3.5000)"
            ]
          },
          "metadata": {}
        },
        {
          "output_type": "display_data",
          "data": {
            "text/plain": [
              "tensor(3.5000)"
            ]
          },
          "metadata": {}
        },
        {
          "output_type": "display_data",
          "data": {
            "text/plain": [
              "tensor([[1., 2., 3.],\n",
              "        [4., 5., 6.]])"
            ]
          },
          "metadata": {}
        },
        {
          "output_type": "display_data",
          "data": {
            "text/plain": [
              "tensor(21.)"
            ]
          },
          "metadata": {}
        },
        {
          "output_type": "display_data",
          "data": {
            "text/plain": [
              "tensor([5., 7., 9.])"
            ]
          },
          "metadata": {}
        },
        {
          "output_type": "display_data",
          "data": {
            "text/plain": [
              "tensor(21.)"
            ]
          },
          "metadata": {}
        },
        {
          "output_type": "display_data",
          "data": {
            "text/plain": [
              "tensor([5., 7., 9.])"
            ]
          },
          "metadata": {}
        },
        {
          "output_type": "display_data",
          "data": {
            "text/plain": [
              "tensor(3.5000)"
            ]
          },
          "metadata": {}
        },
        {
          "output_type": "display_data",
          "data": {
            "text/plain": [
              "tensor([2.5000, 3.5000, 4.5000])"
            ]
          },
          "metadata": {}
        },
        {
          "output_type": "display_data",
          "data": {
            "text/plain": [
              "tensor(3.5000)"
            ]
          },
          "metadata": {}
        },
        {
          "output_type": "display_data",
          "data": {
            "text/plain": [
              "tensor([2.5000, 3.5000, 4.5000])"
            ]
          },
          "metadata": {}
        }
      ]
    },
    {
      "cell_type": "code",
      "source": [
        "# Create Tensor\n",
        "import torch\n",
        "import numpy as np\n",
        "# Zero matrix\n",
        "display( torch.zeros(2,2) )\n",
        "\n",
        "# Diagonal matrix\n",
        "display( torch.eye(2) )\n",
        "\n",
        "# random values from 0-1\n",
        "tmp1 = torch.rand(10)\n",
        "display( tmp1)\n",
        "\n",
        "# Change the dimension with view, you can also use reshape\n",
        "tmp2 = tmp1.view(2, -1) # reshape\n",
        "display(tmp2)\n",
        "\n",
        "# Confirm data size\n",
        "display(tmp2.shape) # tmp2.size()"
      ],
      "metadata": {
        "colab": {
          "base_uri": "https://localhost:8080/",
          "height": 173
        },
        "id": "pzhpYZGAUUby",
        "outputId": "81a50d12-e3f9-43bb-ae13-f2e50c3e0801"
      },
      "execution_count": null,
      "outputs": [
        {
          "output_type": "display_data",
          "data": {
            "text/plain": [
              "tensor([[0., 0.],\n",
              "        [0., 0.]])"
            ]
          },
          "metadata": {}
        },
        {
          "output_type": "display_data",
          "data": {
            "text/plain": [
              "tensor([[1., 0.],\n",
              "        [0., 1.]])"
            ]
          },
          "metadata": {}
        },
        {
          "output_type": "display_data",
          "data": {
            "text/plain": [
              "tensor([0.1992, 0.3735, 0.1700, 0.9936, 0.3825, 0.8430, 0.0295, 0.1443, 0.5411,\n",
              "        0.6536])"
            ]
          },
          "metadata": {}
        },
        {
          "output_type": "display_data",
          "data": {
            "text/plain": [
              "tensor([[0.1992, 0.3735, 0.1700, 0.9936, 0.3825],\n",
              "        [0.8430, 0.0295, 0.1443, 0.5411, 0.6536]])"
            ]
          },
          "metadata": {}
        },
        {
          "output_type": "display_data",
          "data": {
            "text/plain": [
              "torch.Size([2, 5])"
            ]
          },
          "metadata": {}
        }
      ]
    },
    {
      "cell_type": "markdown",
      "source": [
        "There are many other uses, but the rest will be explained additionally when you actually use it.\n",
        "\n",
        "　Second, you can use ``to('cuda')`` to perform tensor-to-tensor calculations on the GPU."
      ],
      "metadata": {
        "id": "JOboitiPVxIl"
      }
    },
    {
      "cell_type": "code",
      "source": [
        "import torch\n",
        "\n",
        "a = torch.tensor([1,2,3])\n",
        "b = torch.tensor([3,5,7])\n",
        "\n",
        "# Inner product\n",
        "print(a.dot(b))\n",
        "\n",
        "# Inner product using GPU\n",
        "c = torch.tensor([1.,2.,3.]).to('cuda')\n",
        "d = torch.tensor([3.,5.,7.]).to('cuda')\n",
        "\n",
        "print(c.dot(d))"
      ],
      "metadata": {
        "colab": {
          "base_uri": "https://localhost:8080/"
        },
        "id": "rlKoACMFXAKL",
        "outputId": "1b1cd4c6-c75c-4e90-e89e-cd7322adbe49"
      },
      "execution_count": null,
      "outputs": [
        {
          "output_type": "stream",
          "name": "stdout",
          "text": [
            "tensor(34)\n",
            "tensor(34., device='cuda:0')\n"
          ]
        }
      ]
    },
    {
      "cell_type": "markdown",
      "source": [
        "Note that the inner product of $a$ and $b$ is calculated on the CPU and the inner product of $c$ and $d$ is calculated on the GPU; it cannot be calculated between data passed to the CPU and data passed to the GPU."
      ],
      "metadata": {
        "id": "UkwyueE2YCKK"
      }
    },
    {
      "cell_type": "code",
      "source": [
        "# Calculations between different devices will produce errors\n",
        "#a.dot(c)"
      ],
      "metadata": {
        "id": "GEu-x2X5YArj"
      },
      "execution_count": null,
      "outputs": []
    },
    {
      "cell_type": "markdown",
      "source": [
        "<font color='crimson'>Simple Tips<font>\n",
        "\n",
        "　Now, you can choose CPU or GPU for the actual calculation and unify them by programming as follows\n",
        "\n",
        "\n"
      ],
      "metadata": {
        "id": "5YfTCJawYkzT"
      }
    },
    {
      "cell_type": "code",
      "source": [
        "def calculation(x,y, device='cpu'):\n",
        "  x = x.to(device)\n",
        "  y = y.to(device)\n",
        "  return x.dot(y)\n",
        "\n",
        "device1 = 'cpu'\n",
        "device2 = 'cuda'\n",
        "print( calculation(a, b, device1) )\n",
        "print( calculation(c, d, device2) )"
      ],
      "metadata": {
        "colab": {
          "base_uri": "https://localhost:8080/"
        },
        "id": "Mzr2rZkYY_Ey",
        "outputId": "bf4c976e-c267-4953-d31f-2dfaadd9788e"
      },
      "execution_count": null,
      "outputs": [
        {
          "output_type": "stream",
          "name": "stdout",
          "text": [
            "tensor(34)\n",
            "tensor(34., device='cuda:0')\n"
          ]
        }
      ]
    },
    {
      "cell_type": "markdown",
      "source": [
        "## 9.2. <font color=\"Crimson\">differential calculus</font>\n",
        "\n",
        "\n"
      ],
      "metadata": {
        "id": "46_6UsK9xPsJ"
      }
    },
    {
      "cell_type": "markdown",
      "source": [
        "\n",
        "We will then briefly discuss another important aspect of deep learning: differential calculus.\n",
        "\n",
        "The differential calculus $f'(x)$ of the function $f(x)$ can be written as\n",
        "\n",
        "<br><br>\n",
        "$$\n",
        "f'(x)=\\lim_{h \\to +0}\\frac{f(x+h)-f(x)}{h} \\tag{1}\n",
        "$$\n",
        "\n",
        "However, **Pytorch** does not perform derivative calculations at the mathematical level (e.g., differentiating $y=x^2$ yields $y'=2x$), but actually assigns a very small number (e.g., 1e-6) to $h$ and uses numerical calculations to obtain an approximation. Such a method is called **numerical differentiation**, not equation (1),\n",
        "\n",
        "<br><br>\n",
        "$$\n",
        "f'(x)\\fallingdotseq \\frac{f(x+h)-f(x-h)} {2h} \\tag{2}\n",
        "$$\n",
        "<br>\n",
        "\n",
        "to compute approximate values.\n",
        "\n",
        "Numerical differentiation is implemented in **Pytorch**. To compute the numerical differential,\n",
        "\n",
        "- 1) When creating a tensor, define it with ``requires_grad=True``.\n",
        "\n",
        "- 2) The tensor created in 1) is substituted into the function as input data and the output value $y$ is calculated.\n",
        "\n",
        "- 3) The numerical differential in **Pytorch** requires the final value to be a scalar. Therefore, if the output is a vector, use ``z=y.sum()`` to create a scalar output $z$. This is not necessary if $y$ is a scalar.\n",
        "\n",
        "- 4) Numerical differentiation (gradient calculation) is performed with `z.backward()`.\n",
        "\n",
        "- 5) The gradient value is stored in ``grad`` for each variable (``x.grad`` for ``x``)\n",
        "\n",
        "\n",
        "Now let's look at the $y=x^2$ example to create a function of numerical differentiation."
      ],
      "metadata": {
        "id": "r0qAjydo0PEc"
      }
    },
    {
      "cell_type": "code",
      "source": [
        "# 1. requires_grad=True, it will calculate differential calculus for this variable\n",
        "x = torch.tensor(1.5, requires_grad=True)\n",
        "\n",
        "# 2. y = x^2\n",
        "y = x ** 2\n",
        "\n",
        "# 4. Use backward to calculate the differential\n",
        "y.backward()\n",
        "\n",
        "# 4. show the grade\n",
        "x.grad"
      ],
      "metadata": {
        "colab": {
          "base_uri": "https://localhost:8080/"
        },
        "id": "HGXP3CFoyMrF",
        "outputId": "4ff7c020-ab13-454c-bfe9-39967333b217"
      },
      "execution_count": null,
      "outputs": [
        {
          "output_type": "execute_result",
          "data": {
            "text/plain": [
              "tensor(3.)"
            ]
          },
          "metadata": {},
          "execution_count": 5
        }
      ]
    },
    {
      "cell_type": "markdown",
      "source": [
        "- gradient values for multiple inputs"
      ],
      "metadata": {
        "id": "DvFUqCNFcmIL"
      }
    },
    {
      "cell_type": "code",
      "source": [
        "import torch\n",
        "\n",
        "# 1 define x\n",
        "x = torch.arange(-5, 5, 0.1, dtype=torch.float32, requires_grad=True)\n",
        "\n",
        "# 2 calculate y\n",
        "y = x ** 2\n",
        "\n",
        "# 3 Summry to a scalar\n",
        "# Note that the final part should be scalar, so you need to make sum for y.\n",
        "z = y.mean()\n",
        "\n",
        "# 4. backward\n",
        "z.backward()\n",
        "\n",
        "# 5. x.grad\n",
        "x.grad"
      ],
      "metadata": {
        "colab": {
          "base_uri": "https://localhost:8080/"
        },
        "id": "_XK7muzvgzxT",
        "outputId": "3e637126-6b91-496c-fb37-e4dccdd64e94"
      },
      "execution_count": null,
      "outputs": [
        {
          "output_type": "execute_result",
          "data": {
            "text/plain": [
              "tensor([-1.0000e-01, -9.8000e-02, -9.6000e-02, -9.4000e-02, -9.2000e-02,\n",
              "        -9.0000e-02, -8.8000e-02, -8.6000e-02, -8.4000e-02, -8.2000e-02,\n",
              "        -8.0000e-02, -7.8000e-02, -7.6000e-02, -7.4000e-02, -7.2000e-02,\n",
              "        -7.0000e-02, -6.8000e-02, -6.6000e-02, -6.4000e-02, -6.2000e-02,\n",
              "        -6.0000e-02, -5.8000e-02, -5.6000e-02, -5.4000e-02, -5.2000e-02,\n",
              "        -5.0000e-02, -4.8000e-02, -4.6000e-02, -4.4000e-02, -4.2000e-02,\n",
              "        -4.0000e-02, -3.8000e-02, -3.6000e-02, -3.4000e-02, -3.2000e-02,\n",
              "        -3.0000e-02, -2.8000e-02, -2.6000e-02, -2.4000e-02, -2.2000e-02,\n",
              "        -2.0000e-02, -1.8000e-02, -1.6000e-02, -1.4000e-02, -1.2000e-02,\n",
              "        -1.0000e-02, -8.0000e-03, -6.0000e-03, -4.0000e-03, -2.0000e-03,\n",
              "        -5.9605e-11,  2.0000e-03,  4.0000e-03,  6.0000e-03,  8.0000e-03,\n",
              "         1.0000e-02,  1.2000e-02,  1.4000e-02,  1.6000e-02,  1.8000e-02,\n",
              "         2.0000e-02,  2.2000e-02,  2.4000e-02,  2.6000e-02,  2.8000e-02,\n",
              "         3.0000e-02,  3.2000e-02,  3.4000e-02,  3.6000e-02,  3.8000e-02,\n",
              "         4.0000e-02,  4.2000e-02,  4.4000e-02,  4.6000e-02,  4.8000e-02,\n",
              "         5.0000e-02,  5.2000e-02,  5.4000e-02,  5.6000e-02,  5.8000e-02,\n",
              "         6.0000e-02,  6.2000e-02,  6.4000e-02,  6.6000e-02,  6.8000e-02,\n",
              "         7.0000e-02,  7.2000e-02,  7.4000e-02,  7.6000e-02,  7.8000e-02,\n",
              "         8.0000e-02,  8.2000e-02,  8.4000e-02,  8.6000e-02,  8.8000e-02,\n",
              "         9.0000e-02,  9.2000e-02,  9.4000e-02,  9.6000e-02,  9.8000e-02])"
            ]
          },
          "metadata": {},
          "execution_count": 6
        }
      ]
    },
    {
      "cell_type": "markdown",
      "source": [
        "Let's visualize the f and f'."
      ],
      "metadata": {
        "id": "VaL_QH8emjdi"
      }
    },
    {
      "cell_type": "code",
      "source": [
        "x.data"
      ],
      "metadata": {
        "colab": {
          "base_uri": "https://localhost:8080/"
        },
        "id": "ysV31AMYDlE-",
        "outputId": "597750b7-2be8-4670-c6a6-cabf59160d11"
      },
      "execution_count": null,
      "outputs": [
        {
          "output_type": "execute_result",
          "data": {
            "text/plain": [
              "tensor([-5.0000e+00, -4.9000e+00, -4.8000e+00, -4.7000e+00, -4.6000e+00,\n",
              "        -4.5000e+00, -4.4000e+00, -4.3000e+00, -4.2000e+00, -4.1000e+00,\n",
              "        -4.0000e+00, -3.9000e+00, -3.8000e+00, -3.7000e+00, -3.6000e+00,\n",
              "        -3.5000e+00, -3.4000e+00, -3.3000e+00, -3.2000e+00, -3.1000e+00,\n",
              "        -3.0000e+00, -2.9000e+00, -2.8000e+00, -2.7000e+00, -2.6000e+00,\n",
              "        -2.5000e+00, -2.4000e+00, -2.3000e+00, -2.2000e+00, -2.1000e+00,\n",
              "        -2.0000e+00, -1.9000e+00, -1.8000e+00, -1.7000e+00, -1.6000e+00,\n",
              "        -1.5000e+00, -1.4000e+00, -1.3000e+00, -1.2000e+00, -1.1000e+00,\n",
              "        -1.0000e+00, -9.0000e-01, -8.0000e-01, -7.0000e-01, -6.0000e-01,\n",
              "        -5.0000e-01, -4.0000e-01, -3.0000e-01, -2.0000e-01, -1.0000e-01,\n",
              "        -2.9802e-09,  1.0000e-01,  2.0000e-01,  3.0000e-01,  4.0000e-01,\n",
              "         5.0000e-01,  6.0000e-01,  7.0000e-01,  8.0000e-01,  9.0000e-01,\n",
              "         1.0000e+00,  1.1000e+00,  1.2000e+00,  1.3000e+00,  1.4000e+00,\n",
              "         1.5000e+00,  1.6000e+00,  1.7000e+00,  1.8000e+00,  1.9000e+00,\n",
              "         2.0000e+00,  2.1000e+00,  2.2000e+00,  2.3000e+00,  2.4000e+00,\n",
              "         2.5000e+00,  2.6000e+00,  2.7000e+00,  2.8000e+00,  2.9000e+00,\n",
              "         3.0000e+00,  3.1000e+00,  3.2000e+00,  3.3000e+00,  3.4000e+00,\n",
              "         3.5000e+00,  3.6000e+00,  3.7000e+00,  3.8000e+00,  3.9000e+00,\n",
              "         4.0000e+00,  4.1000e+00,  4.2000e+00,  4.3000e+00,  4.4000e+00,\n",
              "         4.5000e+00,  4.6000e+00,  4.7000e+00,  4.8000e+00,  4.9000e+00])"
            ]
          },
          "metadata": {},
          "execution_count": 14
        }
      ]
    },
    {
      "cell_type": "code",
      "source": [
        "import matplotlib.pyplot as plt\n",
        "\n",
        "plt.plot(x.data, y.data)\n",
        "plt.plot(x.data, x.grad)\n",
        "plt.legend(['f', 'f\\''])\n",
        "plt.title('y=x^2')\n",
        "plt.xlabel('x')\n",
        "plt.ylabel('y')\n",
        "plt.show()"
      ],
      "metadata": {
        "colab": {
          "base_uri": "https://localhost:8080/",
          "height": 472
        },
        "id": "sbVBGHGAM4Ss",
        "outputId": "ae601eab-993c-45ac-8fd8-0821c1a2dc22"
      },
      "execution_count": null,
      "outputs": [
        {
          "output_type": "display_data",
          "data": {
            "text/plain": [
              "<Figure size 640x480 with 1 Axes>"
            ],
            "image/png": "[encoded data removed]"
          },
          "metadata": {}
        }
      ]
    },
    {
      "cell_type": "markdown",
      "source": [
        "As shown in this example, **pytorch** can automatically perform numerical differentiation and compute gradient values even for complex expressions, which is an essential feature for deep learning.Note that if you want to calculate the numerical differential again with $x$, you need to reset the gradient value to 0 once with ``grad.zero()``."
      ],
      "metadata": {
        "id": "Yqczmqj6pWIY"
      }
    },
    {
      "cell_type": "code",
      "source": [
        "print(x.grad)\n",
        "x.grad.zero_()\n",
        "print(x.grad)"
      ],
      "metadata": {
        "colab": {
          "base_uri": "https://localhost:8080/"
        },
        "id": "lFLdWwxKqojU",
        "outputId": "0f188a34-e444-46cb-bcd4-b24d8f39c304"
      },
      "execution_count": null,
      "outputs": [
        {
          "output_type": "stream",
          "name": "stdout",
          "text": [
            "tensor([-1.0000e+01, -9.8000e+00, -9.6000e+00, -9.4000e+00, -9.2000e+00,\n",
            "        -9.0000e+00, -8.8000e+00, -8.6000e+00, -8.4000e+00, -8.2000e+00,\n",
            "        -8.0000e+00, -7.8000e+00, -7.6000e+00, -7.4000e+00, -7.2000e+00,\n",
            "        -7.0000e+00, -6.8000e+00, -6.6000e+00, -6.4000e+00, -6.2000e+00,\n",
            "        -6.0000e+00, -5.8000e+00, -5.6000e+00, -5.4000e+00, -5.2000e+00,\n",
            "        -5.0000e+00, -4.8000e+00, -4.6000e+00, -4.4000e+00, -4.2000e+00,\n",
            "        -4.0000e+00, -3.8000e+00, -3.6000e+00, -3.4000e+00, -3.2000e+00,\n",
            "        -3.0000e+00, -2.8000e+00, -2.6000e+00, -2.4000e+00, -2.2000e+00,\n",
            "        -2.0000e+00, -1.8000e+00, -1.6000e+00, -1.4000e+00, -1.2000e+00,\n",
            "        -1.0000e+00, -8.0000e-01, -6.0000e-01, -4.0000e-01, -2.0000e-01,\n",
            "        -5.9605e-09,  2.0000e-01,  4.0000e-01,  6.0000e-01,  8.0000e-01,\n",
            "         1.0000e+00,  1.2000e+00,  1.4000e+00,  1.6000e+00,  1.8000e+00,\n",
            "         2.0000e+00,  2.2000e+00,  2.4000e+00,  2.6000e+00,  2.8000e+00,\n",
            "         3.0000e+00,  3.2000e+00,  3.4000e+00,  3.6000e+00,  3.8000e+00,\n",
            "         4.0000e+00,  4.2000e+00,  4.4000e+00,  4.6000e+00,  4.8000e+00,\n",
            "         5.0000e+00,  5.2000e+00,  5.4000e+00,  5.6000e+00,  5.8000e+00,\n",
            "         6.0000e+00,  6.2000e+00,  6.4000e+00,  6.6000e+00,  6.8000e+00,\n",
            "         7.0000e+00,  7.2000e+00,  7.4000e+00,  7.6000e+00,  7.8000e+00,\n",
            "         8.0000e+00,  8.2000e+00,  8.4000e+00,  8.6000e+00,  8.8000e+00,\n",
            "         9.0000e+00,  9.2000e+00,  9.4000e+00,  9.6000e+00,  9.8000e+00])\n",
            "tensor([0., 0., 0., 0., 0., 0., 0., 0., 0., 0., 0., 0., 0., 0., 0., 0., 0., 0., 0., 0., 0., 0., 0., 0.,\n",
            "        0., 0., 0., 0., 0., 0., 0., 0., 0., 0., 0., 0., 0., 0., 0., 0., 0., 0., 0., 0., 0., 0., 0., 0.,\n",
            "        0., 0., 0., 0., 0., 0., 0., 0., 0., 0., 0., 0., 0., 0., 0., 0., 0., 0., 0., 0., 0., 0., 0., 0.,\n",
            "        0., 0., 0., 0., 0., 0., 0., 0., 0., 0., 0., 0., 0., 0., 0., 0., 0., 0., 0., 0., 0., 0., 0., 0.,\n",
            "        0., 0., 0., 0.])\n"
          ]
        }
      ]
    },
    {
      "cell_type": "markdown",
      "source": [
        "If you want to calculate a gradient values for a numpy array, just convert it to tensor, and add `requires_grad_(True)` in the last part of the code."
      ],
      "metadata": {
        "id": "GMwkSo_Z38j6"
      }
    },
    {
      "cell_type": "markdown",
      "metadata": {
        "id": "ERSSe-NKcC6_"
      },
      "source": [
        "### <font color='crimson'>**[Practice 1]Differential** (10 mins)</font>\n",
        "\n",
        "Calculate the gradient values for the $y =- 3\\cdot x^3 + 2\\cdot x^2 - 10 \\cdot x$ for the $x$ based on the values given below.\n",
        "\n",
        "Then visualize the original function and the gradient values.\n",
        "\n",
        "<details>\n",
        "\n",
        "<summary> Hint 1 </summary>\n",
        "\n",
        "- Convert the numpy array to a tensor (do not forget to add `require_grad_(True)`).\n",
        "\n",
        "</details>\n",
        "\n",
        "<details>\n",
        "<summary> Hint 2 </summary>\n",
        "\n",
        "- Define y function using the x. `y = -3 x **3 .....`.\n",
        "\n",
        "</details>\n",
        "\n",
        "<details>\n",
        "<summary> Hint 3 </summary>\n",
        "\n",
        "- Do not forget to convert the y to a scalar. e.g., `z = y.sum()`\n",
        "\n",
        "</details>"
      ]
    },
    {
      "cell_type": "code",
      "source": [
        "x = np.arange(-10, 10, 0.1)\n",
        "\n",
        "# start here\n",
        "\n",
        "# 1.\n",
        "x = torch.from_numpy(x).requires_grad_(True)\n",
        "\n",
        "y = -3 * x ** 3 + 2 * x ** 2 - 10 * x\n",
        "z = y.sum()\n",
        "\n",
        "z.backward()\n",
        "\n",
        "x.grad"
      ],
      "metadata": {
        "id": "KIGrCW8X37u6",
        "colab": {
          "base_uri": "https://localhost:8080/"
        },
        "outputId": "3700235d-e46e-4201-8c7a-5a61530376f7"
      },
      "execution_count": null,
      "outputs": [
        {
          "output_type": "execute_result",
          "data": {
            "text/plain": [
              "tensor([-950.0000, -931.6900, -913.5600, -895.6100, -877.8400, -860.2500,\n",
              "        -842.8400, -825.6100, -808.5600, -791.6900, -775.0000, -758.4900,\n",
              "        -742.1600, -726.0100, -710.0400, -694.2500, -678.6400, -663.2100,\n",
              "        -647.9600, -632.8900, -618.0000, -603.2900, -588.7600, -574.4100,\n",
              "        -560.2400, -546.2500, -532.4400, -518.8100, -505.3600, -492.0900,\n",
              "        -479.0000, -466.0900, -453.3600, -440.8100, -428.4400, -416.2500,\n",
              "        -404.2400, -392.4100, -380.7600, -369.2900, -358.0000, -346.8900,\n",
              "        -335.9600, -325.2100, -314.6400, -304.2500, -294.0400, -284.0100,\n",
              "        -274.1600, -264.4900, -255.0000, -245.6900, -236.5600, -227.6100,\n",
              "        -218.8400, -210.2500, -201.8400, -193.6100, -185.5600, -177.6900,\n",
              "        -170.0000, -162.4900, -155.1600, -148.0100, -141.0400, -134.2500,\n",
              "        -127.6400, -121.2100, -114.9600, -108.8900, -103.0000,  -97.2900,\n",
              "         -91.7600,  -86.4100,  -81.2400,  -76.2500,  -71.4400,  -66.8100,\n",
              "         -62.3600,  -58.0900,  -54.0000,  -50.0900,  -46.3600,  -42.8100,\n",
              "         -39.4400,  -36.2500,  -33.2400,  -30.4100,  -27.7600,  -25.2900,\n",
              "         -23.0000,  -20.8900,  -18.9600,  -17.2100,  -15.6400,  -14.2500,\n",
              "         -13.0400,  -12.0100,  -11.1600,  -10.4900,  -10.0000,   -9.6900,\n",
              "          -9.5600,   -9.6100,   -9.8400,  -10.2500,  -10.8400,  -11.6100,\n",
              "         -12.5600,  -13.6900,  -15.0000,  -16.4900,  -18.1600,  -20.0100,\n",
              "         -22.0400,  -24.2500,  -26.6400,  -29.2100,  -31.9600,  -34.8900,\n",
              "         -38.0000,  -41.2900,  -44.7600,  -48.4100,  -52.2400,  -56.2500,\n",
              "         -60.4400,  -64.8100,  -69.3600,  -74.0900,  -79.0000,  -84.0900,\n",
              "         -89.3600,  -94.8100, -100.4400, -106.2500, -112.2400, -118.4100,\n",
              "        -124.7600, -131.2900, -138.0000, -144.8900, -151.9600, -159.2100,\n",
              "        -166.6400, -174.2500, -182.0400, -190.0100, -198.1600, -206.4900,\n",
              "        -215.0000, -223.6900, -232.5600, -241.6100, -250.8400, -260.2500,\n",
              "        -269.8400, -279.6100, -289.5600, -299.6900, -310.0000, -320.4900,\n",
              "        -331.1600, -342.0100, -353.0400, -364.2500, -375.6400, -387.2100,\n",
              "        -398.9600, -410.8900, -423.0000, -435.2900, -447.7600, -460.4100,\n",
              "        -473.2400, -486.2500, -499.4400, -512.8100, -526.3600, -540.0900,\n",
              "        -554.0000, -568.0900, -582.3600, -596.8100, -611.4400, -626.2500,\n",
              "        -641.2400, -656.4100, -671.7600, -687.2900, -703.0000, -718.8900,\n",
              "        -734.9600, -751.2100, -767.6400, -784.2500, -801.0400, -818.0100,\n",
              "        -835.1600, -852.4900], dtype=torch.float64)"
            ]
          },
          "metadata": {},
          "execution_count": 17
        }
      ]
    },
    {
      "cell_type": "code",
      "source": [
        "import matplotlib.pyplot as plt\n",
        "\n",
        "plt.plot(x.data, y.data)\n",
        "plt.plot(x.data, x.grad)\n",
        "plt.legend(['f', 'f\\''])\n",
        "plt.title('y=x^2')\n",
        "plt.xlabel('x')\n",
        "plt.ylabel('y')\n",
        "plt.show()"
      ],
      "metadata": {
        "colab": {
          "base_uri": "https://localhost:8080/",
          "height": 472
        },
        "id": "Tig7o7a3G19B",
        "outputId": "ada4455a-7b60-43ee-eb63-4fd132f5457d"
      },
      "execution_count": null,
      "outputs": [
        {
          "output_type": "display_data",
          "data": {
            "text/plain": [
              "<Figure size 640x480 with 1 Axes>"
            ],
            "image/png": "[encoded data removed]"
          },
          "metadata": {}
        }
      ]
    },
    {
      "cell_type": "markdown",
      "source": [
        "## 9.3<font color=\"Crimson\">**Gradient Descent**</font>\n",
        "\n",
        "The gradient descent or steepest descent method is an algorithm for finding the minimum or maximum of a function.It is also called the descent method.\n",
        "\n",
        "<div align=\"center\">\n",
        "\n",
        "<img src=\"https://drive.google.com/uc?export=view&id=12Mhd3a_1YmrFcRzD7KsoVYAoJADytShd\" width=\"80%\">\n",
        "\n",
        "**Figure 2 Gradient Descent**\n",
        "</div>\n",
        "\n",
        "\n",
        "After obtaining the gradient value, the next step is to show how to find the **minimum of the function**.The gradient descent method can be summarized simply as follows\n",
        "\n",
        "- **Step 1**: initialize $x$ randomly.\n",
        "\n",
        "- **Step 2**: Differentiate the function $f(x)$ and find the gradient(slope) value.\n",
        "<br><br>\n",
        "\n",
        "$$\n",
        "g = f'(x) \\tag{3}\n",
        "$$\n",
        "<br>\n",
        "- **Step 3**: Update $x$ in the direction of the gradient using the gradient value.\n",
        "<br><br>\n",
        "\n",
        "$$\n",
        "x^{(new)} = x^{(old)} - lr\\times g \\tag{4}\n",
        "$$\n",
        "<br>\n",
        "\n",
        "- **Steps 1 through 3** are repeated a predetermined number of times or until the slope $g$ falls below a predetermined threshold $\\epsilon$\n",
        "\n",
        "The $lr$ in equation (4) is called the **learning rate** and is usually determined by the analyst in the range $0 < lr < 1$,\n",
        "\n",
        "depending on the data, 0.1 ~ 0.0001 is often used(in my opinion).\n",
        "\n",
        "<div align=\"center\">\n",
        "\n",
        "<img src=\"https://drive.google.com/uc?export=view&id=12SnXNGTBAWOu9EAoaVozTgvgnjRHpZKh\" width=\"80%\">\n",
        "\n",
        "\n",
        "**Figure 3 Learning Rate**\n",
        "</div>\n",
        "\n",
        "If the learning rate is not set properly, it will cause problems such as \"it will not converge forever\" or \"it will take a huge amount of time to converge\".\n",
        "\n",
        "　Let's actually look at finding the minima of the quadratic function $y = x^2 + 3$."
      ],
      "metadata": {
        "id": "RlSiu5-z0trU"
      }
    },
    {
      "cell_type": "markdown",
      "source": [
        "**NOTE** that when you update new $x$ in step (4), you need to do this inside `with torch.no_grad()` as shown below."
      ],
      "metadata": {
        "id": "bRQzXeohDYDF"
      }
    },
    {
      "cell_type": "code",
      "source": [
        "import torch\n",
        "\n",
        "lr = torch.tensor(0.1)\n",
        "\n",
        "# starting point\n",
        "x = torch.tensor(1.5, requires_grad=True)\n",
        "\n",
        "for epoch in range(30):\n",
        "  # 1. forward\n",
        "  y = x**2+3\n",
        "  # 2. backward\n",
        "  y.backward()\n",
        "\n",
        "\n",
        "  print(y.data, x.data, x.grad)\n",
        "\n",
        "  # 3. optimize x\n",
        "  with torch.no_grad():\n",
        "    x -= lr * x.grad\n",
        "\n",
        "    # clear the grad\n",
        "    x.grad.zero_()"
      ],
      "metadata": {
        "id": "yz7AlH14xA0v",
        "colab": {
          "base_uri": "https://localhost:8080/"
        },
        "outputId": "4057a435-8ae1-4b83-f60e-3b7ccfe45f91"
      },
      "execution_count": null,
      "outputs": [
        {
          "output_type": "stream",
          "name": "stdout",
          "text": [
            "tensor(5.2500) tensor(1.5000) tensor(3.)\n",
            "tensor(4.4400) tensor(1.2000) tensor(2.4000)\n",
            "tensor(3.9216) tensor(0.9600) tensor(1.9200)\n",
            "tensor(3.5898) tensor(0.7680) tensor(1.5360)\n",
            "tensor(3.3775) tensor(0.6144) tensor(1.2288)\n",
            "tensor(3.2416) tensor(0.4915) tensor(0.9830)\n",
            "tensor(3.1546) tensor(0.3932) tensor(0.7864)\n",
            "tensor(3.0990) tensor(0.3146) tensor(0.6291)\n",
            "tensor(3.0633) tensor(0.2517) tensor(0.5033)\n",
            "tensor(3.0405) tensor(0.2013) tensor(0.4027)\n",
            "tensor(3.0259) tensor(0.1611) tensor(0.3221)\n",
            "tensor(3.0166) tensor(0.1288) tensor(0.2577)\n",
            "tensor(3.0106) tensor(0.1031) tensor(0.2062)\n",
            "tensor(3.0068) tensor(0.0825) tensor(0.1649)\n",
            "tensor(3.0044) tensor(0.0660) tensor(0.1319)\n",
            "tensor(3.0028) tensor(0.0528) tensor(0.1056)\n",
            "tensor(3.0018) tensor(0.0422) tensor(0.0844)\n",
            "tensor(3.0011) tensor(0.0338) tensor(0.0676)\n",
            "tensor(3.0007) tensor(0.0270) tensor(0.0540)\n",
            "tensor(3.0005) tensor(0.0216) tensor(0.0432)\n",
            "tensor(3.0003) tensor(0.0173) tensor(0.0346)\n",
            "tensor(3.0002) tensor(0.0138) tensor(0.0277)\n",
            "tensor(3.0001) tensor(0.0111) tensor(0.0221)\n",
            "tensor(3.0001) tensor(0.0089) tensor(0.0177)\n",
            "tensor(3.0001) tensor(0.0071) tensor(0.0142)\n",
            "tensor(3.0000) tensor(0.0057) tensor(0.0113)\n",
            "tensor(3.0000) tensor(0.0045) tensor(0.0091)\n",
            "tensor(3.0000) tensor(0.0036) tensor(0.0073)\n",
            "tensor(3.0000) tensor(0.0029) tensor(0.0058)\n",
            "tensor(3.0000) tensor(0.0023) tensor(0.0046)\n"
          ]
        }
      ]
    },
    {
      "cell_type": "markdown",
      "source": [
        "Lets' visualize the learning process by collecting x and y for each loop"
      ],
      "metadata": {
        "id": "3L3rIO2YE8pl"
      }
    },
    {
      "cell_type": "code",
      "source": [
        "import torch\n",
        "\n",
        "lr = torch.tensor(1e-1)\n",
        "x = torch.tensor(1.5, requires_grad=True)\n",
        "\n",
        "history_x = []\n",
        "history_y = []\n",
        "\n",
        "Epochs = 30\n",
        "\n",
        "for epoch in range(Epochs):\n",
        "\n",
        "  print(x, y)\n",
        "  y = x**2+3\n",
        "  y.backward()\n",
        "\n",
        "  history_x.append(x.data.clone())  # understand x.data, x.data.clone()\n",
        "  history_y.append(y.data.clone())\n",
        "\n",
        "  with torch.no_grad():\n",
        "    x -= lr * x.grad\n",
        "    x.grad.zero_()\n",
        "\n"
      ],
      "metadata": {
        "colab": {
          "base_uri": "https://localhost:8080/"
        },
        "id": "cHVuwhuZFCTX",
        "outputId": "fc780f81-4b21-42b3-92b5-d299c4430870"
      },
      "execution_count": null,
      "outputs": [
        {
          "output_type": "stream",
          "name": "stdout",
          "text": [
            "tensor(1.5000, requires_grad=True) tensor(3.0000, grad_fn=<AddBackward0>)\n",
            "tensor(1.2000, requires_grad=True) tensor(5.2500, grad_fn=<AddBackward0>)\n",
            "tensor(0.9600, requires_grad=True) tensor(4.4400, grad_fn=<AddBackward0>)\n",
            "tensor(0.7680, requires_grad=True) tensor(3.9216, grad_fn=<AddBackward0>)\n",
            "tensor(0.6144, requires_grad=True) tensor(3.5898, grad_fn=<AddBackward0>)\n",
            "tensor(0.4915, requires_grad=True) tensor(3.3775, grad_fn=<AddBackward0>)\n",
            "tensor(0.3932, requires_grad=True) tensor(3.2416, grad_fn=<AddBackward0>)\n",
            "tensor(0.3146, requires_grad=True) tensor(3.1546, grad_fn=<AddBackward0>)\n",
            "tensor(0.2517, requires_grad=True) tensor(3.0990, grad_fn=<AddBackward0>)\n",
            "tensor(0.2013, requires_grad=True) tensor(3.0633, grad_fn=<AddBackward0>)\n",
            "tensor(0.1611, requires_grad=True) tensor(3.0405, grad_fn=<AddBackward0>)\n",
            "tensor(0.1288, requires_grad=True) tensor(3.0259, grad_fn=<AddBackward0>)\n",
            "tensor(0.1031, requires_grad=True) tensor(3.0166, grad_fn=<AddBackward0>)\n",
            "tensor(0.0825, requires_grad=True) tensor(3.0106, grad_fn=<AddBackward0>)\n",
            "tensor(0.0660, requires_grad=True) tensor(3.0068, grad_fn=<AddBackward0>)\n",
            "tensor(0.0528, requires_grad=True) tensor(3.0044, grad_fn=<AddBackward0>)\n",
            "tensor(0.0422, requires_grad=True) tensor(3.0028, grad_fn=<AddBackward0>)\n",
            "tensor(0.0338, requires_grad=True) tensor(3.0018, grad_fn=<AddBackward0>)\n",
            "tensor(0.0270, requires_grad=True) tensor(3.0011, grad_fn=<AddBackward0>)\n",
            "tensor(0.0216, requires_grad=True) tensor(3.0007, grad_fn=<AddBackward0>)\n",
            "tensor(0.0173, requires_grad=True) tensor(3.0005, grad_fn=<AddBackward0>)\n",
            "tensor(0.0138, requires_grad=True) tensor(3.0003, grad_fn=<AddBackward0>)\n",
            "tensor(0.0111, requires_grad=True) tensor(3.0002, grad_fn=<AddBackward0>)\n",
            "tensor(0.0089, requires_grad=True) tensor(3.0001, grad_fn=<AddBackward0>)\n",
            "tensor(0.0071, requires_grad=True) tensor(3.0001, grad_fn=<AddBackward0>)\n",
            "tensor(0.0057, requires_grad=True) tensor(3.0001, grad_fn=<AddBackward0>)\n",
            "tensor(0.0045, requires_grad=True) tensor(3.0000, grad_fn=<AddBackward0>)\n",
            "tensor(0.0036, requires_grad=True) tensor(3.0000, grad_fn=<AddBackward0>)\n",
            "tensor(0.0029, requires_grad=True) tensor(3.0000, grad_fn=<AddBackward0>)\n",
            "tensor(0.0023, requires_grad=True) tensor(3.0000, grad_fn=<AddBackward0>)\n"
          ]
        }
      ]
    },
    {
      "cell_type": "code",
      "source": [
        "a = torch.tensor([1])\n",
        "\n",
        "a2 = a.data.clone()\n"
      ],
      "metadata": {
        "id": "0GzLeN1eJWwK"
      },
      "execution_count": null,
      "outputs": []
    },
    {
      "cell_type": "code",
      "source": [
        "x = np.arange(-2,2,0.1)\n",
        "y = x ** 2 + 3\n",
        "\n",
        "plt.plot(x, y)\n",
        "plt.scatter(history_x, history_y, color='red', s=70, alpha=np.linspace(0.2,1,Epochs))\n",
        "plt.show()"
      ],
      "metadata": {
        "colab": {
          "base_uri": "https://localhost:8080/",
          "height": 430
        },
        "id": "7hPazcnMFMNt",
        "outputId": "537a8901-fd6c-402f-a641-63486b57285b"
      },
      "execution_count": null,
      "outputs": [
        {
          "output_type": "display_data",
          "data": {
            "text/plain": [
              "<Figure size 640x480 with 1 Axes>"
            ],
            "image/png": "[encoded data removed]"
          },
          "metadata": {}
        }
      ]
    },
    {
      "cell_type": "markdown",
      "source": [
        "We see that $x=0$ and $y=3$ are minima.\n",
        "\n",
        "This optimization is implemented in optim.\n",
        "SGD for stochastic gradient descent, and adam, a common optimization method used in deep learning, is also implemented in optim.adam. Pytorch provides the following \"optimizer\" classes in the torch.optim package.\n",
        "\n",
        "`adam`, `SGD` are relatively popular optimizers.\n",
        "\n"
      ],
      "metadata": {
        "id": "FW5q5WIQ6gj2"
      }
    },
    {
      "cell_type": "code",
      "source": [
        "import torch\n",
        "import torch.optim as optim\n",
        "\n",
        "x = torch.tensor(-1.5, requires_grad=True)\n",
        "\n",
        "# use SGD\n",
        "#opt = optim.SGD([x], lr=0.1)\n",
        "\n",
        "# use adam\n",
        "opt = optim.Adam([x], lr=0.1)\n",
        "\n",
        "Epochs = 100\n",
        "\n",
        "history_x = torch.zeros(Epochs)\n",
        "history_y = torch.zeros(Epochs)\n",
        "for epoch in range(Epochs):\n",
        "\n",
        "  # 1. forward\n",
        "  y = x**2+3\n",
        "\n",
        "  history_x[epoch] = x.item() # get scalar value using item()\n",
        "  history_y[epoch] = y.item()\n",
        "\n",
        "  # 2. backward\n",
        "\n",
        "  y.backward()\n",
        "\n",
        "  # 3. update(optimization of pameter)\n",
        "  opt.step()\n",
        "\n",
        "  # clear grad\n",
        "  opt.zero_grad()\n",
        "\n"
      ],
      "metadata": {
        "id": "BtXyExxRHlYU"
      },
      "execution_count": null,
      "outputs": []
    },
    {
      "cell_type": "code",
      "source": [
        "import numpy as np\n",
        "x = np.arange(-2,2,0.1)\n",
        "y = x ** 2 + 3\n",
        "\n",
        "plt.plot(x, y)\n",
        "plt.scatter(history_x, history_y, color='red', s=70, alpha=np.linspace(0.1,1,Epochs))\n",
        "plt.show()"
      ],
      "metadata": {
        "colab": {
          "base_uri": "https://localhost:8080/",
          "height": 430
        },
        "id": "Ye-zXI_2xc2J",
        "outputId": "efe93d30-8466-46f1-8ad2-4a51f5c700b4"
      },
      "execution_count": null,
      "outputs": [
        {
          "output_type": "display_data",
          "data": {
            "text/plain": [
              "<Figure size 640x480 with 1 Axes>"
            ],
            "image/png": "[encoded data removed]"
          },
          "metadata": {}
        }
      ]
    },
    {
      "cell_type": "code",
      "source": [
        "plt.plot(history_x)\n",
        "plt.legend(['x'], fontsize=15)\n",
        "plt.xlabel('epoch')\n",
        "plt.show()\n",
        "plt.plot(history_y)\n",
        "plt.legend(['y'], fontsize=15)\n",
        "plt.xlabel('epoch')\n",
        "plt.show()"
      ],
      "metadata": {
        "colab": {
          "base_uri": "https://localhost:8080/",
          "height": 881
        },
        "id": "umTBCOf1ay-A",
        "outputId": "4579bdf1-91d1-4183-e44f-fc5512ed5909"
      },
      "execution_count": null,
      "outputs": [
        {
          "output_type": "display_data",
          "data": {
            "text/plain": [
              "<Figure size 640x480 with 1 Axes>"
            ],
            "image/png": "[encoded data removed]"
          },
          "metadata": {}
        },
        {
          "output_type": "display_data",
          "data": {
            "text/plain": [
              "<Figure size 640x480 with 1 Axes>"
            ],
            "image/png": "[encoded data removed]"
          },
          "metadata": {}
        }
      ]
    },
    {
      "cell_type": "markdown",
      "source": [
        "As a note, depending on the initial values, it may fall into a **locally optimization**, as shown in the figure.\n",
        "\n",
        "<div align=\"center\">\n",
        "\n",
        "<img src=\"https://drive.google.com/uc?export=view&id=12PVg4WY33eCx5ine2Kp_CoPGdCNd5Wm6\" width=\"80%\">\n",
        "**Figure 4 optimization**\n",
        "\n",
        "</div>\n",
        "\n",
        "It is difficult to fundamentally solve this problem, but some ways to alleviate it are\n",
        "\n",
        "- Calculate with several different initial values and look for a wide range of minima.\n",
        "\n",
        "- **Use other optimization methods such as stochastic gradient descent (SGD)**.\n",
        "\n",
        "Other optimization methods such as **SGD (stochastic gradient descent)** can be used."
      ],
      "metadata": {
        "id": "xVS5G4PZ6zro"
      }
    },
    {
      "cell_type": "markdown",
      "source": [
        "<font size=8> Summary </font>\n",
        "\n",
        "The optimization consists of 4 parts.\n",
        "\n",
        "1. **Define optimizer.** Define what to train and how to train using `optimizer`.\n",
        "\n",
        "Loop the following steps until a spefcific Epoch number,\n",
        "\n",
        "2. **Forward.** Calculate f(x) whatever you want to minimize.\n",
        "\n",
        "1. **Backward.** calculate the radient values use `backward` to the calculated f(x) in the previous step.\n",
        "\n",
        "1. **Update parameter**. Update the learning parameters using `optim.steps()` and clear the gradient values using `optim.zero_grad()`."
      ],
      "metadata": {
        "id": "1d8yj9U7Naoa"
      }
    },
    {
      "cell_type": "markdown",
      "metadata": {
        "id": "XGSQJuglJ9XV"
      },
      "source": [
        "### <font color='crimson'>**[Practice 2]Find best $\\hat{\\beta}$** (remained)</font>\n",
        "\n",
        "We create $y$ and $x$ based on a regression form $y=\\beta x$ using the true value of $\\beta=1.5$.(We ignore error term for simplicity).\n",
        "\n",
        "Optimize the $\\hat{\\beta}$ based on the X and y, which can minimize the MSE loss.\n",
        "\n",
        "<details>\n",
        "\n",
        "<summary> Hint 1 - What to minimize? </summary>\n",
        "\n",
        "- You need to minimize the MSE loss between $y$ and $\\hat{y}$, where  $\\hat{y}= \\hat{\\beta}\\cdot x$\n",
        "\n",
        "</details>\n",
        "\n",
        "<details>\n",
        "<summary> Hint 2 - Loss function </summary>\n",
        "\n",
        "$$\n",
        "loss = \\frac{1}{n}\\sum_{j=1}^n(y_j - \\hat{y_j})^2\n",
        "$$\n",
        "\n",
        "</details>\n",
        "\n",
        "<details>\n",
        "<summary> Hint 3 - Whole Process </summary>\n",
        "\n",
        "1. You need to set the opitimizer as optim = optimizer.adam(b, lr=0.1). You can modify the optimizer or lr if you want.\n",
        "\n",
        "1. In forward process, you need to calculate $\\hat{y}$ first. `y_hat=...` based on the current $\\hat{\\beta}$.\n",
        "\n",
        "1. Then you need to calculate loss by using $y$ and $\\hat{y}$.\n",
        "\n",
        "\n",
        "1. Then move to the backward part, you need to use backward for the loss function.\n",
        "\n",
        "1. Others are the same as the example above.\n",
        "\n",
        "</details>"
      ]
    },
    {
      "cell_type": "code",
      "source": [
        "grand_beta = 1.5\n",
        "\n",
        "torch.manual_seed(0)\n",
        "x = torch.rand(100, 100).view(-1, 1)\n",
        "\n",
        "y = grand_beta * x\n"
      ],
      "metadata": {
        "id": "yzrGWkLrIurL"
      },
      "execution_count": null,
      "outputs": []
    },
    {
      "cell_type": "code",
      "source": [
        "y"
      ],
      "metadata": {
        "colab": {
          "base_uri": "https://localhost:8080/"
        },
        "id": "hX9UPyP3L97a",
        "outputId": "1e5ce87b-baba-4cda-c5a0-14f69df9e852"
      },
      "execution_count": null,
      "outputs": [
        {
          "output_type": "execute_result",
          "data": {
            "text/plain": [
              "tensor([[0.7444],\n",
              "        [1.1523],\n",
              "        [0.1327],\n",
              "        ...,\n",
              "        [0.3784],\n",
              "        [0.5998],\n",
              "        [1.4703]])"
            ]
          },
          "metadata": {},
          "execution_count": 31
        }
      ]
    },
    {
      "cell_type": "code",
      "source": [
        "x"
      ],
      "metadata": {
        "colab": {
          "base_uri": "https://localhost:8080/"
        },
        "id": "6jxrmOGuL-eC",
        "outputId": "ffae7850-83e9-4b76-8a23-779dc20eafde"
      },
      "execution_count": null,
      "outputs": [
        {
          "output_type": "execute_result",
          "data": {
            "text/plain": [
              "tensor([[0.4963],\n",
              "        [0.7682],\n",
              "        [0.0885],\n",
              "        ...,\n",
              "        [0.2523],\n",
              "        [0.3998],\n",
              "        [0.9802]])"
            ]
          },
          "metadata": {},
          "execution_count": 32
        }
      ]
    },
    {
      "cell_type": "code",
      "source": [
        "# beta_hat is your training coefficient\n",
        "beta_hat = torch.tensor(20., requires_grad=True)\n",
        "\n",
        "# Start here\n",
        "\n",
        "\n",
        "import torch\n",
        "import torch.optim as optim\n",
        "\n",
        "# use SGD\n",
        "#opt = optim.SGD([x], lr=0.1)\n",
        "\n",
        "# use adam\n",
        "opt = optim.Adam([beta_hat], lr=0.1)\n",
        "\n",
        "Epochs = 1000\n",
        "\n",
        "history_x = torch.zeros(Epochs)\n",
        "history_y = torch.zeros(Epochs)\n",
        "for epoch in range(Epochs):\n",
        "\n",
        "  # 1. forward\n",
        "  y_hat = x * beta_hat\n",
        "  loss = ((y - y_hat) ** 2).mean()\n",
        "\n",
        "\n",
        "  history_x[epoch] = beta_hat.item() # get scalar value using item()\n",
        "  history_y[epoch] = loss.item()\n",
        "\n",
        "  # 2. backward\n",
        "\n",
        "  loss.backward()\n",
        "\n",
        "  # 3. update(optimization of pameter)\n",
        "  opt.step()\n",
        "\n",
        "  # clear grad\n",
        "  opt.zero_grad()\n",
        "\n"
      ],
      "metadata": {
        "id": "yfLwRhtSJl01"
      },
      "execution_count": null,
      "outputs": []
    },
    {
      "cell_type": "code",
      "source": [
        "plt.plot(history_x)\n",
        "plt.legend(['beta_hat'], fontsize=15)\n",
        "plt.xlabel('epoch')\n",
        "plt.show()\n",
        "plt.plot(history_y)\n",
        "plt.legend(['loss'], fontsize=15)\n",
        "plt.xlabel('epoch')\n",
        "plt.show()"
      ],
      "metadata": {
        "colab": {
          "base_uri": "https://localhost:8080/",
          "height": 881
        },
        "id": "pvDAY0DHPMPL",
        "outputId": "1baf4f7d-30bb-42d0-9747-fe9e7499fcd8"
      },
      "execution_count": null,
      "outputs": [
        {
          "output_type": "display_data",
          "data": {
            "text/plain": [
              "<Figure size 640x480 with 1 Axes>"
            ],
            "image/png": "[encoded data removed]"
          },
          "metadata": {}
        },
        {
          "output_type": "display_data",
          "data": {
            "text/plain": [
              "<Figure size 640x480 with 1 Axes>"
            ],
            "image/png": "[encoded data removed]"
          },
          "metadata": {}
        }
      ]
    },
    {
      "cell_type": "code",
      "source": [
        "print(history_x)"
      ],
      "metadata": {
        "colab": {
          "base_uri": "https://localhost:8080/"
        },
        "id": "7e5ElQSYPi1B",
        "outputId": "729af324-0d71-4f64-b7dc-e3ace46192b0"
      },
      "execution_count": null,
      "outputs": [
        {
          "output_type": "stream",
          "name": "stdout",
          "text": [
            "tensor([20.0000, 19.9000, 19.8000, 19.7001, 19.6001, 19.5002, 19.4004, 19.3006,\n",
            "        19.2010, 19.1013, 19.0018, 18.9024, 18.8031, 18.7039, 18.6048, 18.5059,\n",
            "        18.4071, 18.3085, 18.2101, 18.1118, 18.0136, 17.9157, 17.8180, 17.7204,\n",
            "        17.6231, 17.5260, 17.4291, 17.3324, 17.2359, 17.1397, 17.0437, 16.9480,\n",
            "        16.8525, 16.7573, 16.6623, 16.5676, 16.4732, 16.3790, 16.2851, 16.1915,\n",
            "        16.0982, 16.0051, 15.9123, 15.8199, 15.7277, 15.6358, 15.5442, 15.4529,\n",
            "        15.3619, 15.2712, 15.1808, 15.0908, 15.0010, 14.9116, 14.8224, 14.7336,\n",
            "        14.6451, 14.5569, 14.4690, 14.3815, 14.2942, 14.2073, 14.1207, 14.0345,\n",
            "        13.9485, 13.8629, 13.7776, 13.6926, 13.6080, 13.5237, 13.4397, 13.3561,\n",
            "        13.2728, 13.1898, 13.1071, 13.0248, 12.9429, 12.8612, 12.7799, 12.6989,\n",
            "        12.6183, 12.5380, 12.4580, 12.3784, 12.2991, 12.2202, 12.1416, 12.0633,\n",
            "        11.9854, 11.9078, 11.8305, 11.7536, 11.6771, 11.6009, 11.5250, 11.4495,\n",
            "        11.3743, 11.2994, 11.2249, 11.1507, 11.0769, 11.0035, 10.9303, 10.8575,\n",
            "        10.7851, 10.7130, 10.6413, 10.5699, 10.4988, 10.4281, 10.3577, 10.2877,\n",
            "        10.2181, 10.1487, 10.0797, 10.0111,  9.9428,  9.8749,  9.8073,  9.7400,\n",
            "         9.6731,  9.6066,  9.5404,  9.4745,  9.4090,  9.3438,  9.2790,  9.2146,\n",
            "         9.1504,  9.0866,  9.0232,  8.9601,  8.8974,  8.8350,  8.7729,  8.7112,\n",
            "         8.6498,  8.5888,  8.5281,  8.4678,  8.4078,  8.3482,  8.2889,  8.2299,\n",
            "         8.1713,  8.1130,  8.0551,  7.9975,  7.9403,  7.8834,  7.8268,  7.7706,\n",
            "         7.7147,  7.6591,  7.6039,  7.5491,  7.4945,  7.4403,  7.3865,  7.3330,\n",
            "         7.2798,  7.2269,  7.1744,  7.1222,  7.0704,  7.0189,  6.9677,  6.9169,\n",
            "         6.8663,  6.8162,  6.7663,  6.7168,  6.6676,  6.6187,  6.5702,  6.5220,\n",
            "         6.4741,  6.4265,  6.3793,  6.3324,  6.2858,  6.2395,  6.1936,  6.1479,\n",
            "         6.1026,  6.0576,  6.0130,  5.9686,  5.9246,  5.8809,  5.8375,  5.7944,\n",
            "         5.7516,  5.7091,  5.6670,  5.6251,  5.5836,  5.5424,  5.5014,  5.4608,\n",
            "         5.4205,  5.3805,  5.3408,  5.3014,  5.2623,  5.2235,  5.1850,  5.1468,\n",
            "         5.1089,  5.0713,  5.0340,  4.9969,  4.9602,  4.9238,  4.8876,  4.8517,\n",
            "         4.8162,  4.7809,  4.7459,  4.7112,  4.6767,  4.6426,  4.6087,  4.5751,\n",
            "         4.5418,  4.5088,  4.4760,  4.4435,  4.4113,  4.3794,  4.3477,  4.3163,\n",
            "         4.2852,  4.2543,  4.2237,  4.1933,  4.1633,  4.1335,  4.1039,  4.0746,\n",
            "         4.0456,  4.0168,  3.9883,  3.9600,  3.9320,  3.9042,  3.8767,  3.8495,\n",
            "         3.8224,  3.7957,  3.7691,  3.7429,  3.7168,  3.6910,  3.6655,  3.6401,\n",
            "         3.6150,  3.5902,  3.5656,  3.5412,  3.5170,  3.4931,  3.4694,  3.4459,\n",
            "         3.4227,  3.3996,  3.3768,  3.3543,  3.3319,  3.3097,  3.2878,  3.2661,\n",
            "         3.2446,  3.2233,  3.2022,  3.1814,  3.1607,  3.1403,  3.1200,  3.1000,\n",
            "         3.0802,  3.0605,  3.0411,  3.0218,  3.0028,  2.9840,  2.9653,  2.9469,\n",
            "         2.9286,  2.9105,  2.8926,  2.8749,  2.8574,  2.8401,  2.8230,  2.8060,\n",
            "         2.7892,  2.7726,  2.7562,  2.7399,  2.7239,  2.7080,  2.6922,  2.6767,\n",
            "         2.6613,  2.6461,  2.6310,  2.6161,  2.6014,  2.5868,  2.5725,  2.5582,\n",
            "         2.5441,  2.5302,  2.5165,  2.5028,  2.4894,  2.4761,  2.4629,  2.4499,\n",
            "         2.4371,  2.4244,  2.4118,  2.3994,  2.3871,  2.3750,  2.3630,  2.3512,\n",
            "         2.3394,  2.3279,  2.3164,  2.3051,  2.2940,  2.2829,  2.2720,  2.2612,\n",
            "         2.2506,  2.2401,  2.2297,  2.2194,  2.2093,  2.1993,  2.1894,  2.1796,\n",
            "         2.1699,  2.1604,  2.1510,  2.1416,  2.1325,  2.1234,  2.1144,  2.1056,\n",
            "         2.0968,  2.0882,  2.0796,  2.0712,  2.0629,  2.0547,  2.0466,  2.0386,\n",
            "         2.0307,  2.0229,  2.0152,  2.0076,  2.0001,  1.9927,  1.9854,  1.9781,\n",
            "         1.9710,  1.9640,  1.9570,  1.9502,  1.9434,  1.9368,  1.9302,  1.9237,\n",
            "         1.9173,  1.9109,  1.9047,  1.8985,  1.8925,  1.8865,  1.8806,  1.8747,\n",
            "         1.8690,  1.8633,  1.8577,  1.8522,  1.8467,  1.8413,  1.8360,  1.8308,\n",
            "         1.8257,  1.8206,  1.8156,  1.8106,  1.8057,  1.8009,  1.7962,  1.7915,\n",
            "         1.7869,  1.7823,  1.7779,  1.7734,  1.7691,  1.7648,  1.7606,  1.7564,\n",
            "         1.7523,  1.7482,  1.7442,  1.7403,  1.7364,  1.7326,  1.7288,  1.7251,\n",
            "         1.7214,  1.7178,  1.7142,  1.7107,  1.7073,  1.7039,  1.7005,  1.6972,\n",
            "         1.6939,  1.6907,  1.6876,  1.6845,  1.6814,  1.6784,  1.6754,  1.6725,\n",
            "         1.6696,  1.6667,  1.6639,  1.6612,  1.6584,  1.6558,  1.6531,  1.6505,\n",
            "         1.6480,  1.6455,  1.6430,  1.6405,  1.6381,  1.6358,  1.6334,  1.6312,\n",
            "         1.6289,  1.6267,  1.6245,  1.6223,  1.6202,  1.6181,  1.6161,  1.6140,\n",
            "         1.6121,  1.6101,  1.6082,  1.6063,  1.6044,  1.6026,  1.6008,  1.5990,\n",
            "         1.5972,  1.5955,  1.5938,  1.5921,  1.5905,  1.5889,  1.5873,  1.5857,\n",
            "         1.5842,  1.5827,  1.5812,  1.5797,  1.5783,  1.5769,  1.5755,  1.5741,\n",
            "         1.5728,  1.5715,  1.5702,  1.5689,  1.5676,  1.5664,  1.5652,  1.5640,\n",
            "         1.5628,  1.5616,  1.5605,  1.5594,  1.5583,  1.5572,  1.5561,  1.5551,\n",
            "         1.5541,  1.5530,  1.5521,  1.5511,  1.5501,  1.5492,  1.5483,  1.5473,\n",
            "         1.5465,  1.5456,  1.5447,  1.5439,  1.5430,  1.5422,  1.5414,  1.5406,\n",
            "         1.5398,  1.5391,  1.5383,  1.5376,  1.5369,  1.5362,  1.5355,  1.5348,\n",
            "         1.5341,  1.5334,  1.5328,  1.5321,  1.5315,  1.5309,  1.5303,  1.5297,\n",
            "         1.5291,  1.5286,  1.5280,  1.5274,  1.5269,  1.5264,  1.5258,  1.5253,\n",
            "         1.5248,  1.5243,  1.5239,  1.5234,  1.5229,  1.5224,  1.5220,  1.5216,\n",
            "         1.5211,  1.5207,  1.5203,  1.5199,  1.5195,  1.5191,  1.5187,  1.5183,\n",
            "         1.5179,  1.5176,  1.5172,  1.5169,  1.5165,  1.5162,  1.5158,  1.5155,\n",
            "         1.5152,  1.5149,  1.5146,  1.5143,  1.5140,  1.5137,  1.5134,  1.5131,\n",
            "         1.5129,  1.5126,  1.5123,  1.5121,  1.5118,  1.5116,  1.5113,  1.5111,\n",
            "         1.5108,  1.5106,  1.5104,  1.5102,  1.5100,  1.5097,  1.5095,  1.5093,\n",
            "         1.5091,  1.5089,  1.5087,  1.5086,  1.5084,  1.5082,  1.5080,  1.5078,\n",
            "         1.5077,  1.5075,  1.5073,  1.5072,  1.5070,  1.5069,  1.5067,  1.5066,\n",
            "         1.5064,  1.5063,  1.5062,  1.5060,  1.5059,  1.5058,  1.5056,  1.5055,\n",
            "         1.5054,  1.5053,  1.5051,  1.5050,  1.5049,  1.5048,  1.5047,  1.5046,\n",
            "         1.5045,  1.5044,  1.5043,  1.5042,  1.5041,  1.5040,  1.5039,  1.5038,\n",
            "         1.5037,  1.5037,  1.5036,  1.5035,  1.5034,  1.5033,  1.5033,  1.5032,\n",
            "         1.5031,  1.5030,  1.5030,  1.5029,  1.5028,  1.5028,  1.5027,  1.5026,\n",
            "         1.5026,  1.5025,  1.5025,  1.5024,  1.5024,  1.5023,  1.5022,  1.5022,\n",
            "         1.5021,  1.5021,  1.5020,  1.5020,  1.5019,  1.5019,  1.5019,  1.5018,\n",
            "         1.5018,  1.5017,  1.5017,  1.5016,  1.5016,  1.5016,  1.5015,  1.5015,\n",
            "         1.5015,  1.5014,  1.5014,  1.5014,  1.5013,  1.5013,  1.5013,  1.5012,\n",
            "         1.5012,  1.5012,  1.5011,  1.5011,  1.5011,  1.5011,  1.5010,  1.5010,\n",
            "         1.5010,  1.5010,  1.5009,  1.5009,  1.5009,  1.5009,  1.5008,  1.5008,\n",
            "         1.5008,  1.5008,  1.5008,  1.5007,  1.5007,  1.5007,  1.5007,  1.5007,\n",
            "         1.5007,  1.5006,  1.5006,  1.5006,  1.5006,  1.5006,  1.5006,  1.5005,\n",
            "         1.5005,  1.5005,  1.5005,  1.5005,  1.5005,  1.5005,  1.5005,  1.5004,\n",
            "         1.5004,  1.5004,  1.5004,  1.5004,  1.5004,  1.5004,  1.5004,  1.5004,\n",
            "         1.5004,  1.5003,  1.5003,  1.5003,  1.5003,  1.5003,  1.5003,  1.5003,\n",
            "         1.5003,  1.5003,  1.5003,  1.5003,  1.5003,  1.5002,  1.5002,  1.5002,\n",
            "         1.5002,  1.5002,  1.5002,  1.5002,  1.5002,  1.5002,  1.5002,  1.5002,\n",
            "         1.5002,  1.5002,  1.5002,  1.5002,  1.5002,  1.5002,  1.5002,  1.5002,\n",
            "         1.5001,  1.5001,  1.5001,  1.5001,  1.5001,  1.5001,  1.5001,  1.5001,\n",
            "         1.5001,  1.5001,  1.5001,  1.5001,  1.5001,  1.5001,  1.5001,  1.5001,\n",
            "         1.5001,  1.5001,  1.5001,  1.5001,  1.5001,  1.5001,  1.5001,  1.5001,\n",
            "         1.5001,  1.5001,  1.5001,  1.5001,  1.5001,  1.5001,  1.5001,  1.5001,\n",
            "         1.5001,  1.5001,  1.5001,  1.5001,  1.5001,  1.5001,  1.5001,  1.5000,\n",
            "         1.5000,  1.5000,  1.5000,  1.5000,  1.5000,  1.5000,  1.5000,  1.5000,\n",
            "         1.5000,  1.5000,  1.5000,  1.5000,  1.5000,  1.5000,  1.5000,  1.5000,\n",
            "         1.5000,  1.5000,  1.5000,  1.5000,  1.5000,  1.5000,  1.5000,  1.5000,\n",
            "         1.5000,  1.5000,  1.5000,  1.5000,  1.5000,  1.5000,  1.5000,  1.5000,\n",
            "         1.5000,  1.5000,  1.5000,  1.5000,  1.5000,  1.5000,  1.5000,  1.5000,\n",
            "         1.5000,  1.5000,  1.5000,  1.5000,  1.5000,  1.5000,  1.5000,  1.5000,\n",
            "         1.5000,  1.5000,  1.5000,  1.5000,  1.5000,  1.5000,  1.5000,  1.5000,\n",
            "         1.5000,  1.5000,  1.5000,  1.5000,  1.5000,  1.5000,  1.5000,  1.5000,\n",
            "         1.5000,  1.5000,  1.5000,  1.5000,  1.5000,  1.5000,  1.5000,  1.5000,\n",
            "         1.5000,  1.5000,  1.5000,  1.5000,  1.5000,  1.5000,  1.5000,  1.5000,\n",
            "         1.5000,  1.5000,  1.5000,  1.5000,  1.5000,  1.5000,  1.5000,  1.5000,\n",
            "         1.5000,  1.5000,  1.5000,  1.5000,  1.5000,  1.5000,  1.5000,  1.5000,\n",
            "         1.5000,  1.5000,  1.5000,  1.5000,  1.5000,  1.5000,  1.5000,  1.5000,\n",
            "         1.5000,  1.5000,  1.5000,  1.5000,  1.5000,  1.5000,  1.5000,  1.5000,\n",
            "         1.5000,  1.5000,  1.5000,  1.5000,  1.5000,  1.5000,  1.5000,  1.5000,\n",
            "         1.5000,  1.5000,  1.5000,  1.5000,  1.5000,  1.5000,  1.5000,  1.5000,\n",
            "         1.5000,  1.5000,  1.5000,  1.5000,  1.5000,  1.5000,  1.5000,  1.5000,\n",
            "         1.5000,  1.5000,  1.5000,  1.5000,  1.5000,  1.5000,  1.5000,  1.5000,\n",
            "         1.5000,  1.5000,  1.5000,  1.5000,  1.5000,  1.5000,  1.5000,  1.5000,\n",
            "         1.5000,  1.5000,  1.5000,  1.5000,  1.5000,  1.5000,  1.5000,  1.5000,\n",
            "         1.5000,  1.5000,  1.5000,  1.5000,  1.5000,  1.5000,  1.5000,  1.5000,\n",
            "         1.5000,  1.5000,  1.5000,  1.5000,  1.5000,  1.5000,  1.5000,  1.5000,\n",
            "         1.5000,  1.5000,  1.5000,  1.5000,  1.5000,  1.5000,  1.5000,  1.5000,\n",
            "         1.5000,  1.5000,  1.5000,  1.5000,  1.5000,  1.5000,  1.5000,  1.5000,\n",
            "         1.5000,  1.5000,  1.5000,  1.5000,  1.5000,  1.5000,  1.5000,  1.5000,\n",
            "         1.5000,  1.5000,  1.5000,  1.5000,  1.5000,  1.5000,  1.5000,  1.5000])\n"
          ]
        }
      ]
    },
    {
      "cell_type": "code",
      "source": [
        "history_y"
      ],
      "metadata": {
        "colab": {
          "base_uri": "https://localhost:8080/"
        },
        "id": "ZmsUck7VPnxC",
        "outputId": "92f1b376-d76c-4357-9b28-5b6231a36e53"
      },
      "execution_count": null,
      "outputs": [
        {
          "output_type": "execute_result",
          "data": {
            "text/plain": [
              "tensor([1.1403e+02, 1.1280e+02, 1.1158e+02, 1.1036e+02, 1.0915e+02, 1.0795e+02,\n",
              "        1.0676e+02, 1.0557e+02, 1.0439e+02, 1.0322e+02, 1.0206e+02, 1.0090e+02,\n",
              "        9.9752e+01, 9.8612e+01, 9.7480e+01, 9.6355e+01, 9.5239e+01, 9.4131e+01,\n",
              "        9.3032e+01, 9.1941e+01, 9.0858e+01, 8.9783e+01, 8.8717e+01, 8.7660e+01,\n",
              "        8.6611e+01, 8.5571e+01, 8.4539e+01, 8.3516e+01, 8.2501e+01, 8.1495e+01,\n",
              "        8.0498e+01, 7.9510e+01, 7.8530e+01, 7.7559e+01, 7.6596e+01, 7.5642e+01,\n",
              "        7.4697e+01, 7.3760e+01, 7.2832e+01, 7.1913e+01, 7.1002e+01, 7.0100e+01,\n",
              "        6.9206e+01, 6.8321e+01, 6.7444e+01, 6.6576e+01, 6.5716e+01, 6.4864e+01,\n",
              "        6.4021e+01, 6.3186e+01, 6.2359e+01, 6.1541e+01, 6.0731e+01, 5.9929e+01,\n",
              "        5.9135e+01, 5.8349e+01, 5.7571e+01, 5.6801e+01, 5.6039e+01, 5.5285e+01,\n",
              "        5.4539e+01, 5.3800e+01, 5.3069e+01, 5.2346e+01, 5.1631e+01, 5.0923e+01,\n",
              "        5.0223e+01, 4.9530e+01, 4.8845e+01, 4.8167e+01, 4.7497e+01, 4.6834e+01,\n",
              "        4.6178e+01, 4.5529e+01, 4.4888e+01, 4.4253e+01, 4.3626e+01, 4.3006e+01,\n",
              "        4.2392e+01, 4.1786e+01, 4.1186e+01, 4.0593e+01, 4.0007e+01, 3.9428e+01,\n",
              "        3.8856e+01, 3.8290e+01, 3.7730e+01, 3.7177e+01, 3.6631e+01, 3.6091e+01,\n",
              "        3.5557e+01, 3.5029e+01, 3.4508e+01, 3.3993e+01, 3.3484e+01, 3.2982e+01,\n",
              "        3.2485e+01, 3.1995e+01, 3.1510e+01, 3.1031e+01, 3.0558e+01, 3.0091e+01,\n",
              "        2.9630e+01, 2.9174e+01, 2.8724e+01, 2.8280e+01, 2.7841e+01, 2.7408e+01,\n",
              "        2.6980e+01, 2.6558e+01, 2.6141e+01, 2.5729e+01, 2.5323e+01, 2.4922e+01,\n",
              "        2.4526e+01, 2.4135e+01, 2.3749e+01, 2.3369e+01, 2.2993e+01, 2.2622e+01,\n",
              "        2.2256e+01, 2.1895e+01, 2.1539e+01, 2.1188e+01, 2.0841e+01, 2.0499e+01,\n",
              "        2.0162e+01, 1.9829e+01, 1.9501e+01, 1.9177e+01, 1.8857e+01, 1.8542e+01,\n",
              "        1.8232e+01, 1.7926e+01, 1.7624e+01, 1.7326e+01, 1.7032e+01, 1.6743e+01,\n",
              "        1.6457e+01, 1.6176e+01, 1.5899e+01, 1.5625e+01, 1.5356e+01, 1.5090e+01,\n",
              "        1.4828e+01, 1.4571e+01, 1.4316e+01, 1.4066e+01, 1.3819e+01, 1.3576e+01,\n",
              "        1.3337e+01, 1.3101e+01, 1.2868e+01, 1.2639e+01, 1.2414e+01, 1.2191e+01,\n",
              "        1.1973e+01, 1.1757e+01, 1.1545e+01, 1.1336e+01, 1.1130e+01, 1.0927e+01,\n",
              "        1.0728e+01, 1.0532e+01, 1.0338e+01, 1.0148e+01, 9.9606e+00, 9.7762e+00,\n",
              "        9.5947e+00, 9.4161e+00, 9.2404e+00, 9.0674e+00, 8.8972e+00, 8.7297e+00,\n",
              "        8.5649e+00, 8.4028e+00, 8.2433e+00, 8.0864e+00, 7.9321e+00, 7.7803e+00,\n",
              "        7.6310e+00, 7.4842e+00, 7.3398e+00, 7.1978e+00, 7.0581e+00, 6.9208e+00,\n",
              "        6.7858e+00, 6.6531e+00, 6.5226e+00, 6.3944e+00, 6.2683e+00, 6.1443e+00,\n",
              "        6.0225e+00, 5.9028e+00, 5.7852e+00, 5.6696e+00, 5.5560e+00, 5.4443e+00,\n",
              "        5.3347e+00, 5.2269e+00, 5.1211e+00, 5.0171e+00, 4.9150e+00, 4.8146e+00,\n",
              "        4.7161e+00, 4.6193e+00, 4.5243e+00, 4.4310e+00, 4.3393e+00, 4.2493e+00,\n",
              "        4.1610e+00, 4.0743e+00, 3.9891e+00, 3.9055e+00, 3.8235e+00, 3.7430e+00,\n",
              "        3.6640e+00, 3.5864e+00, 3.5103e+00, 3.4356e+00, 3.3623e+00, 3.2904e+00,\n",
              "        3.2198e+00, 3.1506e+00, 3.0827e+00, 3.0161e+00, 2.9508e+00, 2.8867e+00,\n",
              "        2.8239e+00, 2.7623e+00, 2.7018e+00, 2.6426e+00, 2.5845e+00, 2.5275e+00,\n",
              "        2.4717e+00, 2.4169e+00, 2.3632e+00, 2.3106e+00, 2.2591e+00, 2.2085e+00,\n",
              "        2.1590e+00, 2.1105e+00, 2.0629e+00, 2.0163e+00, 1.9706e+00, 1.9259e+00,\n",
              "        1.8821e+00, 1.8391e+00, 1.7971e+00, 1.7559e+00, 1.7155e+00, 1.6760e+00,\n",
              "        1.6373e+00, 1.5994e+00, 1.5623e+00, 1.5260e+00, 1.4904e+00, 1.4556e+00,\n",
              "        1.4215e+00, 1.3882e+00, 1.3555e+00, 1.3235e+00, 1.2922e+00, 1.2616e+00,\n",
              "        1.2316e+00, 1.2023e+00, 1.1736e+00, 1.1455e+00, 1.1181e+00, 1.0912e+00,\n",
              "        1.0649e+00, 1.0392e+00, 1.0141e+00, 9.8948e-01, 9.6543e-01, 9.4191e-01,\n",
              "        9.1891e-01, 8.9642e-01, 8.7443e-01, 8.5293e-01, 8.3191e-01, 8.1136e-01,\n",
              "        7.9128e-01, 7.7165e-01, 7.5246e-01, 7.3371e-01, 7.1538e-01, 6.9748e-01,\n",
              "        6.7998e-01, 6.6288e-01, 6.4618e-01, 6.2986e-01, 6.1391e-01, 5.9834e-01,\n",
              "        5.8313e-01, 5.6827e-01, 5.5376e-01, 5.3959e-01, 5.2575e-01, 5.1224e-01,\n",
              "        4.9904e-01, 4.8616e-01, 4.7358e-01, 4.6130e-01, 4.4932e-01, 4.3762e-01,\n",
              "        4.2620e-01, 4.1505e-01, 4.0418e-01, 3.9356e-01, 3.8320e-01, 3.7310e-01,\n",
              "        3.6324e-01, 3.5362e-01, 3.4423e-01, 3.3507e-01, 3.2614e-01, 3.1743e-01,\n",
              "        3.0894e-01, 3.0065e-01, 2.9257e-01, 2.8469e-01, 2.7700e-01, 2.6951e-01,\n",
              "        2.6221e-01, 2.5509e-01, 2.4814e-01, 2.4138e-01, 2.3478e-01, 2.2835e-01,\n",
              "        2.2209e-01, 2.1598e-01, 2.1003e-01, 2.0423e-01, 1.9858e-01, 1.9308e-01,\n",
              "        1.8771e-01, 1.8249e-01, 1.7740e-01, 1.7244e-01, 1.6761e-01, 1.6291e-01,\n",
              "        1.5833e-01, 1.5387e-01, 1.4953e-01, 1.4530e-01, 1.4118e-01, 1.3717e-01,\n",
              "        1.3327e-01, 1.2947e-01, 1.2577e-01, 1.2217e-01, 1.1867e-01, 1.1526e-01,\n",
              "        1.1194e-01, 1.0871e-01, 1.0557e-01, 1.0251e-01, 9.9540e-02, 9.6646e-02,\n",
              "        9.3831e-02, 9.1093e-02, 8.8429e-02, 8.5839e-02, 8.3319e-02, 8.0869e-02,\n",
              "        7.8486e-02, 7.6169e-02, 7.3916e-02, 7.1726e-02, 6.9596e-02, 6.7526e-02,\n",
              "        6.5513e-02, 6.3557e-02, 6.1656e-02, 5.9808e-02, 5.8012e-02, 5.6266e-02,\n",
              "        5.4570e-02, 5.2922e-02, 5.1321e-02, 4.9766e-02, 4.8254e-02, 4.6786e-02,\n",
              "        4.5360e-02, 4.3975e-02, 4.2629e-02, 4.1323e-02, 4.0054e-02, 3.8821e-02,\n",
              "        3.7625e-02, 3.6463e-02, 3.5335e-02, 3.4240e-02, 3.3177e-02, 3.2145e-02,\n",
              "        3.1143e-02, 3.0171e-02, 2.9227e-02, 2.8311e-02, 2.7423e-02, 2.6560e-02,\n",
              "        2.5724e-02, 2.4912e-02, 2.4124e-02, 2.3360e-02, 2.2619e-02, 2.1900e-02,\n",
              "        2.1202e-02, 2.0526e-02, 1.9870e-02, 1.9234e-02, 1.8617e-02, 1.8019e-02,\n",
              "        1.7439e-02, 1.6877e-02, 1.6332e-02, 1.5803e-02, 1.5291e-02, 1.4794e-02,\n",
              "        1.4313e-02, 1.3847e-02, 1.3395e-02, 1.2957e-02, 1.2532e-02, 1.2121e-02,\n",
              "        1.1723e-02, 1.1337e-02, 1.0963e-02, 1.0600e-02, 1.0249e-02, 9.9096e-03,\n",
              "        9.5804e-03, 9.2616e-03, 8.9529e-03, 8.6540e-03, 8.3646e-03, 8.0843e-03,\n",
              "        7.8130e-03, 7.5504e-03, 7.2961e-03, 7.0500e-03, 6.8118e-03, 6.5812e-03,\n",
              "        6.3581e-03, 6.1421e-03, 5.9332e-03, 5.7310e-03, 5.5354e-03, 5.3461e-03,\n",
              "        5.1630e-03, 4.9858e-03, 4.8145e-03, 4.6487e-03, 4.4884e-03, 4.3334e-03,\n",
              "        4.1835e-03, 4.0385e-03, 3.8983e-03, 3.7628e-03, 3.6317e-03, 3.5050e-03,\n",
              "        3.3825e-03, 3.2641e-03, 3.1497e-03, 3.0390e-03, 2.9321e-03, 2.8288e-03,\n",
              "        2.7290e-03, 2.6325e-03, 2.5393e-03, 2.4492e-03, 2.3622e-03, 2.2781e-03,\n",
              "        2.1969e-03, 2.1185e-03, 2.0427e-03, 1.9696e-03, 1.8989e-03, 1.8307e-03,\n",
              "        1.7648e-03, 1.7011e-03, 1.6397e-03, 1.5804e-03, 1.5231e-03, 1.4679e-03,\n",
              "        1.4145e-03, 1.3630e-03, 1.3133e-03, 1.2654e-03, 1.2191e-03, 1.1744e-03,\n",
              "        1.1313e-03, 1.0897e-03, 1.0496e-03, 1.0109e-03, 9.7356e-04, 9.3754e-04,\n",
              "        9.0280e-04, 8.6930e-04, 8.3699e-04, 8.0583e-04, 7.7578e-04, 7.4680e-04,\n",
              "        7.1887e-04, 6.9193e-04, 6.6597e-04, 6.4094e-04, 6.1681e-04, 5.9355e-04,\n",
              "        5.7113e-04, 5.4953e-04, 5.2871e-04, 5.0865e-04, 4.8932e-04, 4.7070e-04,\n",
              "        4.5276e-04, 4.3547e-04, 4.1882e-04, 4.0278e-04, 3.8733e-04, 3.7245e-04,\n",
              "        3.5811e-04, 3.4431e-04, 3.3102e-04, 3.1822e-04, 3.0590e-04, 2.9404e-04,\n",
              "        2.8262e-04, 2.7163e-04, 2.6104e-04, 2.5086e-04, 2.4105e-04, 2.3162e-04,\n",
              "        2.2254e-04, 2.1380e-04, 2.0539e-04, 1.9730e-04, 1.8952e-04, 1.8203e-04,\n",
              "        1.7483e-04, 1.6790e-04, 1.6124e-04, 1.5483e-04, 1.4867e-04, 1.4274e-04,\n",
              "        1.3704e-04, 1.3156e-04, 1.2629e-04, 1.2123e-04, 1.1636e-04, 1.1167e-04,\n",
              "        1.0717e-04, 1.0285e-04, 9.8693e-05, 9.4698e-05, 9.0860e-05, 8.7171e-05,\n",
              "        8.3627e-05, 8.0222e-05, 7.6950e-05, 7.3806e-05, 7.0788e-05, 6.7887e-05,\n",
              "        6.5102e-05, 6.2427e-05, 5.9857e-05, 5.7390e-05, 5.5022e-05, 5.2747e-05,\n",
              "        5.0563e-05, 4.8467e-05, 4.6454e-05, 4.4522e-05, 4.2667e-05, 4.0887e-05,\n",
              "        3.9179e-05, 3.7540e-05, 3.5968e-05, 3.4458e-05, 3.3010e-05, 3.1621e-05,\n",
              "        3.0288e-05, 2.9010e-05, 2.7784e-05, 2.6607e-05, 2.5480e-05, 2.4398e-05,\n",
              "        2.3360e-05, 2.2365e-05, 2.1411e-05, 2.0497e-05, 1.9620e-05, 1.8779e-05,\n",
              "        1.7973e-05, 1.7201e-05, 1.6461e-05, 1.5752e-05, 1.5072e-05, 1.4421e-05,\n",
              "        1.3796e-05, 1.3198e-05, 1.2625e-05, 1.2076e-05, 1.1550e-05, 1.1047e-05,\n",
              "        1.0564e-05, 1.0103e-05, 9.6600e-06, 9.2362e-06, 8.8304e-06, 8.4422e-06,\n",
              "        8.0705e-06, 7.7145e-06, 7.3735e-06, 7.0473e-06, 6.7352e-06, 6.4364e-06,\n",
              "        6.1505e-06, 5.8769e-06, 5.6150e-06, 5.3644e-06, 5.1246e-06, 4.8952e-06,\n",
              "        4.6757e-06, 4.4659e-06, 4.2652e-06, 4.0733e-06, 3.8896e-06, 3.7142e-06,\n",
              "        3.5464e-06, 3.3857e-06, 3.2323e-06, 3.0855e-06, 2.9453e-06, 2.8113e-06,\n",
              "        2.6831e-06, 2.5605e-06, 2.4434e-06, 2.3316e-06, 2.2246e-06, 2.1224e-06,\n",
              "        2.0247e-06, 1.9314e-06, 1.8424e-06, 1.7573e-06, 1.6759e-06, 1.5983e-06,\n",
              "        1.5242e-06, 1.4533e-06, 1.3858e-06, 1.3213e-06, 1.2597e-06, 1.2008e-06,\n",
              "        1.1446e-06, 1.0909e-06, 1.0398e-06, 9.9095e-07, 9.4425e-07, 8.9973e-07,\n",
              "        8.5729e-07, 8.1675e-07, 7.7804e-07, 7.4111e-07, 7.0587e-07, 6.7229e-07,\n",
              "        6.4030e-07, 6.0973e-07, 5.8064e-07, 5.5287e-07, 5.2639e-07, 5.0114e-07,\n",
              "        4.7708e-07, 4.5417e-07, 4.3227e-07, 4.1145e-07, 3.9157e-07, 3.7260e-07,\n",
              "        3.5459e-07, 3.3743e-07, 3.2101e-07, 3.0538e-07, 2.9050e-07, 2.7636e-07,\n",
              "        2.6286e-07, 2.5004e-07, 2.3780e-07, 2.2614e-07, 2.1502e-07, 2.0444e-07,\n",
              "        1.9436e-07, 1.8477e-07, 1.7566e-07, 1.6695e-07, 1.5867e-07, 1.5082e-07,\n",
              "        1.4333e-07, 1.3618e-07, 1.2941e-07, 1.2296e-07, 1.1681e-07, 1.1096e-07,\n",
              "        1.0539e-07, 1.0010e-07, 9.5071e-08, 9.0295e-08, 8.5763e-08, 8.1426e-08,\n",
              "        7.7317e-08, 7.3389e-08, 6.9671e-08, 6.6121e-08, 6.2768e-08, 5.9569e-08,\n",
              "        5.6519e-08, 5.3644e-08, 5.0907e-08, 4.8302e-08, 4.5824e-08, 4.3469e-08,\n",
              "        4.1232e-08, 3.9108e-08, 3.7094e-08, 3.5184e-08, 3.3375e-08, 3.1639e-08,\n",
              "        2.9996e-08, 2.8443e-08, 2.6955e-08, 2.5550e-08, 2.4226e-08, 2.2958e-08,\n",
              "        2.1764e-08, 2.0623e-08, 1.9550e-08, 1.8524e-08, 1.7545e-08, 1.6628e-08,\n",
              "        1.5752e-08, 1.4917e-08, 1.4121e-08, 1.3379e-08, 1.2673e-08, 1.2000e-08,\n",
              "        1.1361e-08, 1.0753e-08, 1.0176e-08, 9.6279e-09, 9.1085e-09, 8.6162e-09,\n",
              "        8.1501e-09, 7.7090e-09, 7.2918e-09, 6.8978e-09, 6.5257e-09, 6.1748e-09,\n",
              "        5.8442e-09, 5.5225e-09, 5.2201e-09, 4.9357e-09, 4.6687e-09, 4.4182e-09,\n",
              "        4.1747e-09, 3.9468e-09, 3.7335e-09, 3.5263e-09, 3.3329e-09, 3.1527e-09,\n",
              "        2.9774e-09, 2.8145e-09, 2.6562e-09, 2.5094e-09, 2.3734e-09, 2.2411e-09,\n",
              "        2.1191e-09, 2.0004e-09, 1.8911e-09, 1.7850e-09, 1.6875e-09, 1.5928e-09,\n",
              "        1.5061e-09, 1.4218e-09, 1.3400e-09, 1.2655e-09, 1.1932e-09, 1.1275e-09,\n",
              "        1.0638e-09, 1.0019e-09, 9.4604e-10, 8.9182e-10, 8.4319e-10, 7.9590e-10,\n",
              "        7.5000e-10, 7.0913e-10, 6.6937e-10, 6.3079e-10, 5.9335e-10, 5.6029e-10,\n",
              "        5.2820e-10, 4.9702e-10, 4.6978e-10, 4.4335e-10, 4.1767e-10, 3.9272e-10,\n",
              "        3.7122e-10, 3.5030e-10, 3.2998e-10, 3.1030e-10, 2.9118e-10, 2.7500e-10,\n",
              "        2.5925e-10, 2.4399e-10, 2.2916e-10, 2.1480e-10, 2.0288e-10, 1.9131e-10,\n",
              "        1.8004e-10, 1.6912e-10, 1.5855e-10, 1.5001e-10, 1.4172e-10, 1.3363e-10,\n",
              "        1.2581e-10, 1.1819e-10, 1.1084e-10, 1.0371e-10, 9.8182e-11, 9.2805e-11,\n",
              "        8.7572e-11, 8.2494e-11, 7.7568e-11, 7.2797e-11, 6.8168e-11, 6.3716e-11,\n",
              "        5.9395e-11, 5.6254e-11, 5.3200e-11, 5.0233e-11, 4.7353e-11, 4.4548e-11,\n",
              "        4.1839e-11, 3.9205e-11, 3.6657e-11, 3.4206e-11, 3.1833e-11, 2.9553e-11,\n",
              "        2.8075e-11, 2.6630e-11, 2.5230e-11, 2.3865e-11, 2.2545e-11, 2.1256e-11,\n",
              "        2.0008e-11, 1.8796e-11, 1.7617e-11, 1.6482e-11, 1.5379e-11, 1.4321e-11,\n",
              "        1.3304e-11, 1.2320e-11, 1.1370e-11, 1.0463e-11, 9.5864e-12, 9.1666e-12,\n",
              "        8.7560e-12, 8.3512e-12, 7.9571e-12, 7.5761e-12, 7.2035e-12, 6.8395e-12,\n",
              "        6.4822e-12, 6.1380e-12, 5.7990e-12, 5.4708e-12, 5.1562e-12, 4.8514e-12,\n",
              "        4.5511e-12, 4.2616e-12, 3.9825e-12, 3.7124e-12, 3.4509e-12, 3.2004e-12,\n",
              "        2.9593e-12, 2.7261e-12, 2.5055e-12, 2.2916e-12, 2.0886e-12, 1.8946e-12,\n",
              "        1.7091e-12, 1.5347e-12, 1.3687e-12, 1.2130e-12, 1.0661e-12, 9.2919e-13,\n",
              "        7.9986e-13, 6.8218e-13, 6.8218e-13, 6.8218e-13, 6.8218e-13, 6.8218e-13,\n",
              "        6.8218e-13, 6.8218e-13, 6.8218e-13, 6.8218e-13, 6.8218e-13, 6.8218e-13,\n",
              "        6.8218e-13, 6.8218e-13, 6.8218e-13, 6.8218e-13, 6.8218e-13, 6.8218e-13,\n",
              "        6.8218e-13, 6.8218e-13, 6.8218e-13, 6.8218e-13, 6.8218e-13, 6.8218e-13,\n",
              "        6.8218e-13, 6.8218e-13, 6.8218e-13, 6.8218e-13, 6.8218e-13, 6.8218e-13,\n",
              "        6.8218e-13, 6.8218e-13, 6.8218e-13, 6.8218e-13, 6.8218e-13, 6.8218e-13,\n",
              "        6.8218e-13, 6.8218e-13, 6.8218e-13, 6.8218e-13, 6.8218e-13, 6.8218e-13,\n",
              "        6.8218e-13, 6.8218e-13, 6.8218e-13, 6.8218e-13, 6.8218e-13, 6.8218e-13,\n",
              "        6.8218e-13, 6.8218e-13, 6.8218e-13, 6.8218e-13, 6.8218e-13, 6.8218e-13,\n",
              "        6.8218e-13, 6.8218e-13, 6.8218e-13, 6.8218e-13, 6.8218e-13, 6.8218e-13,\n",
              "        6.8218e-13, 6.8218e-13, 6.8218e-13, 6.8218e-13, 6.8218e-13, 6.8218e-13,\n",
              "        6.8218e-13, 6.8218e-13, 6.8218e-13, 6.8218e-13, 6.8218e-13, 6.8218e-13,\n",
              "        6.8218e-13, 6.8218e-13, 6.8218e-13, 6.8218e-13, 6.8218e-13, 6.8218e-13,\n",
              "        6.8218e-13, 6.8218e-13, 6.8218e-13, 6.8218e-13, 6.8218e-13, 6.8218e-13,\n",
              "        6.8218e-13, 6.8218e-13, 6.8218e-13, 6.8218e-13, 6.8218e-13, 6.8218e-13,\n",
              "        6.8218e-13, 6.8218e-13, 6.8218e-13, 6.8218e-13, 6.8218e-13, 6.8218e-13,\n",
              "        6.8218e-13, 6.8218e-13, 6.8218e-13, 6.8218e-13, 6.8218e-13, 6.8218e-13,\n",
              "        6.8218e-13, 6.8218e-13, 6.8218e-13, 6.8218e-13])"
            ]
          },
          "metadata": {},
          "execution_count": 43
        }
      ]
    }
  ]
}