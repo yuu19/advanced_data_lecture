{
  "cells": [
    {
      "cell_type": "markdown",
      "metadata": {
        "id": "view-in-github",
        "colab_type": "text"
      },
      "source": [
        "<a href=\"https://colab.research.google.com/github/yuu19/advanced_data_lecture/blob/main/Chap_7_Applied_Data_Science_20230616.ipynb\" target=\"_parent\"><img src=\"https://colab.research.google.com/assets/colab-badge.svg\" alt=\"Open In Colab\"/></a>"
      ]
    },
    {
      "cell_type": "markdown",
      "metadata": {
        "id": "OUW8-9uQsURM"
      },
      "source": [
        "# Ver 1.0\n",
        "\n",
        "About version：The version is 1.0 when released in the google classroom and it will be updated if there are any changes."
      ]
    },
    {
      "cell_type": "markdown",
      "metadata": {
        "id": "I7eyvF2v1ICU"
      },
      "source": [
        "#7. <font color='crimson'>Text Analysis - Part I </font>\n",
        "\n",
        "We will learn the text analysis using two lectures.\n",
        "\n",
        "In this class, we mainly learn the text data preprocessing, and we will learn the modeling with preprocessed text data in the next lecture.\n",
        "\n",
        "**Today's highlight**：\n",
        "\n",
        "- Read the text file, basic preprocessing\n",
        "\n",
        "- Regular Expression\n",
        "\n",
        "\n",
        "\n"
      ]
    },
    {
      "cell_type": "markdown",
      "source": [
        "## 7.1 <font color=\"Crimson\">**Read text, basic preprocessing**</font>"
      ],
      "metadata": {
        "id": "R4F9Gg7FDSt1"
      }
    },
    {
      "cell_type": "markdown",
      "metadata": {
        "id": "u2QOZVXQlmpH"
      },
      "source": [
        "https://raw.githubusercontent.com/dgod1028/Research/main/data/sendai_eco.txt"
      ]
    },
    {
      "cell_type": "markdown",
      "metadata": {
        "id": "2hI2nEigmYjJ"
      },
      "source": [
        "Let's download the text file first."
      ]
    },
    {
      "cell_type": "code",
      "execution_count": null,
      "metadata": {
        "colab": {
          "base_uri": "https://localhost:8080/"
        },
        "id": "qchJU1WZmavL",
        "outputId": "feb1d246-a21d-489c-fd49-4a411bedbe51"
      },
      "outputs": [
        {
          "output_type": "stream",
          "name": "stdout",
          "text": [
            "--2023-06-16 01:36:22--  https://raw.githubusercontent.com/dgod1028/Research/main/data/sendai_eco.txt\n",
            "Resolving raw.githubusercontent.com (raw.githubusercontent.com)... 185.199.109.133, 185.199.108.133, 185.199.111.133, ...\n",
            "Connecting to raw.githubusercontent.com (raw.githubusercontent.com)|185.199.109.133|:443... connected.\n",
            "HTTP request sent, awaiting response... 200 OK\n",
            "Length: 1513 (1.5K) [text/plain]\n",
            "Saving to: ‘sendai_eco.txt’\n",
            "\n",
            "\rsendai_eco.txt        0%[                    ]       0  --.-KB/s               \rsendai_eco.txt      100%[===================>]   1.48K  --.-KB/s    in 0s      \n",
            "\n",
            "2023-06-16 01:36:22 (18.1 MB/s) - ‘sendai_eco.txt’ saved [1513/1513]\n",
            "\n"
          ]
        }
      ],
      "source": [
        "!wget https://raw.githubusercontent.com/dgod1028/Research/main/data/sendai_eco.txt"
      ]
    },
    {
      "cell_type": "markdown",
      "metadata": {
        "id": "O0aqNDO0mN8y"
      },
      "source": [
        "We need to use `open(file, 'r')` to read a text file."
      ]
    },
    {
      "cell_type": "code",
      "execution_count": null,
      "metadata": {
        "colab": {
          "base_uri": "https://localhost:8080/",
          "height": 105
        },
        "id": "hdmylbvPmNHQ",
        "outputId": "bf06e311-2ff4-4e53-b320-79af5a64d120"
      },
      "outputs": [
        {
          "output_type": "execute_result",
          "data": {
            "text/plain": [
              "\"Economy\\nSendai is the center of the Tōhoku region's economy, and is the base of the region's logistics and transportation. The GDP in Greater Sendai, Sendai Metropolitan Employment Area (1.6 million people), is US$61.7 billion in 2010.[16][17] Sendai city by itself has a nominal GDP of approximately US$50 billion as of 2015.[18] The city's economy heavily relies upon retail and services – the two industries provide approximately two thirds of the employment and close to half of the establishments.\\n\\nSendai is frequently called a branch-office economy[by whom?], because very few major companies are headquartered in the city. Various authorities are cooperating to alleviate this problem, primarily by encouraging high-tech ventures from Tohoku University, which is well known for its science and engineering departments. There are also incentives for startups available from the prefectural government.[19]\\n\\nTohoku Electric Power, a major regional supplier of electric power, has its headquarters in Sendai and also operates the Shin-Sendai Thermal Power Station located within the city.\\n\\nSendai's economic growth rate has stabilized since the 2011 Japan earthquake. The growth rate was only 0.4% in 2011 after the quake created economic turmoil in coastal areas. The year after, in 2012 the rate spiked to 10.4% after reconstruction efforts. It has since fallen to a closer trend to what is expected of 3.7% in 2013.[20]\\n\\nTourism in 2016 attracted an estimated 2.229 million visitors to Sendai.\""
            ],
            "application/vnd.google.colaboratory.intrinsic+json": {
              "type": "string"
            }
          },
          "metadata": {},
          "execution_count": 4
        }
      ],
      "source": [
        "f = open('sendai_eco.txt', 'r') # file reader\n",
        "text = f.read() # read all the data\n",
        "f.close() # close\n",
        "\n",
        "text"
      ]
    },
    {
      "cell_type": "markdown",
      "metadata": {
        "id": "Fj2w2Dm2o7F9"
      },
      "source": [
        "This code can also be expressed as follows"
      ]
    },
    {
      "cell_type": "code",
      "execution_count": null,
      "metadata": {
        "colab": {
          "base_uri": "https://localhost:8080/",
          "height": 107
        },
        "id": "xRy8W4Nyo4l4",
        "outputId": "bd917faa-7cee-4754-b2af-fe7356e374be"
      },
      "outputs": [
        {
          "output_type": "execute_result",
          "data": {
            "text/plain": [
              "\"Economy\\nSendai is the center of the Tōhoku region's economy, and is the base of the region's logistics and transportation. The GDP in Greater Sendai, Sendai Metropolitan Employment Area (1.6 million people), is US$61.7 billion in 2010.[16][17] Sendai city by itself has a nominal GDP of approximately US$50 billion as of 2015.[18] The city's economy heavily relies upon retail and services – the two industries provide approximately two thirds of the employment and close to half of the establishments.\\n\\nSendai is frequently called a branch-office economy[by whom?], because very few major companies are headquartered in the city. Various authorities are cooperating to alleviate this problem, primarily by encouraging high-tech ventures from Tohoku University, which is well known for its science and engineering departments. There are also incentives for startups available from the prefectural government.[19]\\n\\nTohoku Electric Power, a major regional supplier of electric power, has its headquarters in Sendai and also operates the Shin-Sendai Thermal Power Station located within the city.\\n\\nSendai's economic growth rate has stabilized since the 2011 Japan earthquake. The growth rate was only 0.4% in 2011 after the quake created economic turmoil in coastal areas. The year after, in 2012 the rate spiked to 10.4% after reconstruction efforts. It has since fallen to a closer trend to what is expected of 3.7% in 2013.[20]\\n\\nTourism in 2016 attracted an estimated 2.229 million visitors to Sendai.\""
            ],
            "application/vnd.google.colaboratory.intrinsic+json": {
              "type": "string"
            }
          },
          "metadata": {},
          "execution_count": 102
        }
      ],
      "source": [
        "with open('sendai_eco.txt', 'r') as f:\n",
        "  text = f.read()\n",
        "text"
      ]
    },
    {
      "cell_type": "markdown",
      "metadata": {
        "id": "OL1efMEjnkK4"
      },
      "source": [
        "Basiclly, there are many useless characters included in the text such as punctuation, numbers, special characters, For"
      ]
    },
    {
      "cell_type": "code",
      "execution_count": null,
      "metadata": {
        "colab": {
          "base_uri": "https://localhost:8080/"
        },
        "id": "Z0jtGC7doWCF",
        "outputId": "392f6e95-f496-4c9f-d49d-f7ce6ec00fbc"
      },
      "outputs": [
        {
          "output_type": "stream",
          "name": "stderr",
          "text": [
            "[nltk_data] Downloading package stopwords to /root/nltk_data...\n",
            "[nltk_data]   Unzipping corpora/stopwords.zip.\n"
          ]
        },
        {
          "output_type": "execute_result",
          "data": {
            "text/plain": [
              "True"
            ]
          },
          "metadata": {},
          "execution_count": 2
        }
      ],
      "source": [
        "import nltk\n",
        "nltk.download('stopwords')"
      ]
    },
    {
      "cell_type": "code",
      "execution_count": null,
      "metadata": {
        "colab": {
          "base_uri": "https://localhost:8080/"
        },
        "id": "GZZTn_v4lwh7",
        "outputId": "a13ac2b0-620f-418a-a9ee-ab0522f11070"
      },
      "outputs": [
        {
          "output_type": "stream",
          "name": "stdout",
          "text": [
            "{'myself', 'wouldn', 'hasn', \"needn't\", 'so', 'his', 'some', \"shan't\", 'by', 'their', 'yours', 'there', 'yourselves', 'under', 'more', 'into', 'being', \"you've\", 'what', 'they', 'having', 'does', 'our', 'no', 'himself', 'shan', 'wasn', 'out', \"wasn't\", 'than', \"you'll\", 'hadn', \"you'd\", 'that', 'too', 'won', 'them', 'for', 'has', 'while', 'not', \"shouldn't\", 'itself', 'on', \"she's\", 'do', 'of', \"hasn't\", 'this', 'once', 'when', 'him', 'few', 'and', \"weren't\", 'will', 'were', 'again', 'these', 'ain', 'he', \"isn't\", 'any', 'after', 'ourselves', 'just', 'shouldn', 'why', 'whom', 'where', 'you', \"don't\", 'as', \"mightn't\", 'all', 'is', 'we', 'needn', 'did', 'below', 'themselves', \"won't\", \"haven't\", 'a', 'only', 'now', 'i', 'me', 'hers', 'up', 'how', 'mustn', 's', 'mightn', \"mustn't\", \"wouldn't\", \"couldn't\", 'your', 'yourself', 'are', 'haven', 'if', 'she', 'the', \"it's\", \"hadn't\", 'off', 'own', \"aren't\", 'both', 'should', 'down', 'nor', 't', 'my', 'such', 'because', 'over', 'll', \"should've\", 'here', \"doesn't\", 'or', 'who', 'an', 're', 'y', 'don', 'theirs', 'o', 'in', 'm', 'herself', 'didn', 've', 'ma', 'most', 'ours', 'before', 'be', 'am', 'each', \"that'll\", 'had', 'from', 'it', 'been', 'with', 'can', 'then', 'd', 'her', 'about', 'against', 'aren', 'doesn', 'other', 'above', 'between', \"you're\", 'until', 'very', 'isn', \"didn't\", 'weren', 'but', 'same', 'during', 'further', 'doing', 'those', 'have', 'couldn', 'which', 'was', 'at', 'to', 'its', 'through'}\n"
          ]
        }
      ],
      "source": [
        "from nltk.corpus import stopwords\n",
        "\n",
        "example_sent = \"\"\"This is a sample sentence,\n",
        "                  showing off the stop words filtration.\"\"\"\n",
        "\n",
        "stop_words = set(stopwords.words('english'))\n",
        "print(stop_words)"
      ]
    },
    {
      "cell_type": "markdown",
      "metadata": {
        "id": "ERSSe-NKcC6_"
      },
      "source": [
        "### <font color='crimson'>**[Practice 1]Remove the stopwords** (10 mins)</font>\n",
        "\n",
        "Try to remove all the **stopwords** by using the `stop_words` above from the text.\n",
        "\n",
        "\n",
        "<details>\n",
        "\n",
        "<summary> Hint1 </summary>\n",
        "\n",
        "- Split the words first.\n",
        "\n",
        "- For each splited words, append to a list if the word is not in the stop_words.\n",
        "\n",
        "</details>\n",
        "\n",
        "\n",
        "<details>\n",
        "\n",
        "<summary> Hint2 </summary>\n",
        "\n",
        "- assume you have a word list `wl = ['I', 'am', 'hungry']`,Use\n",
        "\n",
        "`' '.join(wl)` to combine all the words with space.\n",
        "\n",
        "</details>\n"
      ]
    },
    {
      "cell_type": "code",
      "source": [
        "text2 = text\n",
        "\n",
        "tmp = text2.split(' ')\n",
        "new_text = [word for word in tmp if word not in stop_words ]\n",
        "new_text2 = ' '.join(new_text)"
      ],
      "metadata": {
        "id": "y6eZD6Ol5g1A"
      },
      "execution_count": null,
      "outputs": []
    },
    {
      "cell_type": "markdown",
      "metadata": {
        "id": "R1y6Zad3HBPf"
      },
      "source": [
        "## 7.2 <font color=\"Crimson\">**Regular Expression**</font>\n",
        "\n",
        "  Text Analysis is one of a very hot topics nowadays.Compared to regular numerical data, text data is a bit more complex to preprocess. Therefore, regular expressions play an indispensable role in text preprocessing."
      ]
    },
    {
      "cell_type": "markdown",
      "metadata": {
        "id": "XWNUc8ueO8wQ"
      },
      "source": [
        "A regular expression is a generic notation for a set of strings (a pattern). For example, the string \"book or cook\" can be written as [bc]ook using a regular expression. The [bc] means \"either b or c, one character\".\n",
        "\n",
        "My recommendation:\n",
        "\n",
        "Use the following site to train your regular expression:\n",
        "\n",
        "https://regexr.com/"
      ]
    },
    {
      "cell_type": "code",
      "execution_count": null,
      "metadata": {
        "id": "ncf_D8e-O9F_"
      },
      "outputs": [],
      "source": [
        "import re"
      ]
    },
    {
      "cell_type": "markdown",
      "metadata": {
        "id": "F6JJuYE8uGL4"
      },
      "source": [
        "- `findall(pat, string)`\n",
        "\n",
        "Find all the strings which match the pattern."
      ]
    },
    {
      "cell_type": "code",
      "execution_count": null,
      "metadata": {
        "colab": {
          "base_uri": "https://localhost:8080/"
        },
        "id": "_-YxYSmEuFhv",
        "outputId": "9b3646b2-066c-4c82-ef8a-ce87cfe612a6"
      },
      "outputs": [
        {
          "output_type": "execute_result",
          "data": {
            "text/plain": [
              "['Sendai',\n",
              " 'Sendai',\n",
              " 'Sendai',\n",
              " 'Sendai',\n",
              " 'Sendai',\n",
              " 'Sendai',\n",
              " 'Sendai',\n",
              " 'Sendai',\n",
              " 'Sendai']"
            ]
          },
          "metadata": {},
          "execution_count": 52
        }
      ],
      "source": [
        "re.findall('Sendai', text)"
      ]
    },
    {
      "cell_type": "markdown",
      "metadata": {
        "id": "mMxim3VawAqJ"
      },
      "source": [
        "- \\w, \\d, \\s, \\W, \\D . and more..."
      ]
    },
    {
      "cell_type": "code",
      "execution_count": null,
      "metadata": {
        "colab": {
          "base_uri": "https://localhost:8080/"
        },
        "id": "D359_bgRwEyD",
        "outputId": "86b58349-1fec-4c2b-e98d-8fcb1e1cfdc4"
      },
      "outputs": [
        {
          "output_type": "execute_result",
          "data": {
            "text/plain": [
              "['Apple A', 'act 100', 'a001b a', '100 50 ', 'word_cl', 'oud 28.', '913 -31']"
            ]
          },
          "metadata": {},
          "execution_count": 26
        }
      ],
      "source": [
        "# \\w a-zA-Z0-9_\n",
        "sample = 'Apple Act act 1001 a001b a%c $100 50 [1] 10.5 word_cloud 28.5 22.913 -31.2 \\aa'\n",
        "\n",
        "\n",
        "re.findall('\\w\\w\\w....', sample)"
      ]
    },
    {
      "cell_type": "code",
      "execution_count": null,
      "metadata": {
        "colab": {
          "base_uri": "https://localhost:8080/"
        },
        "id": "ntTMWcw9wdZe",
        "outputId": "43f647fa-a450-4fe4-99e8-880e9a7f806b"
      },
      "outputs": [
        {
          "output_type": "stream",
          "name": "stdout",
          "text": [
            "\\W\n",
            "[' A', ' a', ' 1', ' a', ' a', '%c', '$1', ' 5', '[1', ' 1', '.5', ' w', ' 2', '.5', ' 2', '.9', '-3', '.2', '\\x07a']\n",
            "\\d\n",
            "['10', '01', '00', '10', '50', '10', '28', '22', '91', '31']\n",
            "\\D\n",
            "['Ap', 'pl', 'e ', 'Ac', 't ', 'ac', 't ', ' a', 'b ', 'a%', 'c ', ' [', '] ', ' w', 'or', 'd_', 'cl', 'ou', 'd ', ' -', ' \\x07']\n",
            "\\s\n",
            "['e A', 't a', 't 1', '1 a', 'b a', '0 5', '5 w', 'd 2', '5 2']\n"
          ]
        }
      ],
      "source": [
        "print('\\W') # not word\n",
        "print(re.findall('\\W\\w', sample))\n",
        "print('\\d') # digit\n",
        "print(re.findall('\\d\\d', sample))\n",
        "print('\\D') # not digit\n",
        "print(re.findall('\\D\\D', sample))\n",
        "print('\\s')\n",
        "print(re.findall('\\w\\s\\w', sample))"
      ]
    },
    {
      "cell_type": "markdown",
      "metadata": {
        "id": "kID8G_3iuoJd"
      },
      "source": [
        "- <font color='crimson'>*</font>(at least 0) <font color='crimson'>+</font>(at least 1)\n",
        "\n",
        "The pattern will be very flexible if you use + or *."
      ]
    },
    {
      "cell_type": "code",
      "source": [
        "print(re.findall('\\w+', sample))"
      ],
      "metadata": {
        "colab": {
          "base_uri": "https://localhost:8080/"
        },
        "id": "ngqJKChCzq1D",
        "outputId": "189e0556-a8fa-4936-a6e8-f08031c2ed5b"
      },
      "execution_count": null,
      "outputs": [
        {
          "output_type": "stream",
          "name": "stdout",
          "text": [
            "['Apple', 'Act', 'act', '1001', 'a001b', 'a', 'c', '100', '50', '1', '10', '5', 'word_cloud', '28', '5', '22', '913', '31', '2', 'a']\n"
          ]
        }
      ]
    },
    {
      "cell_type": "markdown",
      "source": [
        "**Consider: How to extract strings that start with character A?**"
      ],
      "metadata": {
        "id": "CaEhqQxj0FQc"
      }
    },
    {
      "cell_type": "code",
      "source": [
        "print(re.findall('A\\w+', sample))\n"
      ],
      "metadata": {
        "id": "IIFZHng_0EiO",
        "colab": {
          "base_uri": "https://localhost:8080/"
        },
        "outputId": "f1a04ef8-d79b-4a15-df24-b0cb2904eae1"
      },
      "execution_count": null,
      "outputs": [
        {
          "output_type": "stream",
          "name": "stdout",
          "text": [
            "['Apple', 'Act']\n"
          ]
        }
      ]
    },
    {
      "cell_type": "markdown",
      "source": [
        "- <font color='crimson'>?</font>\n",
        "\n",
        "? stands for the specific character can either exist or not."
      ],
      "metadata": {
        "id": "WTFil71G0Lg3"
      }
    },
    {
      "cell_type": "code",
      "execution_count": null,
      "metadata": {
        "id": "c4kWgLxPO9i7",
        "colab": {
          "base_uri": "https://localhost:8080/"
        },
        "outputId": "c21784ef-ec55-4020-bc3e-00b486474cd4"
      },
      "outputs": [
        {
          "output_type": "execute_result",
          "data": {
            "text/plain": [
              "['1001', '001', '100', '50', '1', '10', '5', '28', '5', '22', '913', '31', '2']"
            ]
          },
          "metadata": {},
          "execution_count": 29
        }
      ],
      "source": [
        "re.findall('\\d+', sample)"
      ]
    },
    {
      "cell_type": "code",
      "source": [
        "sample"
      ],
      "metadata": {
        "colab": {
          "base_uri": "https://localhost:8080/",
          "height": 36
        },
        "id": "vANdly239Ssg",
        "outputId": "ef6c4f3f-288d-4f36-d5fb-7fd4f43ef122"
      },
      "execution_count": null,
      "outputs": [
        {
          "output_type": "execute_result",
          "data": {
            "text/plain": [
              "'Apple Act act 1001 a001b a%c $100 50 [1] 10.5 word_cloud 28.5 22.913 -31.2 \\x07a'"
            ],
            "application/vnd.google.colaboratory.intrinsic+json": {
              "type": "string"
            }
          },
          "metadata": {},
          "execution_count": 31
        }
      ]
    },
    {
      "cell_type": "code",
      "source": [
        "re.findall('-?\\d+', sample)"
      ],
      "metadata": {
        "colab": {
          "base_uri": "https://localhost:8080/"
        },
        "id": "ZRxmy6ud0hU3",
        "outputId": "22ab8b50-d6d0-43fe-9032-dd6365002ac5"
      },
      "execution_count": null,
      "outputs": [
        {
          "output_type": "execute_result",
          "data": {
            "text/plain": [
              "['1001',\n",
              " '001',\n",
              " '100',\n",
              " '50',\n",
              " '1',\n",
              " '10',\n",
              " '5',\n",
              " '28',\n",
              " '5',\n",
              " '22',\n",
              " '913',\n",
              " '-31',\n",
              " '2']"
            ]
          },
          "metadata": {},
          "execution_count": 80
        }
      ]
    },
    {
      "cell_type": "markdown",
      "source": [
        "But it seems that we can also do this with *"
      ],
      "metadata": {
        "id": "H0oTFd3q0_Z0"
      }
    },
    {
      "cell_type": "code",
      "source": [
        "re.findall('-*\\d+', sample)"
      ],
      "metadata": {
        "colab": {
          "base_uri": "https://localhost:8080/"
        },
        "id": "85In-fK80wJt",
        "outputId": "17614b8f-7a5f-44c5-f637-fc4bfd527689"
      },
      "execution_count": null,
      "outputs": [
        {
          "output_type": "execute_result",
          "data": {
            "text/plain": [
              "['1001',\n",
              " '001',\n",
              " '100',\n",
              " '50',\n",
              " '1',\n",
              " '10',\n",
              " '5',\n",
              " '28',\n",
              " '5',\n",
              " '22',\n",
              " '913',\n",
              " '-31',\n",
              " '2']"
            ]
          },
          "metadata": {},
          "execution_count": 81
        }
      ]
    },
    {
      "cell_type": "markdown",
      "source": [
        "**Consider: What is the difference between the two patter? (? and *)**"
      ],
      "metadata": {
        "id": "o9DZxPPD1Ws1"
      }
    },
    {
      "cell_type": "code",
      "source": [
        "sample2 = '----5'\n",
        "\n",
        "re.findall('-?\\d+', sample2)"
      ],
      "metadata": {
        "id": "2Ko07A9Q1dSu",
        "colab": {
          "base_uri": "https://localhost:8080/"
        },
        "outputId": "cc2fb945-a857-45a2-c1b0-e2bcc90d4885"
      },
      "execution_count": null,
      "outputs": [
        {
          "output_type": "execute_result",
          "data": {
            "text/plain": [
              "['-5']"
            ]
          },
          "metadata": {},
          "execution_count": 33
        }
      ]
    },
    {
      "cell_type": "code",
      "source": [
        "re.findall('-*\\d+', sample2)"
      ],
      "metadata": {
        "colab": {
          "base_uri": "https://localhost:8080/"
        },
        "id": "IIOmdqxn-EDv",
        "outputId": "9420d98f-eef9-4a63-d4ab-d273654ec2c7"
      },
      "execution_count": null,
      "outputs": [
        {
          "output_type": "execute_result",
          "data": {
            "text/plain": [
              "['----5']"
            ]
          },
          "metadata": {},
          "execution_count": 34
        }
      ]
    },
    {
      "cell_type": "markdown",
      "source": [
        "Some special charaters, like \\, you should add \\ before these kinds of special characters to detect them in the regular expression."
      ],
      "metadata": {
        "id": "E_W2ZQ4S11wd"
      }
    },
    {
      "cell_type": "markdown",
      "source": [
        "- []\n",
        "\n",
        "You can put several conditions that match the pattern by using []."
      ],
      "metadata": {
        "id": "q3F8oTbB1di5"
      }
    },
    {
      "cell_type": "code",
      "source": [
        "print(re.findall('a\\w+', sample)) # start with a\n",
        "print(re.findall('[aA]\\w+', sample)) # start with a or A"
      ],
      "metadata": {
        "colab": {
          "base_uri": "https://localhost:8080/"
        },
        "id": "7v_Hp5B21ndy",
        "outputId": "b90222e1-9ba2-42fc-cabd-40a36826bd3f"
      },
      "execution_count": null,
      "outputs": [
        {
          "output_type": "stream",
          "name": "stdout",
          "text": [
            "['act', 'a001b']\n",
            "['Apple', 'Act', 'act', 'a001b']\n"
          ]
        }
      ]
    },
    {
      "cell_type": "markdown",
      "source": [
        "Also, you can choose the range of the characters by using a-z, A-Z"
      ],
      "metadata": {
        "id": "q3rFILzb2W4-"
      }
    },
    {
      "cell_type": "code",
      "source": [
        "print(re.findall('[a-c]\\w+', sample)) # start with a-c"
      ],
      "metadata": {
        "colab": {
          "base_uri": "https://localhost:8080/"
        },
        "id": "4ddbY6TN1zqK",
        "outputId": "022b834e-891a-4975-fa00-a6fe82925385"
      },
      "execution_count": null,
      "outputs": [
        {
          "output_type": "stream",
          "name": "stdout",
          "text": [
            "['ct', 'act', 'a001b', 'cloud']\n"
          ]
        }
      ]
    },
    {
      "cell_type": "markdown",
      "source": [
        "Also, you can use the `^` to inverse the conditions in []"
      ],
      "metadata": {
        "id": "d57xGGG73A3J"
      }
    },
    {
      "cell_type": "code",
      "source": [
        "sample"
      ],
      "metadata": {
        "colab": {
          "base_uri": "https://localhost:8080/",
          "height": 36
        },
        "id": "4VdZIMk7_Akg",
        "outputId": "fde0361a-7c77-48b9-b8da-4d5be855da8e"
      },
      "execution_count": null,
      "outputs": [
        {
          "output_type": "execute_result",
          "data": {
            "text/plain": [
              "'Apple Act act 1001 a001b a%c $100 50 [1] 10.5 word_cloud 28.5 22.913 -31.2 \\x07a'"
            ],
            "application/vnd.google.colaboratory.intrinsic+json": {
              "type": "string"
            }
          },
          "metadata": {},
          "execution_count": 35
        }
      ]
    },
    {
      "cell_type": "code",
      "source": [
        "print(re.findall('[^a-cA-C]\\w+', sample)) # not start with a-c or A-C"
      ],
      "metadata": {
        "colab": {
          "base_uri": "https://localhost:8080/"
        },
        "id": "XtibHDN-3Ezw",
        "outputId": "44247a54-98f3-4127-c335-901ce7889fe3"
      },
      "execution_count": null,
      "outputs": [
        {
          "output_type": "stream",
          "name": "stdout",
          "text": [
            "['pple', ' Act', ' act', ' 1001', ' a001b', ' a', '%c', '$100', ' 50', '[1', ' 10', '.5', ' word_cloud', ' 28', '.5', ' 22', '.913', '-31', '.2', '\\x07a']\n"
          ]
        }
      ]
    },
    {
      "cell_type": "markdown",
      "source": [
        "Let's fix the start character problem here (the result above is not actually start with the defined pattern."
      ],
      "metadata": {
        "id": "bPEZMIQr3P32"
      }
    },
    {
      "cell_type": "markdown",
      "source": [
        "- `(?<=condition), (?<!condition) <font color='crimson'>(Look behind)</font>\n",
        "\n",
        "This pattern will add a condition in the beginning of the character.\n",
        "\n",
        "For example, when we want strings witch start with a, then we only want apple -> apple, not rabit -> abit.\n",
        "\n",
        "So we need to add a constraint in the start point."
      ],
      "metadata": {
        "id": "TeY3TYn53cwm"
      }
    },
    {
      "cell_type": "code",
      "source": [
        "print(re.findall('(?<=\\W)[a-cA-C]\\w+', sample)) # start with a-c"
      ],
      "metadata": {
        "colab": {
          "base_uri": "https://localhost:8080/"
        },
        "id": "otzPJtx636BN",
        "outputId": "c90e3b62-adce-4b34-9576-3be307386346"
      },
      "execution_count": null,
      "outputs": [
        {
          "output_type": "stream",
          "name": "stdout",
          "text": [
            "['Act', 'act', 'a001b']\n"
          ]
        }
      ]
    },
    {
      "cell_type": "code",
      "source": [
        "sample"
      ],
      "metadata": {
        "colab": {
          "base_uri": "https://localhost:8080/",
          "height": 35
        },
        "id": "Ioi_tnUW4ccz",
        "outputId": "97cd2abb-edf6-4f21-f912-8f35fe00d399"
      },
      "execution_count": null,
      "outputs": [
        {
          "output_type": "execute_result",
          "data": {
            "text/plain": [
              "'Apple Act act 1001 a001b a%c $100 50 [1] 10.5 word_cloud 28.5 22.913 -31.2 \\x07a'"
            ],
            "application/vnd.google.colaboratory.intrinsic+json": {
              "type": "string"
            }
          },
          "metadata": {},
          "execution_count": 93
        }
      ]
    },
    {
      "cell_type": "markdown",
      "source": [
        "But this will ignore the first string Apple. We can use (?<!=) instead to avoid this problem."
      ],
      "metadata": {
        "id": "DMvVIYCI4Mi7"
      }
    },
    {
      "cell_type": "code",
      "source": [
        "print(re.findall('(?<!\\w)[a-cA-C]\\w+', sample)) # start with a-c"
      ],
      "metadata": {
        "colab": {
          "base_uri": "https://localhost:8080/"
        },
        "id": "fP0_AdUq4N0c",
        "outputId": "d982dc1d-847d-4316-c964-0e0b9741415a"
      },
      "execution_count": null,
      "outputs": [
        {
          "output_type": "stream",
          "name": "stdout",
          "text": [
            "['Apple', 'Act', 'act', 'a001b']\n"
          ]
        }
      ]
    },
    {
      "cell_type": "markdown",
      "metadata": {
        "id": "AarPpdai4q33"
      },
      "source": [
        "### <font color='crimson'>**[Practice 2]Only alphabet** (10 mins)</font>\n",
        "\n",
        "Similar to the pattern above, but this time we only want the string start with a,A,or w, and make sure no any digit include in the strings.\n"
      ]
    },
    {
      "cell_type": "code",
      "source": [
        "print(sample)\n",
        "# Start here\n",
        "re.findall('(?<!\\w)[aAw][^0-9\\s]+', sample)"
      ],
      "metadata": {
        "colab": {
          "base_uri": "https://localhost:8080/"
        },
        "id": "vEh-LTpa5KLB",
        "outputId": "473fa37f-1351-4af0-efcd-427d879f114d"
      },
      "execution_count": null,
      "outputs": [
        {
          "output_type": "stream",
          "name": "stdout",
          "text": [
            "Apple Act act 1001 a001b a%c $100 50 [1] 10.5 word_cloud 28.5 22.913 -31.2 \u0007a\n"
          ]
        },
        {
          "output_type": "execute_result",
          "data": {
            "text/plain": [
              "['Apple', 'Act', 'act', 'a%c', 'word_cloud']"
            ]
          },
          "metadata": {},
          "execution_count": 37
        }
      ]
    },
    {
      "cell_type": "markdown",
      "source": [
        "- `(?=condition), (?!condition) <font color='crimson'>(Look forward)</font>\n",
        "\n",
        "Similar to the look behind pattern, there is also a function for the Look forward.\n",
        "\n",
        "Here is an example of how to exclude string which include underbar."
      ],
      "metadata": {
        "id": "UINKFlbo54oR"
      }
    },
    {
      "cell_type": "code",
      "source": [
        "print(re.findall('(?<!\\w)[aAw][a-zA-Z]+(?![_\\w])', sample)) # start with a-c"
      ],
      "metadata": {
        "colab": {
          "base_uri": "https://localhost:8080/"
        },
        "id": "OKZGM5PP3b6m",
        "outputId": "22a2ce84-9641-4b1b-9e0d-110b4ad2287f"
      },
      "execution_count": null,
      "outputs": [
        {
          "output_type": "stream",
          "name": "stdout",
          "text": [
            "['Apple', 'Act', 'act']\n"
          ]
        }
      ]
    },
    {
      "cell_type": "markdown",
      "source": [
        "- `subn(pattern, replace, string)`\n",
        "\n",
        "subn is a replace function, which can replace the match pattern to another specific string."
      ],
      "metadata": {
        "id": "ZPhrzyiW7yLL"
      }
    },
    {
      "cell_type": "code",
      "source": [
        "# mask a and A\n",
        "re.subn('[aA]', '#', sample)"
      ],
      "metadata": {
        "colab": {
          "base_uri": "https://localhost:8080/"
        },
        "id": "Ew7iFWm38BSG",
        "outputId": "f41e9029-340d-4314-dd98-f14a73de73af"
      },
      "execution_count": null,
      "outputs": [
        {
          "output_type": "execute_result",
          "data": {
            "text/plain": [
              "('#pple #ct #ct 1001 #001b #%c $100 50 [1] 10.5 word_cloud 28.5 22.913 -31.2 \\x07#',\n",
              " 6)"
            ]
          },
          "metadata": {},
          "execution_count": 106
        }
      ]
    },
    {
      "cell_type": "markdown",
      "source": [
        "The first element is the replaced string, the second element counts how many strings are replaced. Usually we only need the first element."
      ],
      "metadata": {
        "id": "3Ty_YkO58OO_"
      }
    },
    {
      "cell_type": "code",
      "source": [
        "new_sample = re.subn('[aA]', '#', sample)[0]\n",
        "new_sample"
      ],
      "metadata": {
        "colab": {
          "base_uri": "https://localhost:8080/",
          "height": 35
        },
        "id": "-73-1Jca8Mv-",
        "outputId": "8b6b82b9-1f6a-4ad2-85ef-2474f21ebd35"
      },
      "execution_count": null,
      "outputs": [
        {
          "output_type": "execute_result",
          "data": {
            "text/plain": [
              "'#pple #ct #ct 1001 #001b #%c $100 50 [1] 10.5 word_cloud 28.5 22.913 -31.2 \\x07#'"
            ],
            "application/vnd.google.colaboratory.intrinsic+json": {
              "type": "string"
            }
          },
          "metadata": {},
          "execution_count": 108
        }
      ]
    },
    {
      "cell_type": "markdown",
      "metadata": {
        "id": "3aP5Yrez6Vd7"
      },
      "source": [
        "### <font color='crimson'>**[Practice 3]Remove all the stopwords and non-characters.** (10mins)</font>\n",
        "\n",
        "We have learned how to remove the stopwords above, additionally, **remove all the non-characters(besides alphabet, underbar,space and numbers are ok)**.\n",
        "\n",
        "- Also, do not forget to replace the \\n. Be careful, sometimes the words are connected with \\n. (Ecoony\\nSendai)\n",
        "\n",
        "- more than one space need to be replaced by only one space."
      ]
    },
    {
      "cell_type": "code",
      "source": [
        "# oprate with text2\n",
        "# Start here\n",
        "text2 = text\n",
        "\n",
        "tmp = text2.split(' ')\n",
        "new_text = [word for word in tmp if word not in stop_words ]\n",
        "new_text2 = ' '.join(new_text)\n",
        "\n",
        "text2 = new_text2\n",
        "\n",
        "# Start here\n",
        "\n",
        "# \\w a-zA-Z_0-9\n",
        "text3 = re.subn('\\n', ' ', text2)[0]\n",
        "text4 = re.subn('[^\\w\\s]', '', text3)[0]\n",
        "text5 = re.subn('\\s+',' ', text4)[0]\n",
        "\n",
        "text5"
      ],
      "metadata": {
        "colab": {
          "base_uri": "https://localhost:8080/",
          "height": 105
        },
        "id": "_A2v3Msm6ojD",
        "outputId": "6bf7b767-985a-445d-fa73-bc3b464cc7ec"
      },
      "execution_count": null,
      "outputs": [
        {
          "output_type": "execute_result",
          "data": {
            "text/plain": [
              "'Economy Sendai center Tōhoku regions economy base regions logistics transportation The GDP Greater Sendai Sendai Metropolitan Employment Area 16 million people US617 billion 20101617 Sendai city nominal GDP approximately US50 billion 201518 The citys economy heavily relies upon retail services two industries provide approximately two thirds employment close half establishments Sendai frequently called branchoffice economyby whom major companies headquartered city Various authorities cooperating alleviate problem primarily encouraging hightech ventures Tohoku University well known science engineering departments There also incentives startups available prefectural government19 Tohoku Electric Power major regional supplier electric power headquarters Sendai also operates ShinSendai Thermal Power Station located within city Sendais economic growth rate stabilized since 2011 Japan earthquake The growth rate 04 2011 quake created economic turmoil coastal areas The year after 2012 rate spiked 104 reconstruction efforts It since fallen closer trend expected 37 201320 Tourism 2016 attracted estimated 2229 million visitors Sendai'"
            ],
            "application/vnd.google.colaboratory.intrinsic+json": {
              "type": "string"
            }
          },
          "metadata": {},
          "execution_count": 44
        }
      ]
    },
    {
      "cell_type": "markdown",
      "source": [
        "- ()\n",
        "\n",
        "The grouping pattern is also very useful.The function will only return the elements in the ()."
      ],
      "metadata": {
        "id": "x3gxGJFB-n3b"
      }
    },
    {
      "cell_type": "code",
      "source": [
        "print(sample)\n",
        "re.findall('A(\\w+)',sample)"
      ],
      "metadata": {
        "colab": {
          "base_uri": "https://localhost:8080/"
        },
        "id": "wgip8YNv-0kQ",
        "outputId": "8c4d35b4-d5b6-43b5-8292-6c0becdb9415"
      },
      "execution_count": null,
      "outputs": [
        {
          "output_type": "stream",
          "name": "stdout",
          "text": [
            "Apple Act act 1001 a001b a%c $100 50 [1] 10.5 word_cloud 28.5 22.913 -31.2 \u0007a\n"
          ]
        },
        {
          "output_type": "execute_result",
          "data": {
            "text/plain": [
              "['pple', 'ct']"
            ]
          },
          "metadata": {},
          "execution_count": 122
        }
      ]
    },
    {
      "cell_type": "code",
      "source": [
        "a = '[fff]'\n",
        "\n",
        "re.findall('\\[\\w+\\]', a)\n",
        "\n"
      ],
      "metadata": {
        "colab": {
          "base_uri": "https://localhost:8080/"
        },
        "id": "1wZEGooTHQJx",
        "outputId": "18106471-2d6c-4f3b-839e-3ed8b54a3054"
      },
      "execution_count": null,
      "outputs": [
        {
          "output_type": "execute_result",
          "data": {
            "text/plain": [
              "['[fff]']"
            ]
          },
          "metadata": {},
          "execution_count": 54
        }
      ]
    },
    {
      "cell_type": "code",
      "source": [
        "a = '$$10 40'\n",
        "re.findall('\\$\\$(\\d+)', a)"
      ],
      "metadata": {
        "colab": {
          "base_uri": "https://localhost:8080/"
        },
        "id": "7X97LTRTHECr",
        "outputId": "cd80e06f-2322-48b3-c95d-1aa02b10e483"
      },
      "execution_count": null,
      "outputs": [
        {
          "output_type": "execute_result",
          "data": {
            "text/plain": [
              "['10']"
            ]
          },
          "metadata": {},
          "execution_count": 57
        }
      ]
    },
    {
      "cell_type": "markdown",
      "source": [
        "You can also group mutilple patterns."
      ],
      "metadata": {
        "id": "QzHkFX-6_X3d"
      }
    },
    {
      "cell_type": "code",
      "source": [
        "sample"
      ],
      "metadata": {
        "colab": {
          "base_uri": "https://localhost:8080/",
          "height": 36
        },
        "id": "qVaBaROrIG35",
        "outputId": "680b695d-659a-4fc2-cbfa-030d319cb8b5"
      },
      "execution_count": null,
      "outputs": [
        {
          "output_type": "execute_result",
          "data": {
            "text/plain": [
              "'Apple Act act 1001 a001b a%c $100 50 [1] 10.5 word_cloud 28.5 22.913 -31.2 \\x07a'"
            ],
            "application/vnd.google.colaboratory.intrinsic+json": {
              "type": "string"
            }
          },
          "metadata": {},
          "execution_count": 59
        }
      ]
    },
    {
      "cell_type": "code",
      "source": [
        "re.findall('(\\w+)_(\\w+)',sample)"
      ],
      "metadata": {
        "colab": {
          "base_uri": "https://localhost:8080/"
        },
        "id": "hqgsw0Rk_W5L",
        "outputId": "f341b317-ad57-4bf0-c673-152d3b042145"
      },
      "execution_count": null,
      "outputs": [
        {
          "output_type": "execute_result",
          "data": {
            "text/plain": [
              "[('word', 'cloud')]"
            ]
          },
          "metadata": {},
          "execution_count": 124
        }
      ]
    },
    {
      "cell_type": "markdown",
      "source": [
        "- | (or)"
      ],
      "metadata": {
        "id": "7W1TM8GO_vli"
      }
    },
    {
      "cell_type": "markdown",
      "source": [
        "You can easily split the results by using | and grouping"
      ],
      "metadata": {
        "id": "6uLlf7edAeGH"
      }
    },
    {
      "cell_type": "code",
      "source": [
        "groups = re.findall('(?<!\\w)([aA]\\w+)|([cC]\\w+)', sample)\n",
        "groups"
      ],
      "metadata": {
        "colab": {
          "base_uri": "https://localhost:8080/"
        },
        "id": "HcRdmYkw-r6U",
        "outputId": "980e1bec-9565-488c-c2fe-eaefbdab0e3d"
      },
      "execution_count": null,
      "outputs": [
        {
          "output_type": "execute_result",
          "data": {
            "text/plain": [
              "[('Apple', ''), ('Act', ''), ('act', ''), ('a001b', ''), ('', 'cloud')]"
            ]
          },
          "metadata": {},
          "execution_count": 127
        }
      ]
    },
    {
      "cell_type": "code",
      "source": [
        "apat = []\n",
        "cpat = []\n",
        "for a,c in groups:\n",
        "  if a != '':\n",
        "    apat.append(a)\n",
        "  if c!= '':\n",
        "    cpat.append(c)"
      ],
      "metadata": {
        "id": "iA0mCerTAdiA"
      },
      "execution_count": null,
      "outputs": []
    },
    {
      "cell_type": "code",
      "source": [
        "print(apat,cpat)"
      ],
      "metadata": {
        "colab": {
          "base_uri": "https://localhost:8080/"
        },
        "id": "zsexdxPNBEGC",
        "outputId": "daab1269-5b0d-4fe8-cf3c-b5a494cce87e"
      },
      "execution_count": null,
      "outputs": [
        {
          "output_type": "stream",
          "name": "stdout",
          "text": [
            "['Apple', 'Act', 'act', 'a001b'] ['cloud']\n"
          ]
        }
      ]
    },
    {
      "cell_type": "markdown",
      "metadata": {
        "id": "PFrSvUPtDL6G"
      },
      "source": [
        "### <font color='crimson'>**[Practice 4]Get all the numbers ** (remained time)</font>\n",
        "\n",
        "Extract all the numbers from `sample`. Include **integer**,**float**.\n",
        "\n",
        "* Do not forget the `-`."
      ]
    },
    {
      "cell_type": "code",
      "source": [
        "sample"
      ],
      "metadata": {
        "colab": {
          "base_uri": "https://localhost:8080/",
          "height": 36
        },
        "id": "hj29k_riInnf",
        "outputId": "e3bfc9b2-552b-470e-d2c8-1945df86ed31"
      },
      "execution_count": null,
      "outputs": [
        {
          "output_type": "execute_result",
          "data": {
            "text/plain": [
              "'Apple Act act 1001 a001b a%c $100 50 [1] 10.5 word_cloud 28.5 22.913 -31.2 \\x07a'"
            ],
            "application/vnd.google.colaboratory.intrinsic+json": {
              "type": "string"
            }
          },
          "metadata": {},
          "execution_count": 60
        }
      ]
    },
    {
      "cell_type": "code",
      "source": [
        "# oprate with text2\n",
        "print(sample)\n",
        "\n",
        "# Start here\n"
      ],
      "metadata": {
        "colab": {
          "base_uri": "https://localhost:8080/"
        },
        "outputId": "0d1d2361-d9a9-4da0-c725-4308796823fc",
        "id": "YjJeM1obDL6H"
      },
      "execution_count": null,
      "outputs": [
        {
          "output_type": "stream",
          "name": "stdout",
          "text": [
            "Apple Act act 1001 a001b a%c $100 50 [1] 10.5 word_cloud 28.5 22.913 -31.2 \u0007a\n"
          ]
        },
        {
          "output_type": "execute_result",
          "data": {
            "text/plain": [
              "['Apple', 'Act', 'act', 'a%c', 'word_cloud']"
            ]
          },
          "metadata": {},
          "execution_count": 36
        }
      ]
    },
    {
      "cell_type": "markdown",
      "metadata": {
        "id": "iiHLERmOl2aO"
      },
      "source": [
        "## 7.3 <font color=\"Crimson\">**Japanese with MeCab**</font>"
      ]
    },
    {
      "cell_type": "markdown",
      "metadata": {
        "id": "nk81Wj12W4Zv"
      },
      "source": [
        "<div align=\"center\">\n",
        "<img src=\"https://drive.google.com/uc?export=view&id=18TIYjPvUegKT59kiLMU_xnMRFkOQn9I0\" width=\"60%\">\n",
        "</div>\n",
        "\n",
        "To analyze Japanese text, you must first **morphological analysis**.\n",
        "to separate words.\n",
        "\n",
        "The most famous morphological analysis tools in python are **Mecab** and **Janome**. Here we use **Mecab**."
      ]
    },
    {
      "cell_type": "markdown",
      "metadata": {
        "id": "aCfBvNqXlgGX"
      },
      "source": [
        "## <font color='crimson'>**Install MeCab**</font>\n",
        "\n",
        "It takes around 1 minute."
      ]
    },
    {
      "cell_type": "code",
      "execution_count": null,
      "metadata": {
        "colab": {
          "base_uri": "https://localhost:8080/"
        },
        "id": "793B8-4rlEig",
        "outputId": "45c24304-3bed-41db-fc38-72c3b04b1513"
      },
      "outputs": [
        {
          "output_type": "stream",
          "name": "stdout",
          "text": [
            "Reading package lists... Done\n",
            "Building dependency tree       \n",
            "Reading state information... Done\n",
            "aptitude is already the newest version (0.8.12-1ubuntu4).\n",
            "0 upgraded, 0 newly installed, 0 to remove and 15 not upgraded.\n",
            "mecab is already installed at the requested version (0.996-10build1)\n",
            "libmecab-dev is already installed at the requested version (0.996-10build1)\n",
            "mecab-ipadic-utf8 is already installed at the requested version (2.7.0-20070801+main-2.1)\n",
            "git is already installed at the requested version (1:2.25.1-1ubuntu3.11)\n",
            "make is already installed at the requested version (4.2.1-1.2)\n",
            "curl is already installed at the requested version (7.68.0-1ubuntu2.18)\n",
            "xz-utils is already installed at the requested version (5.2.4-1ubuntu1.1)\n",
            "file is already installed at the requested version (1:5.38-4)\n",
            "mecab is already installed at the requested version (0.996-10build1)\n",
            "libmecab-dev is already installed at the requested version (0.996-10build1)\n",
            "mecab-ipadic-utf8 is already installed at the requested version (2.7.0-20070801+main-2.1)\n",
            "git is already installed at the requested version (1:2.25.1-1ubuntu3.11)\n",
            "make is already installed at the requested version (4.2.1-1.2)\n",
            "curl is already installed at the requested version (7.68.0-1ubuntu2.18)\n",
            "xz-utils is already installed at the requested version (5.2.4-1ubuntu1.1)\n",
            "file is already installed at the requested version (1:5.38-4)\n",
            "No packages will be installed, upgraded, or removed.\n",
            "0 packages upgraded, 0 newly installed, 0 to remove and 15 not upgraded.\n",
            "Need to get 0 B of archives. After unpacking 0 B will be used.\n",
            "                            \n",
            "Looking in indexes: https://pypi.org/simple, https://us-python.pkg.dev/colab-wheels/public/simple/\n",
            "Requirement already satisfied: mecab-python3==0.7 in /usr/local/lib/python3.10/dist-packages (0.7)\n"
          ]
        }
      ],
      "source": [
        "!apt install aptitude\n",
        "!aptitude install mecab libmecab-dev mecab-ipadic-utf8 git make curl xz-utils file -y\n",
        "!pip install mecab-python3==0.7"
      ]
    },
    {
      "cell_type": "code",
      "execution_count": null,
      "metadata": {
        "collapsed": true,
        "id": "IGWVvWGVk3X5",
        "scrolled": true
      },
      "outputs": [],
      "source": [
        "import MeCab # Import module\n",
        "t = MeCab.Tagger() # Define the Tagger"
      ]
    },
    {
      "cell_type": "markdown",
      "metadata": {
        "id": "fOJAfTh2kCGn"
      },
      "source": [
        "You can specify the document you want to analyze with <font color='crimson'>`t.parse(document)`</font>."
      ]
    },
    {
      "cell_type": "code",
      "execution_count": null,
      "metadata": {
        "colab": {
          "base_uri": "https://localhost:8080/"
        },
        "id": "1bWY1Gjek3X8",
        "outputId": "fe7e730e-4c97-4bd1-b8ce-e8808b2dba85"
      },
      "outputs": [
        {
          "output_type": "stream",
          "name": "stdout",
          "text": [
            "python\t名詞,固有名詞,組織,*,*,*,*\n",
            "は\t助詞,係助詞,*,*,*,*,は,ハ,ワ\n",
            "今\t名詞,副詞可能,*,*,*,*,今,イマ,イマ\n",
            "結構\t副詞,一般,*,*,*,*,結構,ケッコウ,ケッコー\n",
            "流行っ\t動詞,自立,*,*,五段・ラ行,連用タ接続,流行る,ハヤッ,ハヤッ\n",
            "てる\t動詞,非自立,*,*,一段,基本形,てる,テル,テル\n",
            "。\t記号,句点,*,*,*,*,。,。,。\n",
            "EOS\n",
            "\n"
          ]
        }
      ],
      "source": [
        "print( t.parse(\"pythonは今結構流行ってる。\"))"
      ]
    },
    {
      "cell_type": "markdown",
      "metadata": {
        "id": "aqplQW5YZ0gv"
      },
      "source": [
        "<div align=\"center\">\n",
        "<img src=\"https://drive.google.com/uc?export=view&id=18asDSO-LCuy5px4x6ldvItO6-i3ULOJz\" width=\"60%\">\n",
        "</div>\n",
        "\n"
      ]
    },
    {
      "cell_type": "markdown",
      "metadata": {
        "id": "OnGnKVjBnI31"
      },
      "source": [
        "If you make this into a function, you can then use `get_words()` to separate words.\n",
        "\n",
        "Check the status of processing at each stage with debug.\n",
        "\n",
        "`input`:text\n",
        "\n",
        "`conditions`:list of parts of speech to be taken, e.g. ['noun','adjective'].\n",
        "\n",
        "`debug`:Debug switch for a closer look"
      ]
    },
    {
      "cell_type": "code",
      "execution_count": null,
      "metadata": {
        "id": "lzudCP8wk3X-"
      },
      "outputs": [],
      "source": [
        "text = \"pythonは今結構流行ってる。\"\n",
        "def get_words(text,conditions, debug=False):\n",
        "    t = MeCab.Tagger()\n",
        "    tmp = t.parse(text)\n",
        "    if debug:\n",
        "      print('Debug Log 1 (parse):\\n', tmp)\n",
        "    tmp = [line.split(\"\\t\") for line in tmp.split(\"\\n\")][:-2]  # <- Explained below\n",
        "    if debug:\n",
        "      print('Debug Log 2 (split):\\n', tmp)\n",
        "    words = []\n",
        "    for i in tmp: # each word\n",
        "        if i[1].split(\",\")[0] in conditions: # choose such as verb(動詞), noun(名詞) as condition.\n",
        "            words.append(i[0])\n",
        "    return words"
      ]
    },
    {
      "cell_type": "markdown",
      "metadata": {
        "id": "2JR4yfLVlnpw"
      },
      "source": [
        "`[line.split(\"\\t\") for line in tmp.split(\"\\n\")][:-2]`"
      ]
    },
    {
      "cell_type": "code",
      "execution_count": null,
      "metadata": {
        "colab": {
          "base_uri": "https://localhost:8080/"
        },
        "id": "l73LjSS4loCa",
        "outputId": "16c45a12-0ea9-4485-d93c-2a18e6e7e59f"
      },
      "outputs": [
        {
          "output_type": "stream",
          "name": "stdout",
          "text": [
            "python\t名詞,固有名詞,組織,*,*,*,*\n",
            "は\t助詞,係助詞,*,*,*,*,は,ハ,ワ\n",
            "今\t名詞,副詞可能,*,*,*,*,今,イマ,イマ\n",
            "結構\t副詞,一般,*,*,*,*,結構,ケッコウ,ケッコー\n",
            "流行っ\t動詞,自立,*,*,五段・ラ行,連用タ接続,流行る,ハヤッ,ハヤッ\n",
            "てる\t動詞,非自立,*,*,一段,基本形,てる,テル,テル\n",
            "。\t記号,句点,*,*,*,*,。,。,。\n",
            "EOS\n",
            "\n"
          ]
        }
      ],
      "source": [
        "t = MeCab.Tagger()\n",
        "tmp = t.parse(text)\n",
        "print(tmp)"
      ]
    },
    {
      "cell_type": "markdown",
      "metadata": {
        "id": "JB9O1wr8lz_n"
      },
      "source": [
        "Although it is hidden by print(), each row is actually delimited by \\n and each column is delimited by \\t(tab)."
      ]
    },
    {
      "cell_type": "code",
      "execution_count": null,
      "metadata": {
        "colab": {
          "base_uri": "https://localhost:8080/",
          "height": 53
        },
        "id": "wu1r6fUulvcy",
        "outputId": "30436cde-cb45-4ebb-fd1e-c4caa6b2e968"
      },
      "outputs": [
        {
          "output_type": "execute_result",
          "data": {
            "text/plain": [
              "'python\\t名詞,固有名詞,組織,*,*,*,*\\nは\\t助詞,係助詞,*,*,*,*,は,ハ,ワ\\n今\\t名詞,副詞可能,*,*,*,*,今,イマ,イマ\\n結構\\t副詞,一般,*,*,*,*,結構,ケッコウ,ケッコー\\n流行っ\\t動詞,自立,*,*,五段・ラ行,連用タ接続,流行る,ハヤッ,ハヤッ\\nてる\\t動詞,非自立,*,*,一段,基本形,てる,テル,テル\\n。\\t記号,句点,*,*,*,*,。,。,。\\nEOS\\n'"
            ],
            "application/vnd.google.colaboratory.intrinsic+json": {
              "type": "string"
            }
          },
          "metadata": {},
          "execution_count": 61
        }
      ],
      "source": [
        "tmp"
      ]
    },
    {
      "cell_type": "markdown",
      "metadata": {
        "id": "f_tF-34xmai3"
      },
      "source": [
        "split the lines using `tmp.split()`"
      ]
    },
    {
      "cell_type": "code",
      "execution_count": null,
      "metadata": {
        "colab": {
          "base_uri": "https://localhost:8080/"
        },
        "id": "rf-mRXSbmWMg",
        "outputId": "56a2712f-a3dc-4ec6-ed25-128e5c85e4d3"
      },
      "outputs": [
        {
          "output_type": "execute_result",
          "data": {
            "text/plain": [
              "['python\\t名詞,固有名詞,組織,*,*,*,*',\n",
              " 'は\\t助詞,係助詞,*,*,*,*,は,ハ,ワ',\n",
              " '今\\t名詞,副詞可能,*,*,*,*,今,イマ,イマ',\n",
              " '結構\\t副詞,一般,*,*,*,*,結構,ケッコウ,ケッコー',\n",
              " '流行っ\\t動詞,自立,*,*,五段・ラ行,連用タ接続,流行る,ハヤッ,ハヤッ',\n",
              " 'てる\\t動詞,非自立,*,*,一段,基本形,てる,テル,テル',\n",
              " '。\\t記号,句点,*,*,*,*,。,。,。',\n",
              " 'EOS',\n",
              " '']"
            ]
          },
          "metadata": {},
          "execution_count": 62
        }
      ],
      "source": [
        "lines = tmp.split('\\n')\n",
        "lines"
      ]
    },
    {
      "cell_type": "markdown",
      "metadata": {
        "id": "52kOuyhHmk_n"
      },
      "source": [
        "Then, we need to split by tab for each line."
      ]
    },
    {
      "cell_type": "code",
      "execution_count": null,
      "metadata": {
        "colab": {
          "base_uri": "https://localhost:8080/"
        },
        "id": "HTv-_O3VmsTR",
        "outputId": "97185d87-2a46-4159-d454-8f9642a0798e"
      },
      "outputs": [
        {
          "output_type": "execute_result",
          "data": {
            "text/plain": [
              "[['python', '名詞,固有名詞,組織,*,*,*,*'],\n",
              " ['は', '助詞,係助詞,*,*,*,*,は,ハ,ワ'],\n",
              " ['今', '名詞,副詞可能,*,*,*,*,今,イマ,イマ'],\n",
              " ['結構', '副詞,一般,*,*,*,*,結構,ケッコウ,ケッコー'],\n",
              " ['流行っ', '動詞,自立,*,*,五段・ラ行,連用タ接続,流行る,ハヤッ,ハヤッ'],\n",
              " ['てる', '動詞,非自立,*,*,一段,基本形,てる,テル,テル'],\n",
              " ['。', '記号,句点,*,*,*,*,。,。,。'],\n",
              " ['EOS'],\n",
              " ['']]"
            ]
          },
          "metadata": {},
          "execution_count": 63
        }
      ],
      "source": [
        "[line.split('\\t') for line in lines]"
      ]
    },
    {
      "cell_type": "markdown",
      "metadata": {
        "id": "Xs_LWH_Ym6j4"
      },
      "source": [
        "In summary, the code is as follows. The reason for [:-2] is that the last two are always ['EOS'],[''] and are not needed for the analysis, so they are truncated. The [:-2] means to take the second from the back (not including)."
      ]
    },
    {
      "cell_type": "code",
      "execution_count": null,
      "metadata": {
        "colab": {
          "base_uri": "https://localhost:8080/"
        },
        "id": "TKyDEDuvmkn_",
        "outputId": "45c03a5a-87dd-4c9c-a5c7-9cb49c0b8309"
      },
      "outputs": [
        {
          "output_type": "execute_result",
          "data": {
            "text/plain": [
              "[['python', '名詞,固有名詞,組織,*,*,*,*'],\n",
              " ['は', '助詞,係助詞,*,*,*,*,は,ハ,ワ'],\n",
              " ['今', '名詞,副詞可能,*,*,*,*,今,イマ,イマ'],\n",
              " ['結構', '副詞,一般,*,*,*,*,結構,ケッコウ,ケッコー'],\n",
              " ['流行っ', '動詞,自立,*,*,五段・ラ行,連用タ接続,流行る,ハヤッ,ハヤッ'],\n",
              " ['てる', '動詞,非自立,*,*,一段,基本形,てる,テル,テル'],\n",
              " ['。', '記号,句点,*,*,*,*,。,。,。']]"
            ]
          },
          "metadata": {},
          "execution_count": 64
        }
      ],
      "source": [
        "tmp2 = [line.split(\"\\t\") for line in tmp.split(\"\\n\")][:-2]\n",
        "tmp2"
      ]
    },
    {
      "cell_type": "markdown",
      "metadata": {
        "id": "a3TI7fKnnYA9"
      },
      "source": [
        "Experiment"
      ]
    },
    {
      "cell_type": "code",
      "execution_count": null,
      "metadata": {
        "colab": {
          "base_uri": "https://localhost:8080/"
        },
        "id": "nk_JtQpznYs9",
        "outputId": "56c5a7ee-7a43-412b-cec3-045376213d8e"
      },
      "outputs": [
        {
          "output_type": "stream",
          "name": "stdout",
          "text": [
            "Debug Log 1 (parse):\n",
            " python\t名詞,固有名詞,組織,*,*,*,*\n",
            "は\t助詞,係助詞,*,*,*,*,は,ハ,ワ\n",
            "今\t名詞,副詞可能,*,*,*,*,今,イマ,イマ\n",
            "結構\t副詞,一般,*,*,*,*,結構,ケッコウ,ケッコー\n",
            "流行っ\t動詞,自立,*,*,五段・ラ行,連用タ接続,流行る,ハヤッ,ハヤッ\n",
            "てる\t動詞,非自立,*,*,一段,基本形,てる,テル,テル\n",
            "。\t記号,句点,*,*,*,*,。,。,。\n",
            "EOS\n",
            "\n",
            "Debug Log 2 (split):\n",
            " [['python', '名詞,固有名詞,組織,*,*,*,*'], ['は', '助詞,係助詞,*,*,*,*,は,ハ,ワ'], ['今', '名詞,副詞可能,*,*,*,*,今,イマ,イマ'], ['結構', '副詞,一般,*,*,*,*,結構,ケッコウ,ケッコー'], ['流行っ', '動詞,自立,*,*,五段・ラ行,連用タ接続,流行る,ハヤッ,ハヤッ'], ['てる', '動詞,非自立,*,*,一段,基本形,てる,テル,テル'], ['。', '記号,句点,*,*,*,*,。,。,。']]\n",
            "1 ['python', '今', '流行っ', 'てる']\n"
          ]
        }
      ],
      "source": [
        "words = get_words(text,[\"名詞\",\"動詞\"], debug=True) # noun, verb only\n",
        "print('1', words)"
      ]
    },
    {
      "cell_type": "code",
      "execution_count": null,
      "metadata": {
        "colab": {
          "base_uri": "https://localhost:8080/"
        },
        "id": "LOnsIvitlRYQ",
        "outputId": "00785c2a-dd28-4173-e62d-f7ece16ba9e4"
      },
      "outputs": [
        {
          "output_type": "stream",
          "name": "stdout",
          "text": [
            "2 寝よ し い\n"
          ]
        }
      ],
      "source": [
        "# debugをなしの簡略化バージョン\n",
        "def get_words(text,conditions, debug=False):\n",
        "    t = MeCab.Tagger()\n",
        "    tmp = t.parse(text)\n",
        "    tmp = [line.split(\"\\t\") for line in tmp.split(\"\\n\")][:-2]\n",
        "    words = []\n",
        "    for i in tmp:\n",
        "        if i[1].split(\",\")[0] in conditions:\n",
        "            words.append(i[0])\n",
        "    return words\n",
        "\n",
        "print('2', ' '.join(get_words('私は今寝ようとしています。',[\"動詞\"])))"
      ]
    }
  ],
  "metadata": {
    "colab": {
      "provenance": [],
      "include_colab_link": true
    },
    "kernelspec": {
      "display_name": "Python 3",
      "name": "python3"
    },
    "language_info": {
      "name": "python"
    }
  },
  "nbformat": 4,
  "nbformat_minor": 0
}