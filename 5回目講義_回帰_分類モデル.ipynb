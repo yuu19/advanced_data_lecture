{
  "nbformat": 4,
  "nbformat_minor": 0,
  "metadata": {
    "colab": {
      "provenance": [],
      "include_colab_link": true
    },
    "kernelspec": {
      "name": "python3",
      "display_name": "Python 3"
    },
    "language_info": {
      "name": "python"
    }
  },
  "cells": [
    {
      "cell_type": "markdown",
      "metadata": {
        "id": "view-in-github",
        "colab_type": "text"
      },
      "source": [
        "<a href=\"https://colab.research.google.com/github/yuu19/advanced_data_lecture/blob/main/ADS_Weekly_Task_5_ipynb_%E3%81%AE%E3%82%B3%E3%83%94%E3%83%BC_%E3%81%AE%E3%82%B3%E3%83%94%E3%83%BC.ipynb\" target=\"_parent\"><img src=\"https://colab.research.google.com/assets/colab-badge.svg\" alt=\"Open In Colab\"/></a>"
      ]
    },
    {
      "cell_type": "markdown",
      "source": [
        "## Do not forget to make a copy before you start!\n",
        "\n",
        "## **<font color='crimson'> Deadline: 2023/05/31 23:59:00 </font>**\n",
        "\n"
      ],
      "metadata": {
        "id": "RctKQEpjTYYa"
      }
    },
    {
      "cell_type": "markdown",
      "source": [
        "## How to assign your weekly task to Google classroom\n",
        "\n",
        "- **Recommended:**\n",
        "\n",
        "  -  Once you copy the task to your own driver, the task colab file is in the [Colab Notebook] folder in you google driver.\n",
        "  -  Just upload the task **ipynb** file to the Google Classroom.\n",
        "\n",
        "  - Do not forget to save your colab file before uploading.\n",
        "\n",
        "\n",
        "- Another way:\n",
        "\n",
        "\n",
        "- 1. Download the colab file using **'File - download - .ipynb'** in the menu bar.\n",
        "\n",
        "- 2. You will get a ipynb file in your local laptop, then upload the file to the Google Classroom.\n",
        "\n"
      ],
      "metadata": {
        "id": "4oR_ySp1TsZX"
      }
    },
    {
      "cell_type": "markdown",
      "source": [
        "###<font color='crimson'>[Task 1] Regression</font>\n",
        "\n",
        "Using the following dataset,\n",
        "\n",
        "https://raw.githubusercontent.com/dgod1028/Research/main/data/boston.csv\n",
        "\n",
        "The interpretation for the variables are in the following website.\n",
        "[Boston House price](https://www.kaggle.com/datasets/fedesoriano/the-boston-houseprice-data)\n",
        "\n",
        "1. Remaining 20% of data as test data.\n",
        "\n",
        "1. Predict **Median value of owner-occupied homes in $1000's [k$]** using other variables.\n",
        "\n",
        "1. Try with at least 3 models including linear regression, Evaluate the models using RMSE.\n",
        "\n",
        "1. According to the linear regression, what is the relationship between variable CRIM and target variable? Please interpret.\n"
      ],
      "metadata": {
        "id": "qm5ZdaMHdbo8"
      }
    },
    {
      "cell_type": "code",
      "source": [
        "# Task 1\n",
        "import pandas as pd\n",
        "from sklearn.model_selection import train_test_split\n",
        "from sklearn.linear_model import LinearRegression\n",
        "from sklearn.metrics import mean_squared_error\n",
        "\n",
        "df = pd.read_csv(\"https://raw.githubusercontent.com/dgod1028/Research/main/data/boston.csv\")\n",
        "df.head()\n",
        "X = df.drop(\"MEDV\", axis=1)\n",
        "y = df[[\"MEDV\"]]\n",
        "X_train, X_test, y_train, y_test = train_test_split(X, y,test_size = 0.2, random_state=36)\n",
        "lr = LinearRegression()\n",
        "lr.fit(X_train, y_train)\n",
        "y_pred_lr = lr.predict(X_test)\n",
        "rmse_lr = np.sqrt(mean_squared_error(y_test, y_pred_lr))\n",
        "print(\"回帰分析を用いた場合のRMSEは{:3f}\".format(rmse_lr))\n"
      ],
      "metadata": {
        "id": "DY-1JD3idbJh",
        "colab": {
          "base_uri": "https://localhost:8080/"
        },
        "outputId": "ccf13b69-a433-4917-f00e-b5f4f6440db5"
      },
      "execution_count": null,
      "outputs": [
        {
          "output_type": "stream",
          "name": "stdout",
          "text": [
            "回帰分析を用いた場合のRMSEは5.256173\n",
            "      CRIM    ZN  INDUS  CHAS    NOX     RM   AGE     DIS  RAD    TAX  \\\n",
            "0  0.00632  18.0   2.31     0  0.538  6.575  65.2  4.0900    1  296.0   \n",
            "1  0.02731   0.0   7.07     0  0.469  6.421  78.9  4.9671    2  242.0   \n",
            "2  0.02729   0.0   7.07     0  0.469  7.185  61.1  4.9671    2  242.0   \n",
            "3  0.03237   0.0   2.18     0  0.458  6.998  45.8  6.0622    3  222.0   \n",
            "4  0.06905   0.0   2.18     0  0.458  7.147  54.2  6.0622    3  222.0   \n",
            "\n",
            "   PTRATIO       B  LSTAT  \n",
            "0     15.3  396.90   4.98  \n",
            "1     17.8  396.90   9.14  \n",
            "2     17.8  392.83   4.03  \n",
            "3     18.7  394.63   2.94  \n",
            "4     18.7  396.90   5.33  \n"
          ]
        }
      ]
    },
    {
      "cell_type": "code",
      "source": [
        "#ラッソ回帰とリッジ回帰を行った場合のRMSE\n",
        "from sklearn.linear_model import Lasso, Ridge\n",
        "\n",
        "# Model 2: Lasso Regression\n",
        "lasso = Lasso()\n",
        "lasso.fit(X_train, y_train)\n",
        "y_pred_lasso = lasso.predict(X_test)\n",
        "rmse_lasso = np.sqrt(mean_squared_error(y_test, y_pred_lasso))\n",
        "print(\"Lasso回帰を用いた場合のRMSEは{:3f}\".format(rmse_lasso))\n",
        "# Model 3: Ridge Regression\n",
        "ridge = Ridge()\n",
        "ridge.fit(X_train, y_train)\n",
        "y_pred_ridge = ridge.predict(X_test)\n",
        "rmse_ridge = np.sqrt(mean_squared_error(y_test, y_pred_ridge))\n",
        "print(\"Lidge回帰を用いた場合のRMSEは{:3f}\".format(rmse_ridge))"
      ],
      "metadata": {
        "colab": {
          "base_uri": "https://localhost:8080/"
        },
        "id": "G_zLBf3ROGHz",
        "outputId": "f572db0b-212e-4e06-dc0d-24359f699a10"
      },
      "execution_count": null,
      "outputs": [
        {
          "output_type": "stream",
          "name": "stdout",
          "text": [
            "Lasso回帰を用いた場合のRMSEは5.747852\n",
            "Lidge回帰を用いた場合のRMSEは5.317377\n"
          ]
        }
      ]
    },
    {
      "cell_type": "code",
      "source": [
        "# Obtain the coefficient and intercept from the linear regression model\n",
        "coefficient = lr.coef_\n",
        "intercept = lr.intercept_\n",
        "print(\"CRIMの係数\", coefficient[0])\n",
        "print(\"Intercept:\", intercept)\n",
        "\n",
        "# Print the coefficient and interpret its relationship with the target variable\n",
        "#print(\"Coefficient (CRIM):\", coefficient[0])\n",
        "#print(\"Intercept:\", intercept)"
      ],
      "metadata": {
        "colab": {
          "base_uri": "https://localhost:8080/"
        },
        "id": "uitLNwUaPPbl",
        "outputId": "08cae4f2-1a32-4f95-faed-2013a0901a39"
      },
      "execution_count": null,
      "outputs": [
        {
          "output_type": "stream",
          "name": "stdout",
          "text": [
            "CRIMの係数 [-9.68588635e-02  4.41502396e-02  2.70280090e-02  3.03963260e+00\n",
            " -1.53461017e+01  3.99326094e+00 -9.00548463e-03 -1.49233358e+00\n",
            "  2.58415546e-01 -1.09402661e-02 -9.43126562e-01  1.15429577e-02\n",
            " -5.41350659e-01]\n",
            "Intercept: [33.61344487]\n"
          ]
        }
      ]
    },
    {
      "cell_type": "markdown",
      "source": [
        "###<font color='crimson'>[Task 2] Classification</font>\n",
        "\n",
        "Using the following dataset,\n",
        "\n",
        "https://raw.githubusercontent.com/dgod1028/Research/main/data/gender_classification.csv\n",
        "\n",
        "1. Preprocessing the data.\n",
        "\n",
        " 1. Use `Gender` as target variable $y$, others as $X$.\n",
        "\n",
        " 1. Remaining 20% of data as test data.\n",
        "\n",
        " 1. Other preprocessing on demand.\n",
        "\n",
        "1. Try with at least 3 models including decision tree(the same model with different parameters are also OK, e.g., change the max_depth parameter for decision tree), Evaluate the models using F1 score.\n",
        "\n",
        "1. Using decision tree, plot top 5 variables according to the **variable importance**.\n",
        "\n",
        "1. What is the probability of the Gender=M if this person has follwoing demographic -  `[Cool,Pop,Doesn't drink, Fanta]`?\n",
        "\n",
        "★ Challenge ★\n",
        "\n",
        "1. Try to change the target variable to 'Favorite Beverage', use Random Forest as the classifier. Evaluate the model using confusion matrix.(precision, recall, F1 score is not available for non-binary classification problem.)"
      ],
      "metadata": {
        "id": "r-hdxvvEYJe0"
      }
    },
    {
      "cell_type": "code",
      "source": [
        "# Task 2\n",
        "import numpy as np\n",
        "import pandas as pd\n",
        "import matplotlib.pyplot as plt\n",
        "from sklearn.model_selection import train_test_split\n",
        "from sklearn.tree import DecisionTreeClassifier\n",
        "from sklearn import tree\n",
        "from sklearn.metrics import f1_score\n",
        "df = pd.read_csv(\"https://raw.githubusercontent.com/dgod1028/Research/main/data/gender_classification.csv\")\n",
        "\n",
        "#性別をダミー変数に変換\n",
        "df[[\"Gender\"]] = df[[\"Gender\"]].replace({'F': 0, 'M': 1})\n",
        "columns_to_convert = ['Favorite Color', 'Favorite Music Genre', 'Favorite Beverage', 'Favorite Soft Drink']\n",
        "newdf = pd.get_dummies(df, columns=columns_to_convert, drop_first=True)\n",
        "\n",
        "X = newdf.drop(\"Gender\", axis=1)\n",
        "y = newdf[\"Gender\"]\n",
        "X_train, X_test, y_train, y_test = train_test_split(X, y, test_size = 0.2, random_state=42)"
      ],
      "metadata": {
        "id": "LASAZISy7he5"
      },
      "execution_count": null,
      "outputs": []
    },
    {
      "cell_type": "code",
      "source": [
        "#決定木でそれぞれ深さを3. 5. 7にした場合のf1スコア\n",
        "model_1 = DecisionTreeClassifier(max_depth = 3)\n",
        "model_2 = DecisionTreeClassifier(max_depth = 5)\n",
        "model_3 = DecisionTreeClassifier(max_depth = 7)\n",
        "model_1.fit(X_train, y_train)\n",
        "model_2.fit(X_train, y_train)\n",
        "model_3.fit(X_train, y_train)\n",
        "y_1_pred = model_1.predict(X_test)\n",
        "y_2_pred = model_2.predict(X_test)\n",
        "y_3_pred = model_3.predict(X_test)\n",
        "print(\"max_depthが3の時の、f1スコアは{}\".format(f1_score(y_test,y_1_pred)))\n",
        "print(\"max_depthが5の時の、f1スコアは{}\".format(f1_score(y_test,y_2_pred)))\n",
        "print(\"max_depthが7の時の、f1スコアは{}\".format(f1_score(y_test,y_3_pred)))\n",
        "\n",
        "#降順に5つ大きいものを並べる\n",
        "importance = model_1.feature_importances_\n",
        "labels = X.columns[np.argsort(importance)[::-1]]\n",
        "importance = np.sort(importance)[::-1]\n",
        "labels_5 = labels[0:5]\n",
        "importance_5 = importance[0:5]\n",
        "print(importance_5)\n",
        "plt.bar(range(5), importance_5, tick_label =labels_5, align =\"center\")\n",
        "predict_1 = model_1.predict(X_test)\n",
        "f1 = f1_score(y_test, predict_1)\n",
        "print(\"f1スコアは{:.3f}\".format(f1))"
      ],
      "metadata": {
        "colab": {
          "base_uri": "https://localhost:8080/",
          "height": 520
        },
        "id": "dKJSFWs57let",
        "outputId": "e33fd18d-1e73-4ac5-fd3c-432c382fba8f"
      },
      "execution_count": null,
      "outputs": [
        {
          "output_type": "stream",
          "name": "stdout",
          "text": [
            "max_depthが3の時の、f1スコアは0.22222222222222224\n",
            "max_depthが5の時の、f1スコアは0.5454545454545454\n",
            "max_depthが7の時の、f1スコアは0.6666666666666666\n",
            "[0.24653774 0.24639407 0.14532222 0.13073971 0.11962773]\n",
            "f1スコアは0.222\n"
          ]
        },
        {
          "output_type": "display_data",
          "data": {
            "text/plain": [
              "<Figure size 640x480 with 1 Axes>"
            ],
            "image/png": "[encoded data removed]"
          },
          "metadata": {}
        }
      ]
    }
  ]
}
